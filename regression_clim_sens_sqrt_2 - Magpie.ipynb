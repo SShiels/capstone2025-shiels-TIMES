{
 "cells": [
  {
   "cell_type": "markdown",
   "metadata": {},
   "source": [
    "# Regression - clim_sens and sqrt\n",
    "\n",
    "In this notebook we create many regression models - baselines and GPSR.\n",
    "\n",
    "We generate results files.\n",
    "\n",
    "This notebook requires the output from the data cleaning and data exploration notebooks.\n",
    "\n",
    "The *main* regression notebook gives main results. This notebook tries some alternate versions: climate sensitivity is truncated and we introduce sqrt to the language.\n"
   ]
  },
  {
   "cell_type": "code",
   "execution_count": 2,
   "metadata": {},
   "outputs": [
    {
     "name": "stderr",
     "output_type": "stream",
     "text": [
      "c:\\Users\\Sophie\\OneDrive - National University of Ireland, Galway\\Y1S2\\Thesis\\SHAP + RFR or PySR or NN\\capstone2025-shiels-TIMES\\.venv\\Lib\\site-packages\\tqdm\\auto.py:21: TqdmWarning: IProgress not found. Please update jupyter and ipywidgets. See https://ipywidgets.readthedocs.io/en/stable/user_install.html\n",
      "  from .autonotebook import tqdm as notebook_tqdm\n"
     ]
    },
    {
     "data": {
      "text/html": [
       "<div>\n",
       "<style scoped>\n",
       "    .dataframe tbody tr th:only-of-type {\n",
       "        vertical-align: middle;\n",
       "    }\n",
       "\n",
       "    .dataframe tbody tr th {\n",
       "        vertical-align: top;\n",
       "    }\n",
       "\n",
       "    .dataframe thead th {\n",
       "        text-align: right;\n",
       "    }\n",
       "</style>\n",
       "<table border=\"1\" class=\"dataframe\">\n",
       "  <thead>\n",
       "    <tr style=\"text-align: right;\">\n",
       "      <th></th>\n",
       "      <th>Scenario</th>\n",
       "      <th>SOW</th>\n",
       "      <th>Temp_Limit</th>\n",
       "      <th>Delay</th>\n",
       "      <th>GDP</th>\n",
       "      <th>Pop</th>\n",
       "      <th>Other_ESD_Drivers</th>\n",
       "      <th>SDR</th>\n",
       "      <th>Elast_ESD_Driver</th>\n",
       "      <th>Elast_ESD_Price</th>\n",
       "      <th>...</th>\n",
       "      <th>GSupply_Geothermal</th>\n",
       "      <th>GSupply_Nuclear</th>\n",
       "      <th>GSupply_Solar</th>\n",
       "      <th>GSupply_Tidal_Waves</th>\n",
       "      <th>GSupply_Wind</th>\n",
       "      <th>GConsumption</th>\n",
       "      <th>GConsumption_Fossil</th>\n",
       "      <th>GConsumption_Nuclear</th>\n",
       "      <th>GConsumption_Renewable</th>\n",
       "      <th>GCost</th>\n",
       "    </tr>\n",
       "  </thead>\n",
       "  <tbody>\n",
       "    <tr>\n",
       "      <th>0</th>\n",
       "      <td>BASE_SSP2</td>\n",
       "      <td>1</td>\n",
       "      <td>8.0</td>\n",
       "      <td>0</td>\n",
       "      <td>1.02329</td>\n",
       "      <td>1.009280</td>\n",
       "      <td>1.063100</td>\n",
       "      <td>3.70267</td>\n",
       "      <td>1.013020</td>\n",
       "      <td>1.216860</td>\n",
       "      <td>...</td>\n",
       "      <td>1.907061</td>\n",
       "      <td>4.167604</td>\n",
       "      <td>5.115586</td>\n",
       "      <td>2.424417</td>\n",
       "      <td>5.161512</td>\n",
       "      <td>812.092289</td>\n",
       "      <td>539.893683</td>\n",
       "      <td>43.075844</td>\n",
       "      <td>229.122762</td>\n",
       "      <td>24.788425</td>\n",
       "    </tr>\n",
       "    <tr>\n",
       "      <th>4</th>\n",
       "      <td>BASE_SSP2</td>\n",
       "      <td>5</td>\n",
       "      <td>8.0</td>\n",
       "      <td>0</td>\n",
       "      <td>1.00481</td>\n",
       "      <td>0.997576</td>\n",
       "      <td>1.127530</td>\n",
       "      <td>3.46723</td>\n",
       "      <td>1.087940</td>\n",
       "      <td>1.118800</td>\n",
       "      <td>...</td>\n",
       "      <td>1.915827</td>\n",
       "      <td>4.226128</td>\n",
       "      <td>5.810294</td>\n",
       "      <td>2.516766</td>\n",
       "      <td>6.502266</td>\n",
       "      <td>874.573547</td>\n",
       "      <td>592.973597</td>\n",
       "      <td>43.678409</td>\n",
       "      <td>237.921540</td>\n",
       "      <td>26.175837</td>\n",
       "    </tr>\n",
       "    <tr>\n",
       "      <th>5</th>\n",
       "      <td>BASE_SSP2</td>\n",
       "      <td>6</td>\n",
       "      <td>8.0</td>\n",
       "      <td>0</td>\n",
       "      <td>1.08269</td>\n",
       "      <td>1.031770</td>\n",
       "      <td>0.993713</td>\n",
       "      <td>3.77124</td>\n",
       "      <td>0.873656</td>\n",
       "      <td>0.989665</td>\n",
       "      <td>...</td>\n",
       "      <td>1.899880</td>\n",
       "      <td>4.272520</td>\n",
       "      <td>3.658103</td>\n",
       "      <td>2.384190</td>\n",
       "      <td>4.454559</td>\n",
       "      <td>712.984178</td>\n",
       "      <td>462.390198</td>\n",
       "      <td>44.156060</td>\n",
       "      <td>206.437920</td>\n",
       "      <td>22.522647</td>\n",
       "    </tr>\n",
       "    <tr>\n",
       "      <th>6</th>\n",
       "      <td>BASE_SSP2</td>\n",
       "      <td>7</td>\n",
       "      <td>8.0</td>\n",
       "      <td>0</td>\n",
       "      <td>1.11940</td>\n",
       "      <td>0.989002</td>\n",
       "      <td>0.971626</td>\n",
       "      <td>4.54539</td>\n",
       "      <td>1.055970</td>\n",
       "      <td>0.752712</td>\n",
       "      <td>...</td>\n",
       "      <td>1.932460</td>\n",
       "      <td>4.401001</td>\n",
       "      <td>5.408875</td>\n",
       "      <td>2.474168</td>\n",
       "      <td>6.264400</td>\n",
       "      <td>897.256776</td>\n",
       "      <td>632.347658</td>\n",
       "      <td>45.478900</td>\n",
       "      <td>219.430218</td>\n",
       "      <td>27.429091</td>\n",
       "    </tr>\n",
       "    <tr>\n",
       "      <th>7</th>\n",
       "      <td>BASE_SSP2</td>\n",
       "      <td>8</td>\n",
       "      <td>8.0</td>\n",
       "      <td>0</td>\n",
       "      <td>1.02483</td>\n",
       "      <td>1.022250</td>\n",
       "      <td>0.893182</td>\n",
       "      <td>3.54405</td>\n",
       "      <td>1.023780</td>\n",
       "      <td>0.985672</td>\n",
       "      <td>...</td>\n",
       "      <td>1.906197</td>\n",
       "      <td>4.145143</td>\n",
       "      <td>4.865129</td>\n",
       "      <td>2.404867</td>\n",
       "      <td>6.567324</td>\n",
       "      <td>810.309151</td>\n",
       "      <td>541.500007</td>\n",
       "      <td>42.844589</td>\n",
       "      <td>225.964555</td>\n",
       "      <td>24.229503</td>\n",
       "    </tr>\n",
       "  </tbody>\n",
       "</table>\n",
       "<p>5 rows × 44 columns</p>\n",
       "</div>"
      ],
      "text/plain": [
       "    Scenario  SOW  Temp_Limit  Delay      GDP       Pop  Other_ESD_Drivers  \\\n",
       "0  BASE_SSP2    1         8.0      0  1.02329  1.009280           1.063100   \n",
       "4  BASE_SSP2    5         8.0      0  1.00481  0.997576           1.127530   \n",
       "5  BASE_SSP2    6         8.0      0  1.08269  1.031770           0.993713   \n",
       "6  BASE_SSP2    7         8.0      0  1.11940  0.989002           0.971626   \n",
       "7  BASE_SSP2    8         8.0      0  1.02483  1.022250           0.893182   \n",
       "\n",
       "       SDR  Elast_ESD_Driver  Elast_ESD_Price  ...  GSupply_Geothermal  \\\n",
       "0  3.70267          1.013020         1.216860  ...            1.907061   \n",
       "4  3.46723          1.087940         1.118800  ...            1.915827   \n",
       "5  3.77124          0.873656         0.989665  ...            1.899880   \n",
       "6  4.54539          1.055970         0.752712  ...            1.932460   \n",
       "7  3.54405          1.023780         0.985672  ...            1.906197   \n",
       "\n",
       "   GSupply_Nuclear  GSupply_Solar  GSupply_Tidal_Waves  GSupply_Wind  \\\n",
       "0         4.167604       5.115586             2.424417      5.161512   \n",
       "4         4.226128       5.810294             2.516766      6.502266   \n",
       "5         4.272520       3.658103             2.384190      4.454559   \n",
       "6         4.401001       5.408875             2.474168      6.264400   \n",
       "7         4.145143       4.865129             2.404867      6.567324   \n",
       "\n",
       "   GConsumption  GConsumption_Fossil  GConsumption_Nuclear  \\\n",
       "0    812.092289           539.893683             43.075844   \n",
       "4    874.573547           592.973597             43.678409   \n",
       "5    712.984178           462.390198             44.156060   \n",
       "6    897.256776           632.347658             45.478900   \n",
       "7    810.309151           541.500007             42.844589   \n",
       "\n",
       "   GConsumption_Renewable      GCost  \n",
       "0              229.122762  24.788425  \n",
       "4              237.921540  26.175837  \n",
       "5              206.437920  22.522647  \n",
       "6              219.430218  27.429091  \n",
       "7              225.964555  24.229503  \n",
       "\n",
       "[5 rows x 44 columns]"
      ]
     },
     "execution_count": 2,
     "metadata": {},
     "output_type": "execute_result"
    }
   ],
   "source": [
    "from pysr import PySRRegressor\n",
    "from Magpie import MagpieRegressor\n",
    "import time\n",
    "import numpy as np\n",
    "import pandas as pd\n",
    "import matplotlib.pyplot as plt\n",
    "import seaborn as sns\n",
    "import shap\n",
    "import sympy as sp\n",
    "import os\n",
    "from sklearn.neural_network import MLPRegressor\n",
    "\n",
    "from sklearn.model_selection import train_test_split, cross_val_score, cross_validate\n",
    "from sklearn.linear_model import ElasticNet\n",
    "\n",
    "\n",
    "from sklearn.ensemble import RandomForestRegressor\n",
    "\n",
    "#from pysr import PySRRegressor  # import after env var is set\n",
    "import matplotlib\n",
    "\n",
    "\n",
    "\n",
    "\n",
    "matplotlib.rcParams['pdf.fonttype'] = 42 # helps produce ACM-compliant figures\n",
    "matplotlib.rcParams['ps.fonttype'] = 42\n",
    "Xy = pd.read_csv(r\"C:\\Users\\Sophie\\OneDrive - National University of Ireland, Galway\\Y1S2\\Thesis\\GECCO Code\\Outputs\\data_Xy_clim_sens_filter.csv\", index_col=0)\n",
    "Xy.head()\n"
   ]
  },
  {
   "cell_type": "code",
   "execution_count": 3,
   "metadata": {},
   "outputs": [
    {
     "data": {
      "text/plain": [
       "Text(0.5, 0, 'GDP')"
      ]
     },
     "execution_count": 3,
     "metadata": {},
     "output_type": "execute_result"
    },
    {
     "data": {
      "image/png": "[encoded data removed]",
      "text/plain": [
       "<Figure size 640x480 with 1 Axes>"
      ]
     },
     "metadata": {},
     "output_type": "display_data"
    }
   ],
   "source": [
    "plt.scatter(Xy['GDP'], Xy['GSupply'])\n",
    "plt.ylabel('Global Supply')\n",
    "plt.xlabel('GDP')"
   ]
  },
  {
   "cell_type": "code",
   "execution_count": 4,
   "metadata": {},
   "outputs": [
    {
     "data": {
      "text/plain": [
       "['Scenario',\n",
       " 'SOW',\n",
       " 'Temp_Limit',\n",
       " 'Delay',\n",
       " 'GDP',\n",
       " 'Pop',\n",
       " 'Other_ESD_Drivers',\n",
       " 'SDR',\n",
       " 'Elast_ESD_Driver',\n",
       " 'Elast_ESD_Price',\n",
       " 'CO2_Storage_Poten',\n",
       " 'Wind_Poten',\n",
       " 'Solar_Poten',\n",
       " 'Biomass_Poten',\n",
       " 'Oil_Gas_Poten',\n",
       " 'Solar_PV_Inv_Cost',\n",
       " 'Wind_Inv_Cost',\n",
       " 'Bioenergy_CCS_Inv_Cost',\n",
       " 'Other_Tech_Cost',\n",
       " 'Forcing',\n",
       " 'Land_Sinks',\n",
       " 'Clim_Sens',\n",
       " 'Year',\n",
       " 'Temp_Change',\n",
       " 'Rad_Forcing',\n",
       " 'CO2_Conc',\n",
       " 'CH4_Conc',\n",
       " 'N20_Conc',\n",
       " 'Carbon',\n",
       " 'CO2eq',\n",
       " 'Marg_CO2_Cost',\n",
       " 'GSupply',\n",
       " 'GSupply_Bioenergy',\n",
       " 'GSupply_Fossil',\n",
       " 'GSupply_Geothermal',\n",
       " 'GSupply_Nuclear',\n",
       " 'GSupply_Solar',\n",
       " 'GSupply_Tidal_Waves',\n",
       " 'GSupply_Wind',\n",
       " 'GConsumption',\n",
       " 'GConsumption_Fossil',\n",
       " 'GConsumption_Nuclear',\n",
       " 'GConsumption_Renewable',\n",
       " 'GCost']"
      ]
     },
     "execution_count": 4,
     "metadata": {},
     "output_type": "execute_result"
    }
   ],
   "source": [
    "Xy.columns.tolist()"
   ]
  },
  {
   "cell_type": "code",
   "execution_count": 5,
   "metadata": {},
   "outputs": [],
   "source": [
    "features = [\n",
    " 'Pop',\n",
    " 'Other_ESD_Drivers',\n",
    " 'SDR',\n",
    " 'Elast_ESD_Driver',\n",
    " 'Elast_ESD_Price',\n",
    " 'CO2_Storage_Poten',\n",
    " 'Wind_Poten',\n",
    " 'Solar_Poten',\n",
    " 'Biomass_Poten',\n",
    " 'Oil_Gas_Poten',\n",
    " 'Solar_PV_Inv_Cost',\n",
    " 'Wind_Inv_Cost',\n",
    " 'Bioenergy_CCS_Inv_Cost',\n",
    " 'Other_Tech_Cost',\n",
    " 'Forcing',\n",
    " 'Land_Sinks',\n",
    " 'Clim_Sens',\n",
    " 'Year']\n",
    "corr_matrix = pd.DataFrame(Xy[features], columns = features).corr()\n"
   ]
  },
  {
   "cell_type": "markdown",
   "metadata": {},
   "source": [
    "## Experimental Design\n",
    "\n",
    "We try several target variables (ie dependent variable), several subsets of independent variables, several regression models. \n",
    "\n",
    "## Cross-validation\n",
    "\n",
    "In preliminary experiments we see large differences in performance according to train-test split - therefore, we use a 5-fold cross-validation.\n",
    "\n",
    "## Reporting\n",
    "\n",
    "For each of those 5 folds, we report the train $R^2$ and test $R^2$."
   ]
  },
  {
   "cell_type": "code",
   "execution_count": 6,
   "metadata": {
    "ExecuteTime": {
     "end_time": "2025-06-25T10:27:02.079804Z",
     "start_time": "2025-06-25T10:27:02.048554Z"
    }
   },
   "outputs": [
    {
     "name": "stdout",
     "output_type": "stream",
     "text": [
      "<class 'list'>\n",
      "dict_keys(['small', 'small_inc_enc', 'all', 'all_inc_enc'])\n"
     ]
    }
   ],
   "source": [
    "# We have two sets of X-variable subsets: 'small' and 'all'\n",
    "# For each subset, we have a variant which includes the scenario-encoding variables (_inc_enc)\n",
    "# and a variant which excludes them.\n",
    "# The idea is to compare a small versus a large subset for each scenario.\n",
    "# And then as an alternative, put all the scenarios together, with the scenario-encoding\n",
    "# variables included, and compare small versus large.\n",
    "xvar_subsets = {\n",
    "    'small': ['SDR', 'Clim_Sens', 'Pop', 'GDP'],\n",
    "    'small_inc_enc': ['Temp_Limit', 'Delay', 'SDR', 'Clim_Sens', 'Pop', 'GDP'],\n",
    "    'all': ['GDP', 'Pop',\n",
    "       'Other_ESD_Drivers', 'SDR', 'Elast_ESD_Driver', 'Elast_ESD_Price',\n",
    "       'CO2_Storage_Poten', 'Wind_Poten', 'Solar_Poten', 'Biomass_Poten',\n",
    "       'Oil_Gas_Poten', 'Solar_PV_Inv_Cost', 'Wind_Inv_Cost',\n",
    "       'Bioenergy_CCS_Inv_Cost', 'Other_Tech_Cost', 'Forcing', 'Land_Sinks',\n",
    "       'Clim_Sens'],\n",
    "    'all_inc_enc': ['Temp_Limit', 'Delay', 'GDP', 'Pop',\n",
    "       'Other_ESD_Drivers', 'SDR', 'Elast_ESD_Driver', 'Elast_ESD_Price',\n",
    "       'CO2_Storage_Poten', 'Wind_Poten', 'Solar_Poten', 'Biomass_Poten',\n",
    "       'Oil_Gas_Poten', 'Solar_PV_Inv_Cost', 'Wind_Inv_Cost',\n",
    "       'Bioenergy_CCS_Inv_Cost', 'Other_Tech_Cost', 'Forcing', 'Land_Sinks',\n",
    "       'Clim_Sens']\n",
    "}\n",
    "\n",
    "scenarios = ['BASE_SSP2', '1p5c_OS_SSP2', '2C_SSP2', '2C_SSP2_DA30', 'ALL']\n",
    "\n",
    "targets = ['GSupply', 'CO2eq', 'GConsumption', 'GCost'] # cannot do marginal CO2 as it's all-NaNs at 2050\n",
    "\n",
    "\n",
    "print(type(xvar_subsets['small']))\n",
    "print(xvar_subsets.keys())\n",
    "\n"
   ]
  },
  {
   "cell_type": "code",
   "execution_count": 7,
   "metadata": {
    "ExecuteTime": {
     "start_time": "2025-06-25T14:59:24.326500Z"
    },
    "jupyter": {
     "is_executing": true
    }
   },
   "outputs": [
    {
     "name": "stdout",
     "output_type": "stream",
     "text": [
      "Scenario 2C_SSP2_DA30, xvar code small xvars ['SDR', 'Clim_Sens', 'Pop', 'GDP'], target GConsumption\n",
      "\n",
      "n_vars 4\n"
     ]
    },
    {
     "name": "stderr",
     "output_type": "stream",
     "text": [
      "C:\\Users\\Sophie\\OneDrive - National University of Ireland, Galway\\Y1S2\\Thesis\\SHAP + RFR or PySR or NN\\capstone2025-shiels-TIMES\\Magpie\\src\\Magpie\\fitness.py:39: OptimizeWarning: Covariance of the parameters could not be estimated\n",
      "  popt, pcov = curve_fit(p, X, y, p0=C_init)\n"
     ]
    },
    {
     "ename": "IndexError",
     "evalue": "tuple index out of range",
     "output_type": "error",
     "traceback": [
      "\u001b[31m---------------------------------------------------------------------------\u001b[39m",
      "\u001b[31mIndexError\u001b[39m                                Traceback (most recent call last)",
      "\u001b[36mCell\u001b[39m\u001b[36m \u001b[39m\u001b[32mIn[7]\u001b[39m\u001b[32m, line 38\u001b[39m\n\u001b[32m     32\u001b[39m         \u001b[38;5;28mprint\u001b[39m(\u001b[33mf\u001b[39m\u001b[33m\"\u001b[39m\u001b[33mThe R^2 on test data of the eqn with lowest validation MSE: \u001b[39m\u001b[38;5;132;01m{\u001b[39;00mmr.score(X_test,\u001b[38;5;250m \u001b[39my_test)\u001b[38;5;132;01m:\u001b[39;00m\u001b[33m.2f\u001b[39m\u001b[38;5;132;01m}\u001b[39;00m\u001b[33m\"\u001b[39m)\n\u001b[32m     37\u001b[39m     \u001b[38;5;28;01mreturn\u001b[39;00m\n\u001b[32m---> \u001b[39m\u001b[32m38\u001b[39m \u001b[43mrun_everything\u001b[49m\u001b[43m(\u001b[49m\u001b[43mXy\u001b[49m\u001b[43m)\u001b[49m\n\u001b[32m     40\u001b[39m \u001b[38;5;66;03m# Try get a force plot to work\u001b[39;00m\n\u001b[32m     41\u001b[39m \u001b[38;5;66;03m# Remember to update model name if model is changed\u001b[39;00m\n",
      "\u001b[36mCell\u001b[39m\u001b[36m \u001b[39m\u001b[32mIn[7]\u001b[39m\u001b[32m, line 28\u001b[39m, in \u001b[36mrun_everything\u001b[39m\u001b[34m(Xy)\u001b[39m\n\u001b[32m     26\u001b[39m X_train, X_test, y_train, y_test = train_test_split(X, y, test_size=\u001b[32m0.2\u001b[39m, random_state=\u001b[32m42\u001b[39m)\n\u001b[32m     27\u001b[39m mr = MagpieRegressor(maxevals=\u001b[32m1000\u001b[39m, initevals=\u001b[32m500\u001b[39m)\n\u001b[32m---> \u001b[39m\u001b[32m28\u001b[39m \u001b[43mmr\u001b[49m\u001b[43m.\u001b[49m\u001b[43mfit\u001b[49m\u001b[43m(\u001b[49m\u001b[43mX_train\u001b[49m\u001b[43m,\u001b[49m\u001b[43m \u001b[49m\u001b[43my_train\u001b[49m\u001b[43m)\u001b[49m\n\u001b[32m     29\u001b[39m pd.set_option(\u001b[33m'\u001b[39m\u001b[33mdisplay.float_format\u001b[39m\u001b[33m'\u001b[39m, \u001b[33m'\u001b[39m\u001b[38;5;132;01m{:.2f}\u001b[39;00m\u001b[33m'\u001b[39m.format)\n\u001b[32m     30\u001b[39m pd.set_option(\u001b[33m'\u001b[39m\u001b[33mdisplay.max_colwidth\u001b[39m\u001b[33m'\u001b[39m, \u001b[38;5;28;01mNone\u001b[39;00m)\n",
      "\u001b[36mFile \u001b[39m\u001b[32m~\\OneDrive - National University of Ireland, Galway\\Y1S2\\Thesis\\SHAP + RFR or PySR or NN\\capstone2025-shiels-TIMES\\Magpie\\src\\Magpie\\Magpie.py:167\u001b[39m, in \u001b[36mMagpieRegressor.fit\u001b[39m\u001b[34m(self, X, y, X_bounds)\u001b[39m\n\u001b[32m    165\u001b[39m \u001b[38;5;66;03m# evaluate, optimise, simplify\u001b[39;00m\n\u001b[32m    166\u001b[39m evals += \u001b[32m1\u001b[39m\n\u001b[32m--> \u001b[39m\u001b[32m167\u001b[39m res = \u001b[43mevaluate\u001b[49m\u001b[43m(\u001b[49m\u001b[43mps\u001b[49m\u001b[43m,\u001b[49m\u001b[43m \u001b[49m\u001b[43mX_train\u001b[49m\u001b[43m,\u001b[49m\u001b[43m \u001b[49m\u001b[43my_train\u001b[49m\u001b[43m,\u001b[49m\u001b[43m \u001b[49m\u001b[43mX_val\u001b[49m\u001b[43m,\u001b[49m\u001b[43m \u001b[49m\u001b[43my_val\u001b[49m\u001b[43m,\u001b[49m\u001b[43m \u001b[49m\u001b[43mX_bounds\u001b[49m\u001b[43m)\u001b[49m\n\u001b[32m    168\u001b[39m \u001b[38;5;28;01mif\u001b[39;00m \u001b[38;5;129;01mnot\u001b[39;00m(np.isfinite(res[\u001b[32m0\u001b[39m]) \u001b[38;5;129;01mand\u001b[39;00m np.isfinite(res[\u001b[32m1\u001b[39m])):\n\u001b[32m    169\u001b[39m     \u001b[38;5;66;03m# nan or inf as train or val fitness\u001b[39;00m\n\u001b[32m    170\u001b[39m     \u001b[38;5;28;01mraise\u001b[39;00m SingularityException\n",
      "\u001b[36mFile \u001b[39m\u001b[32m~\\OneDrive - National University of Ireland, Galway\\Y1S2\\Thesis\\SHAP + RFR or PySR or NN\\capstone2025-shiels-TIMES\\Magpie\\src\\Magpie\\fitness.py:64\u001b[39m, in \u001b[36mevaluate\u001b[39m\u001b[34m(ps, X_train, y_train, X_test, y_test, X_bounds)\u001b[39m\n\u001b[32m     59\u001b[39m n_vars = \u001b[38;5;28mlen\u001b[39m(X)\n\u001b[32m     61\u001b[39m \u001b[38;5;66;03m# p is a function of X and C.\u001b[39;00m\n\u001b[32m     62\u001b[39m \u001b[38;5;66;03m# X can be 2d numpy array, or an array of intervals, or Sympy vars\u001b[39;00m\n\u001b[32m---> \u001b[39m\u001b[32m64\u001b[39m newc = \u001b[43moptimise\u001b[49m\u001b[43m(\u001b[49m\u001b[43mps\u001b[49m\u001b[43m,\u001b[49m\u001b[43m \u001b[49m\u001b[43mX\u001b[49m\u001b[43m,\u001b[49m\u001b[43m \u001b[49m\u001b[43my\u001b[49m\u001b[43m)\u001b[49m\n\u001b[32m     65\u001b[39m fn_mappings = {\u001b[33m\"\u001b[39m\u001b[33msin\u001b[39m\u001b[33m\"\u001b[39m: np.sin, \u001b[33m\"\u001b[39m\u001b[33mlog\u001b[39m\u001b[33m\"\u001b[39m: np.log,\n\u001b[32m     66\u001b[39m                \u001b[33m\"\u001b[39m\u001b[33mcos\u001b[39m\u001b[33m\"\u001b[39m: np.cos, \u001b[33m\"\u001b[39m\u001b[33mexp\u001b[39m\u001b[33m\"\u001b[39m: np.exp} \u001b[38;5;66;03m# TODO there could be more to add here\u001b[39;00m\n\u001b[32m     67\u001b[39m p = \u001b[38;5;28meval\u001b[39m(\u001b[33m\"\u001b[39m\u001b[33mlambda X, C: \u001b[39m\u001b[33m\"\u001b[39m + ps, fn_mappings)\n",
      "\u001b[36mFile \u001b[39m\u001b[32m~\\OneDrive - National University of Ireland, Galway\\Y1S2\\Thesis\\SHAP + RFR or PySR or NN\\capstone2025-shiels-TIMES\\Magpie\\src\\Magpie\\fitness.py:39\u001b[39m, in \u001b[36moptimise\u001b[39m\u001b[34m(ps, X, y)\u001b[39m\n\u001b[32m     37\u001b[39m C_init = np.ones(\u001b[38;5;28mlen\u001b[39m(X)) \u001b[38;5;66;03m# TODO should this be zeros?\u001b[39;00m\n\u001b[32m     38\u001b[39m \u001b[38;5;28;01mtry\u001b[39;00m:\n\u001b[32m---> \u001b[39m\u001b[32m39\u001b[39m     popt, pcov = \u001b[43mcurve_fit\u001b[49m\u001b[43m(\u001b[49m\u001b[43mp\u001b[49m\u001b[43m,\u001b[49m\u001b[43m \u001b[49m\u001b[43mX\u001b[49m\u001b[43m,\u001b[49m\u001b[43m \u001b[49m\u001b[43my\u001b[49m\u001b[43m,\u001b[49m\u001b[43m \u001b[49m\u001b[43mp0\u001b[49m\u001b[43m=\u001b[49m\u001b[43mC_init\u001b[49m\u001b[43m)\u001b[49m\n\u001b[32m     40\u001b[39m \u001b[38;5;28;01mexcept\u001b[39;00m \u001b[38;5;167;01mRuntimeError\u001b[39;00m:\n\u001b[32m     41\u001b[39m     \u001b[38;5;28;01mraise\u001b[39;00m FailedOptimisationError\n",
      "\u001b[36mFile \u001b[39m\u001b[32mc:\\Users\\Sophie\\OneDrive - National University of Ireland, Galway\\Y1S2\\Thesis\\SHAP + RFR or PySR or NN\\capstone2025-shiels-TIMES\\.venv\\Lib\\site-packages\\scipy\\optimize\\_minpack_py.py:1021\u001b[39m, in \u001b[36mcurve_fit\u001b[39m\u001b[34m(f, xdata, ydata, p0, sigma, absolute_sigma, check_finite, bounds, method, jac, full_output, nan_policy, **kwargs)\u001b[39m\n\u001b[32m   1018\u001b[39m \u001b[38;5;28;01mif\u001b[39;00m ydata.size != \u001b[32m1\u001b[39m \u001b[38;5;129;01mand\u001b[39;00m n > ydata.size:\n\u001b[32m   1019\u001b[39m     \u001b[38;5;28;01mraise\u001b[39;00m \u001b[38;5;167;01mTypeError\u001b[39;00m(\u001b[33mf\u001b[39m\u001b[33m\"\u001b[39m\u001b[33mThe number of func parameters=\u001b[39m\u001b[38;5;132;01m{\u001b[39;00mn\u001b[38;5;132;01m}\u001b[39;00m\u001b[33m must not\u001b[39m\u001b[33m\"\u001b[39m\n\u001b[32m   1020\u001b[39m                     \u001b[33mf\u001b[39m\u001b[33m\"\u001b[39m\u001b[33m exceed the number of data points=\u001b[39m\u001b[38;5;132;01m{\u001b[39;00mydata.size\u001b[38;5;132;01m}\u001b[39;00m\u001b[33m\"\u001b[39m)\n\u001b[32m-> \u001b[39m\u001b[32m1021\u001b[39m res = \u001b[43mleastsq\u001b[49m\u001b[43m(\u001b[49m\u001b[43mfunc\u001b[49m\u001b[43m,\u001b[49m\u001b[43m \u001b[49m\u001b[43mp0\u001b[49m\u001b[43m,\u001b[49m\u001b[43m \u001b[49m\u001b[43mDfun\u001b[49m\u001b[43m=\u001b[49m\u001b[43mjac\u001b[49m\u001b[43m,\u001b[49m\u001b[43m \u001b[49m\u001b[43mfull_output\u001b[49m\u001b[43m=\u001b[49m\u001b[32;43m1\u001b[39;49m\u001b[43m,\u001b[49m\u001b[43m \u001b[49m\u001b[43m*\u001b[49m\u001b[43m*\u001b[49m\u001b[43mkwargs\u001b[49m\u001b[43m)\u001b[49m\n\u001b[32m   1022\u001b[39m popt, pcov, infodict, errmsg, ier = res\n\u001b[32m   1023\u001b[39m ysize = \u001b[38;5;28mlen\u001b[39m(infodict[\u001b[33m'\u001b[39m\u001b[33mfvec\u001b[39m\u001b[33m'\u001b[39m])\n",
      "\u001b[36mFile \u001b[39m\u001b[32mc:\\Users\\Sophie\\OneDrive - National University of Ireland, Galway\\Y1S2\\Thesis\\SHAP + RFR or PySR or NN\\capstone2025-shiels-TIMES\\.venv\\Lib\\site-packages\\scipy\\optimize\\_minpack_py.py:426\u001b[39m, in \u001b[36mleastsq\u001b[39m\u001b[34m(func, x0, args, Dfun, full_output, col_deriv, ftol, xtol, gtol, maxfev, epsfcn, factor, diag)\u001b[39m\n\u001b[32m    424\u001b[39m \u001b[38;5;28;01mif\u001b[39;00m \u001b[38;5;129;01mnot\u001b[39;00m \u001b[38;5;28misinstance\u001b[39m(args, \u001b[38;5;28mtuple\u001b[39m):\n\u001b[32m    425\u001b[39m     args = (args,)\n\u001b[32m--> \u001b[39m\u001b[32m426\u001b[39m shape, dtype = \u001b[43m_check_func\u001b[49m\u001b[43m(\u001b[49m\u001b[33;43m'\u001b[39;49m\u001b[33;43mleastsq\u001b[39;49m\u001b[33;43m'\u001b[39;49m\u001b[43m,\u001b[49m\u001b[43m \u001b[49m\u001b[33;43m'\u001b[39;49m\u001b[33;43mfunc\u001b[39;49m\u001b[33;43m'\u001b[39;49m\u001b[43m,\u001b[49m\u001b[43m \u001b[49m\u001b[43mfunc\u001b[49m\u001b[43m,\u001b[49m\u001b[43m \u001b[49m\u001b[43mx0\u001b[49m\u001b[43m,\u001b[49m\u001b[43m \u001b[49m\u001b[43margs\u001b[49m\u001b[43m,\u001b[49m\u001b[43m \u001b[49m\u001b[43mn\u001b[49m\u001b[43m)\u001b[49m\n\u001b[32m    427\u001b[39m m = shape[\u001b[32m0\u001b[39m]\n\u001b[32m    429\u001b[39m \u001b[38;5;28;01mif\u001b[39;00m n > m:\n",
      "\u001b[36mFile \u001b[39m\u001b[32mc:\\Users\\Sophie\\OneDrive - National University of Ireland, Galway\\Y1S2\\Thesis\\SHAP + RFR or PySR or NN\\capstone2025-shiels-TIMES\\.venv\\Lib\\site-packages\\scipy\\optimize\\_minpack_py.py:24\u001b[39m, in \u001b[36m_check_func\u001b[39m\u001b[34m(checker, argname, thefunc, x0, args, numinputs, output_shape)\u001b[39m\n\u001b[32m     22\u001b[39m \u001b[38;5;28;01mdef\u001b[39;00m\u001b[38;5;250m \u001b[39m\u001b[34m_check_func\u001b[39m(checker, argname, thefunc, x0, args, numinputs,\n\u001b[32m     23\u001b[39m                 output_shape=\u001b[38;5;28;01mNone\u001b[39;00m):\n\u001b[32m---> \u001b[39m\u001b[32m24\u001b[39m     res = atleast_1d(\u001b[43mthefunc\u001b[49m\u001b[43m(\u001b[49m\u001b[43m*\u001b[49m\u001b[43m(\u001b[49m\u001b[43m(\u001b[49m\u001b[43mx0\u001b[49m\u001b[43m[\u001b[49m\u001b[43m:\u001b[49m\u001b[43mnuminputs\u001b[49m\u001b[43m]\u001b[49m\u001b[43m,\u001b[49m\u001b[43m)\u001b[49m\u001b[43m \u001b[49m\u001b[43m+\u001b[49m\u001b[43m \u001b[49m\u001b[43margs\u001b[49m\u001b[43m)\u001b[49m\u001b[43m)\u001b[49m)\n\u001b[32m     25\u001b[39m     \u001b[38;5;28;01mif\u001b[39;00m (output_shape \u001b[38;5;129;01mis\u001b[39;00m \u001b[38;5;129;01mnot\u001b[39;00m \u001b[38;5;28;01mNone\u001b[39;00m) \u001b[38;5;129;01mand\u001b[39;00m (shape(res) != output_shape):\n\u001b[32m     26\u001b[39m         \u001b[38;5;28;01mif\u001b[39;00m (output_shape[\u001b[32m0\u001b[39m] != \u001b[32m1\u001b[39m):\n",
      "\u001b[36mFile \u001b[39m\u001b[32mc:\\Users\\Sophie\\OneDrive - National University of Ireland, Galway\\Y1S2\\Thesis\\SHAP + RFR or PySR or NN\\capstone2025-shiels-TIMES\\.venv\\Lib\\site-packages\\scipy\\optimize\\_minpack_py.py:523\u001b[39m, in \u001b[36m_lightweight_memoizer.<locals>._memoized_func\u001b[39m\u001b[34m(params)\u001b[39m\n\u001b[32m    520\u001b[39m \u001b[38;5;28;01melif\u001b[39;00m _memoized_func.last_params \u001b[38;5;129;01mis\u001b[39;00m \u001b[38;5;129;01mnot\u001b[39;00m \u001b[38;5;28;01mNone\u001b[39;00m:\n\u001b[32m    521\u001b[39m     _memoized_func.skip_lookup = \u001b[38;5;28;01mTrue\u001b[39;00m\n\u001b[32m--> \u001b[39m\u001b[32m523\u001b[39m val = \u001b[43mf\u001b[49m\u001b[43m(\u001b[49m\u001b[43mparams\u001b[49m\u001b[43m)\u001b[49m\n\u001b[32m    525\u001b[39m \u001b[38;5;28;01mif\u001b[39;00m _memoized_func.last_params \u001b[38;5;129;01mis\u001b[39;00m \u001b[38;5;28;01mNone\u001b[39;00m:\n\u001b[32m    526\u001b[39m     _memoized_func.last_params = np.copy(params)\n",
      "\u001b[36mFile \u001b[39m\u001b[32mc:\\Users\\Sophie\\OneDrive - National University of Ireland, Galway\\Y1S2\\Thesis\\SHAP + RFR or PySR or NN\\capstone2025-shiels-TIMES\\.venv\\Lib\\site-packages\\scipy\\optimize\\_minpack_py.py:540\u001b[39m, in \u001b[36m_wrap_func.<locals>.func_wrapped\u001b[39m\u001b[34m(params)\u001b[39m\n\u001b[32m    539\u001b[39m \u001b[38;5;28;01mdef\u001b[39;00m\u001b[38;5;250m \u001b[39m\u001b[34mfunc_wrapped\u001b[39m(params):\n\u001b[32m--> \u001b[39m\u001b[32m540\u001b[39m     \u001b[38;5;28;01mreturn\u001b[39;00m \u001b[43mfunc\u001b[49m\u001b[43m(\u001b[49m\u001b[43mxdata\u001b[49m\u001b[43m,\u001b[49m\u001b[43m \u001b[49m\u001b[43m*\u001b[49m\u001b[43mparams\u001b[49m\u001b[43m)\u001b[49m - ydata\n",
      "\u001b[36mFile \u001b[39m\u001b[32m<string>:1\u001b[39m, in \u001b[36m<lambda>\u001b[39m\u001b[34m(X, *C)\u001b[39m\n",
      "\u001b[31mIndexError\u001b[39m: tuple index out of range"
     ]
    }
   ],
   "source": [
    "# You'll need these imports at the top of your file\n",
    "from sklearn.ensemble import RandomForestRegressor\n",
    "from sklearn.neural_network import MLPRegressor\n",
    "from pysr import PySRRegressor\n",
    "\n",
    "def run_everything(Xy):\n",
    "    results = []\n",
    "    scenario = '2C_SSP2_DA30'\n",
    "    target = 'GConsumption'\n",
    "    Xy_sub = Xy[Xy['Scenario'] == scenario]\n",
    "    \n",
    "    for xvar_subset_code in xvar_subsets:\n",
    "        # for the 'ALL' scenario, run only if we have _inc_enc\n",
    "        if scenario == 'ALL' and (not \"_inc_enc\" in xvar_subset_code): continue\n",
    "        # for the non-ALL scenarios, run only if we DO NOT have _inc_enc\n",
    "        if scenario != 'ALL' and (\"_inc_enc\" in xvar_subset_code): continue\n",
    "\n",
    "        xvar_subset = xvar_subsets[xvar_subset_code]\n",
    "        X = Xy_sub[xvar_subset]\n",
    "        y = Xy_sub[target]\n",
    "        print(f'Scenario {scenario}, xvar code {xvar_subset_code} xvars {xvar_subset}, target {target}')\n",
    "        print(\"\")\n",
    "\n",
    "\n",
    "        \n",
    "        X_train, X_test, y_train, y_test = train_test_split(X, y, test_size=0.2, random_state=42)\n",
    "        mr = MagpieRegressor(maxevals=1000, initevals=500)\n",
    "        mr.fit(X_train, y_train)\n",
    "        pd.set_option('display.float_format', '{:.2f}'.format)\n",
    "        pd.set_option('display.max_colwidth', None)\n",
    "        print(mr.equations_[[\"size\", \"loss\", \"loss_validation\", \"equation\"]])\n",
    "        print(f\"The R^2 on test data of the eqn with lowest validation MSE: {mr.score(X_test, y_test):.2f}\")\n",
    "            \n",
    "\n",
    "          \n",
    "\n",
    "    return\n",
    "run_everything(Xy)\n",
    "\n",
    "# Try get a force plot to work\n",
    "# Remember to update model name if model is changed\n"
   ]
  },
  {
   "cell_type": "code",
   "execution_count": null,
   "metadata": {},
   "outputs": [],
   "source": [
    "\n"
   ]
  },
  {
   "cell_type": "markdown",
   "metadata": {},
   "source": [
    "# Bar Plots\n",
    "The bar plot shows which features are most important to the model. It plots the absolute mean shap plot. each bar gives the absolute mean shap value of each feature. There is a shap value for each instance of each feature. The absolute value is taken and the mean is calculated. We take the absolute value as we do not want positive and negative values to offset eachother.\n",
    "Values that have made large positive or negative contributions will have a large shap value. These are the features that have made a significant contribution to the models predictions. This is a useful measure of feature importance. \n",
    "\n",
    "\n",
    "# Beeswarm plot\n",
    "This helps to visualise all shap values. On the Y-axis the values are grouped by all the features.The colour of the points is determined by the feature value. Higher values are red. On the X axis is the shap values. This can help to highlight important relationships. It shows which values have large positive or large negative values. The beeswarm plot can help understand the nature of relationships between feature variables - for example, in our beeswarm plot, for almost all variables, as the feature value increases, so does the shap values (except for wind_inv_cost)\n",
    "\n",
    "# Dependence plots \n",
    "Not completed yet\n",
    "\n",
    "# Violin Plot\n",
    "Gives the same insights as the beeswarm plot\n",
    "\n",
    "# Heatmap\n",
    "X-axis shows a tick for each instance of data\n",
    "Y-axis gives the model feature\n",
    "The line above each instance is coloured by the shap value for that feature. \n",
    "The f(x) line (the line at the top of the graph) gives the predicted y value for that instance. \n",
    "The faint grey line behind the f(x) plot is the baseline or expected value of the models predictions\n",
    "The bar on the right gives the mean shap values (these are the same as what we saw in the bar plot). \n",
    "The heatmap is a plot of every shap value, except we focus on shap values and groups of instances. \n",
    "By default the instances are ordered using a hierarchical clustering algorithm. optionally: We can change it to be ordered by the values of one of the features\n",
    "\n",
    "## Interpreting plots\n",
    "Scenario: BASE_SSP2\n",
    "    - This scenario means that there is no upper limit on temperature increase . There is also no delay as there is no action\n",
    "Target: GSupply\n",
    "Subset: All\n",
    "# Heatmap\n",
    "This plot only shows 161 instances\n",
    "'Elast_ESD_Driver' is given as the most influential feature in predicting GSupply. It seems to have both a strong positive and negative influence on the target variable\n",
    "\n",
    "# Violin plot\n",
    "Again, 'Elast_ESD_Driver' is the most influential in predicting 'GSupply' in both a positive and negative direction. Lower feature values correlate with lower 'Elast_ESD_Driver' values. The same can be said for 'GDP' and 'Other_ESD_Drivers'. \n",
    "\n",
    "# Scatter plot\n",
    "This is a dependence scatter plot. it shows the effect that a single feature has on the prediction. Each dot is a single prediction of GSupply. The X-axis is the value of the feature. \n",
    "The Y-axis is the shap value of the feature. This represents how much knowing that features value changes the output of the model for that samples prediction\n",
    "The light grey area in the background is a histogram showing the distribution of the data values. \n",
    "The histogram plots how many times a certain value appears for a feature in the dataset\n",
    "\n",
    "We can see that with an increase in SHAP values for GDP, Other_ESD_Drivers and Elast_ESD_Driver, there is an increase in GSupply. There is also a slightly negative trend in shap values for Oil_Gas_Poten and Wind_Inv_Cost as GSupply increases\n",
    "\n",
    "# Bar Plot\n",
    "The bar plot shows a similar story\n",
    "\n"
   ]
  },
  {
   "cell_type": "markdown",
   "metadata": {},
   "source": [
    "# Interpreting plots:\n",
    "Scenario: 2C_SSP2_DA30\n",
    "    This scenario means that there is a 2 degree celcius limit on temperature increase, with a 25 year delay action\n",
    "Target: GSupply\n",
    "Subset: All\n",
    "\n",
    "# Heatmap\n",
    "Clim_Sens is the most impactful feature on the model. Increase in Clim_Sens is associated with increase in GSupply.\n",
    "# Violin plot and beeswarm\n",
    "The more negative the shap value for Clim_sens leads to a more negative feature value.\n",
    "There is a larger number of Shap values in the negative range for Clim_Sens than in the positive range. \n",
    "The more positive the Shap value for SDR, the more negative the feature value\n",
    "# Bar Plot\n",
    "Shows that Clim_Sens has the greatest mean absolute shap value, followed by Elast_ESD_Driver, SRD and GDP\n",
    "# Scatter plot\n",
    "This shows that as the value of GDP, Elast_ESD_Driver and Clim_Sens increases, so does the SHAP value. And as SDR increases, the shap values decrease\n",
    "\n",
    "\n",
    "\n",
    "\n",
    "# Interpreting plots:\n",
    "Scenario: 2C_SSP2_DA30\n",
    "    This scenario means that there is a 2 degree celcius limit on temperature increase, with a 25 year delay action\n",
    "Target: GConsumption\n",
    "Subset: All\n",
    "\n",
    "# Heatmap\n",
    "Both Clim_Sens and Elast_ESD_Driver are closely tied as being most impactful to the prediction of GConsumption for the 2C_SSP2_DA30 scenario. There is no general pattern for \n",
    "# Violin plot and beeswarm\n",
    "# Bar Plot\n",
    "# Scatter plot"
   ]
  },
  {
   "cell_type": "markdown",
   "metadata": {},
   "source": [
    "# The Background data:\n",
    "The key behind shapley values is that the features act as a \"team\", and the prediction is fairly distributed among them. The algorithm computes what predictions different coalitions (subsets of features) would receive. Since most ML models require all data to be filled in, missing values are sampled from the background data. Different background datasets can make different shap interpretations. What ever we choose as the background dataset influences for which data points we get predictions, and therefore what the interpretation is. for example, if we choose the background data based on a certain feature, this feature will no longer explain variation. Analogy: Height is an influential factor on performance in playing basketball. But within the NBA, where most players are tall, height no longer explains differences in performance. This is similar to collider bias or selection bias. Whether it is a problem or not depends on the purpose of the analysis - the example given for this is when comparing a wine against only high alcohol wines.\n",
    "\n",
    "# shap.Explainer:\n",
    "- Uses Shapley values to explain any ML model or python function.\n",
    "- It is the primary explainer interface for the SHAP library. It takes any combo of model and masker and returns a callable subclass object that implements the particular estimation algorithm that was chosen.\n",
    "    - Masker: explainer takes 'masker' as a parameter. The function is used to 'mask' out hidden features of the form masked_args = masker(*model_args, mask=mask). Background data matrices can be passed instead of a function, and the matrix will be used for masking. This is a shortcut for standard masking.\n",
    "\n",
    "# Kernel Explainer:\n",
    "Kernel SHAP is a model agnostic explainer. It is a method that uses special weighted linear regression to compute the importance of each feature. The computed importance values are Shapley values adn also coefficients from a local linear regression.\n",
    "\n"
   ]
  },
  {
   "cell_type": "code",
   "execution_count": null,
   "metadata": {
    "ExecuteTime": {
     "end_time": "2025-06-25T10:27:34.053689400Z",
     "start_time": "2025-06-19T21:06:33.806993Z"
    }
   },
   "outputs": [
    {
     "ename": "NameError",
     "evalue": "name 'results' is not defined",
     "output_type": "error",
     "traceback": [
      "\u001b[31m---------------------------------------------------------------------------\u001b[39m",
      "\u001b[31mNameError\u001b[39m                                 Traceback (most recent call last)",
      "\u001b[36mCell\u001b[39m\u001b[36m \u001b[39m\u001b[32mIn[14]\u001b[39m\u001b[32m, line 4\u001b[39m\n\u001b[32m      2\u001b[39m \u001b[38;5;66;03m#results = run_everything(Xy, cv)\u001b[39;00m\n\u001b[32m      3\u001b[39m results_cols = [\u001b[33m'\u001b[39m\u001b[33mTarget\u001b[39m\u001b[33m'\u001b[39m, \u001b[33m'\u001b[39m\u001b[33mScenario\u001b[39m\u001b[33m'\u001b[39m, \u001b[33m'\u001b[39m\u001b[33mxvar_subset_code\u001b[39m\u001b[33m'\u001b[39m, \u001b[33m'\u001b[39m\u001b[33mRegression Model\u001b[39m\u001b[33m'\u001b[39m, \u001b[33m'\u001b[39m\u001b[33mFold\u001b[39m\u001b[33m'\u001b[39m, \u001b[33m'\u001b[39m\u001b[33mTrain Score\u001b[39m\u001b[33m'\u001b[39m, \u001b[33m'\u001b[39m\u001b[33mTest Score\u001b[39m\u001b[33m'\u001b[39m]\n\u001b[32m----> \u001b[39m\u001b[32m4\u001b[39m results_df = pd.DataFrame(\u001b[43mresults\u001b[49m, columns=results_cols)\n\u001b[32m      5\u001b[39m results_df[\u001b[33m'\u001b[39m\u001b[33mScenario / Variables\u001b[39m\u001b[33m'\u001b[39m] = results_df[\u001b[33m'\u001b[39m\u001b[33mScenario\u001b[39m\u001b[33m'\u001b[39m] + \u001b[33m'\u001b[39m\u001b[33m / \u001b[39m\u001b[33m'\u001b[39m + results_df[\u001b[33m'\u001b[39m\u001b[33mxvar_subset_code\u001b[39m\u001b[33m'\u001b[39m]\n\u001b[32m      6\u001b[39m \u001b[38;5;66;03m#results_df.to_csv(f'../outputs/results_cv5_EN_RF_2xGP_clim_sens_filter_sqrt.csv')\u001b[39;00m\n",
      "\u001b[31mNameError\u001b[39m: name 'results' is not defined"
     ]
    }
   ],
   "source": [
    "cv = 5\n",
    "#results = run_everything(Xy, cv)\n",
    "results_cols = ['Target', 'Scenario', 'xvar_subset_code', 'Regression Model', 'Fold', 'Train Score', 'Test Score']\n",
    "results_df = pd.DataFrame(results, columns=results_cols)\n",
    "results_df['Scenario / Variables'] = results_df['Scenario'] + ' / ' + results_df['xvar_subset_code']\n",
    "#results_df.to_csv(f'../outputs/results_cv5_EN_RF_2xGP_clim_sens_filter_sqrt.csv')"
   ]
  },
  {
   "cell_type": "markdown",
   "metadata": {},
   "source": [
    "Check that the results are the shape we expect:"
   ]
  },
  {
   "cell_type": "code",
   "execution_count": null,
   "metadata": {},
   "outputs": [],
   "source": [
    "results_df.head()"
   ]
  },
  {
   "cell_type": "code",
   "execution_count": null,
   "metadata": {},
   "outputs": [],
   "source": [
    "results_df.shape"
   ]
  },
  {
   "cell_type": "code",
   "execution_count": null,
   "metadata": {},
   "outputs": [],
   "source": [
    "5 * 4 * 2 * 4 * 5 # 5 scenarios (incl ALL), 4 targets, 2 xvar subsets (variant in the case of ALL), 4 regression methods, 5 cv folds"
   ]
  },
  {
   "cell_type": "code",
   "execution_count": null,
   "metadata": {},
   "outputs": [],
   "source": []
  },
  {
   "cell_type": "markdown",
   "metadata": {},
   "source": [
    "# Statistics"
   ]
  },
  {
   "cell_type": "code",
   "execution_count": null,
   "metadata": {},
   "outputs": [],
   "source": [
    "from scipy.stats import ttest_ind"
   ]
  },
  {
   "cell_type": "code",
   "execution_count": null,
   "metadata": {},
   "outputs": [],
   "source": [
    "models = ['ElasticNet', 'RandomForestRegressor', 'PySRRegressor']\n",
    "for model in models:\n",
    "    sub = results_df[(results_df['Regression Model'] == model) & (results_df['Scenario'] != 'ALL')]['Test Score']\n",
    "    print(f'{model} mean {sub.mean():.2f} std {sub.std():.1f}')\n",
    "    for model2 in models:\n",
    "        if model2 != model:\n",
    "            sub2 = results_df[(results_df['Regression Model'] == model2) & (results_df['Scenario'] != 'ALL')]['Test Score']\n",
    "            print(f'{model} {model2} {ttest_ind(sub, sub2)}')"
   ]
  },
  {
   "cell_type": "code",
   "execution_count": null,
   "metadata": {},
   "outputs": [],
   "source": [
    "for model in models:\n",
    "    sub1 = results_df[(results_df['Regression Model'] == model) & (results_df['xvar_subset_code'] == 'small')]['Test Score']\n",
    "    sub2 = results_df[(results_df['Regression Model'] == model) & (results_df['xvar_subset_code'] == 'all')]['Test Score']\n",
    "    print(f'{model} small {sub1.mean():.2f} v all {sub2.mean():.2f}: {ttest_ind(sub1, sub2)}')"
   ]
  },
  {
   "cell_type": "code",
   "execution_count": null,
   "metadata": {},
   "outputs": [],
   "source": [
    "# plot the individual scenario regression results\n",
    "for target in targets:\n",
    "\n",
    "    # we exclude GPAFSRegressor for now\n",
    "    tmp = results_df[(results_df['Target'] == target) & (results_df['Regression Model'] != 'GPAFSRegressor') \n",
    "                     & (results_df['Scenario'] != 'ALL')]\n",
    "\n",
    "    sns.stripplot(tmp, x='Scenario / Variables', y='Train Score', hue='Regression Model');\n",
    "    plt.xticks(rotation=45, ha='right')\n",
    "    plt.ylabel(f'Train $R^2$ on {target}')\n",
    "    plt.tight_layout()\n",
    "    plt.savefig(f'../outputs/results_boxplot_cv5_{target}_train_clim_sens_filter_sqrt.pdf')\n",
    "    plt.close()\n",
    "\n",
    "    sns.stripplot(tmp, x='Scenario / Variables', y='Test Score', hue='Regression Model');\n",
    "    plt.xticks(rotation=45, ha='right')\n",
    "    plt.ylabel(f'Test $R^2$ on {target}')\n",
    "    plt.tight_layout()\n",
    "    plt.savefig(f'../outputs/results_boxplot_cv5_{target}_test_clim_sens_filter_sqrt.pdf')\n",
    "    plt.close()\n"
   ]
  },
  {
   "cell_type": "code",
   "execution_count": null,
   "metadata": {},
   "outputs": [],
   "source": [
    "# plot the *unified* scenario regression results\n",
    "for target in targets:\n",
    "\n",
    "    # we exclude GPAFSRegressor for now\n",
    "    tmp = results_df[(results_df['Target'] == target) & (results_df['Regression Model'] != 'GPAFSRegressor')\n",
    "                     & (results_df['Scenario'] == 'ALL')]\n",
    "\n",
    "    sns.stripplot(tmp, x='Scenario / Variables', y='Train Score', hue='Regression Model');\n",
    "    plt.xticks(rotation=45, ha='right')\n",
    "    plt.ylabel(f'Train $R^2$ on {target}')\n",
    "    plt.tight_layout()\n",
    "    plt.savefig(f'../outputs/results_boxplot_cv5_{target}_unified_scenarios_train_clim_sens_filter_sqrt.pdf')\n",
    "    plt.close()\n",
    "\n",
    "    sns.stripplot(tmp, x='Scenario / Variables', y='Test Score', hue='Regression Model');\n",
    "    plt.xticks(rotation=45, ha='right')\n",
    "    plt.ylabel(f'Test $R^2$ on {target}')\n",
    "    plt.tight_layout()\n",
    "    plt.savefig(f'../outputs/results_boxplot_cv5_{target}_unified_scenarios_test_clim_sens_filter_sqrt.pdf')\n",
    "    plt.close()\n"
   ]
  },
  {
   "cell_type": "markdown",
   "metadata": {},
   "source": [
    "# Interpretation of models\n",
    "\n",
    "## Variable importance and equation interpretation\n",
    "\n",
    "In this section, we'll use a single train-test split and do a single run (per scenerio) for each of EN, RF, and SR\n",
    "as our goal will not be a comparison of performance but an investigation of variable importance.\n",
    "\n",
    "We include each scenario and all variables, not including the scenario-encoding variables.\n",
    "\n",
    "RF gives variable importance directly.\n",
    "\n",
    "EN does not, but we use abs(coefficient_i) * std(x_i)\n",
    "\n",
    "SR we'll just store the equations together with their loss and complexity values."
   ]
  },
  {
   "cell_type": "code",
   "execution_count": null,
   "metadata": {},
   "outputs": [],
   "source": [
    "scenarios = ['BASE_SSP2', '1p5c_OS_SSP2', '2C_SSP2', '2C_SSP2_DA30']\n",
    "\n",
    "import sympy_latex\n",
    "\n",
    "for scenario in scenarios:\n",
    "    Xy_tmp = Xy[Xy['Scenario'] == scenario]\n",
    "    X = Xy_tmp[xvar_subsets['all']]\n",
    "    for target in targets:\n",
    "        y = Xy_tmp[target]\n",
    "        X_train, X_test, y_train, y_test = train_test_split(X, y, test_size=0.2, random_state=1)\n",
    "\n",
    "        for m in [#RandomForestRegressor(), \n",
    "                  #ElasticNet(), \n",
    "                  PySRRegressor(unary_operators=[\"sqrt\"]), \n",
    "                  #GPAFSRegressor(20000, 4000, 0.5, 30, 5, \"symbolic_regression.bnf\", 0.3)]:\n",
    "        ]:\n",
    "\n",
    "            #m.fit(X_train, y_train)\n",
    "            #m.score(X_test, y_test)\n",
    "\n",
    "            if m.__class__.__name__ == 'RandomForestRegressor':\n",
    "                # importance is given directly by the method\n",
    "                imps = list(zip(m.feature_names_in_, m.feature_importances_))\n",
    "                imps.sort(key=lambda x: x[1], reverse=True)\n",
    "                imps = pd.DataFrame(imps, columns=['Feature', 'Importance'])\n",
    "                # print, write importances to csv and to tex\n",
    "                print(imps)\n",
    "                imps.to_csv(f'../outputs/importances_rf_{scenario}_{target}_clim_sens_filter_sqrt.csv')\n",
    "                imps['Feature'] = imps['Feature'].str.replace('_', ' ')\n",
    "                imps.to_latex(f'../outputs/importances_rf_{scenario}_{target}_clim_sens_filter_sqrt.tex', index=False)     \n",
    "            elif m.__class__.__name__ == 'ElasticNet':\n",
    "                # importance is abs(coef) * std deviation of the var\n",
    "                X_std = X_train.std(axis=0)\n",
    "                imps = np.abs(m.coef_) * X_std\n",
    "                imps = list(zip(m.feature_names_in_, imps))\n",
    "                imps.sort(key=lambda x: x[1], reverse=True)\n",
    "                imps = pd.DataFrame(imps, columns=['Feature', 'Importance'])\n",
    "                # print, write importances to csv and to tex\n",
    "                print(imps)\n",
    "                imps.to_csv(f'../outputs/importances_en_{scenario}_{target}_clim_sens_filter_sqrt.csv')\n",
    "                imps['Feature'] = imps['Feature'].str.replace('_', ' ')\n",
    "                imps.to_latex(f'../outputs/importances_en_{scenario}_{target}_clim_sens_filter_sqrt.tex', index=False)\n",
    "            elif m.__class__.__name__ == 'PySRRegressor' or m.__class__.__name__ == 'GPAFSRegressor':\n",
    "\n",
    "                if m.__class__.__name__ == 'PySRRegressor': method = 'sr'\n",
    "                if m.__class__.__name__ == 'GPAFSRegressor': method = 'magpie'\n",
    "\n",
    "                # print, write original equations to csv\n",
    "                #print(m.equations_)\n",
    "                #m.equations_.to_csv(f'../outputs/equations_{method}_{scenario}_{target}_clim_sens_filter_sqrt.csv')\n",
    "                # eqns = m.equations_\n",
    "\n",
    "                eqns = pd.read_csv(f'../outputs/equations_{method}_{scenario}_{target}_clim_sens_filter_sqrt.csv')\n",
    "\n",
    "                # write to latex table, but process first, and only useful columns\n",
    "                eqns = sympy_latex.process_equations_latex(eqns)\n",
    "                eqns = eqns[['vars', 'consts', 'complexity', 'loss', 'equation']]\n",
    "                #eqns['equation'] = eqns['equation'].str.replace('_', ' ')\n",
    "                eqns.to_latex(f'../outputs/equations_{method}_{scenario}_{target}_3cols_clim_sens_filter_sqrt.tex', index=False)\n"
   ]
  },
  {
   "cell_type": "code",
   "execution_count": null,
   "metadata": {},
   "outputs": [],
   "source": []
  }
 ],
 "metadata": {
  "kernelspec": {
   "display_name": ".venv (3.11.9)",
   "language": "python",
   "name": "python3"
  },
  "language_info": {
   "codemirror_mode": {
    "name": "ipython",
    "version": 3
   },
   "file_extension": ".py",
   "mimetype": "text/x-python",
   "name": "python",
   "nbconvert_exporter": "python",
   "pygments_lexer": "ipython3",
   "version": "3.11.9"
  }
 },
 "nbformat": 4,
 "nbformat_minor": 4
}
