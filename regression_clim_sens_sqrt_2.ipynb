{
 "cells": [
  {
   "cell_type": "markdown",
   "metadata": {},
   "source": [
    "# Regression - clim_sens and sqrt\n",
    "\n",
    "In this notebook we create many regression models - baselines and GPSR.\n",
    "\n",
    "We generate results files.\n",
    "\n",
    "This notebook requires the output from the data cleaning and data exploration notebooks.\n",
    "\n",
    "The *main* regression notebook gives main results. This notebook tries some alternate versions: climate sensitivity is truncated and we introduce sqrt to the language.\n"
   ]
  },
  {
   "cell_type": "code",
   "execution_count": 1,
   "metadata": {},
   "outputs": [
    {
     "name": "stdout",
     "output_type": "stream",
     "text": [
      "Detected IPython. Loading juliacall extension. See https://juliapy.github.io/PythonCall.jl/stable/compat/#IPython\n",
      "['Magpie', 'MagpieRegressor', '__builtins__', '__cached__', '__doc__', '__file__', '__loader__', '__name__', '__package__', '__path__', '__spec__', 'benchmarks', 'exceptions', 'fitness', 'grammar', 'interval', 'pareto', 'pysr_benchmark', 'winequality_red']\n"
     ]
    },
    {
     "name": "stderr",
     "output_type": "stream",
     "text": [
      "c:\\Users\\Sophie\\OneDrive - National University of Ireland, Galway\\Y1S2\\Thesis\\SHAP + RFR or PySR or NN\\capstone2025-shiels-TIMES\\.venv\\Lib\\site-packages\\tqdm\\auto.py:21: TqdmWarning: IProgress not found. Please update jupyter and ipywidgets. See https://ipywidgets.readthedocs.io/en/stable/user_install.html\n",
      "  from .autonotebook import tqdm as notebook_tqdm\n"
     ]
    },
    {
     "data": {
      "text/html": [
       "<div>\n",
       "<style scoped>\n",
       "    .dataframe tbody tr th:only-of-type {\n",
       "        vertical-align: middle;\n",
       "    }\n",
       "\n",
       "    .dataframe tbody tr th {\n",
       "        vertical-align: top;\n",
       "    }\n",
       "\n",
       "    .dataframe thead th {\n",
       "        text-align: right;\n",
       "    }\n",
       "</style>\n",
       "<table border=\"1\" class=\"dataframe\">\n",
       "  <thead>\n",
       "    <tr style=\"text-align: right;\">\n",
       "      <th></th>\n",
       "      <th>Scenario</th>\n",
       "      <th>SOW</th>\n",
       "      <th>Temp_Limit</th>\n",
       "      <th>Delay</th>\n",
       "      <th>GDP</th>\n",
       "      <th>Pop</th>\n",
       "      <th>Other_ESD_Drivers</th>\n",
       "      <th>SDR</th>\n",
       "      <th>Elast_ESD_Driver</th>\n",
       "      <th>Elast_ESD_Price</th>\n",
       "      <th>...</th>\n",
       "      <th>GSupply_Geothermal</th>\n",
       "      <th>GSupply_Nuclear</th>\n",
       "      <th>GSupply_Solar</th>\n",
       "      <th>GSupply_Tidal_Waves</th>\n",
       "      <th>GSupply_Wind</th>\n",
       "      <th>GConsumption</th>\n",
       "      <th>GConsumption_Fossil</th>\n",
       "      <th>GConsumption_Nuclear</th>\n",
       "      <th>GConsumption_Renewable</th>\n",
       "      <th>GCost</th>\n",
       "    </tr>\n",
       "  </thead>\n",
       "  <tbody>\n",
       "    <tr>\n",
       "      <th>0</th>\n",
       "      <td>BASE_SSP2</td>\n",
       "      <td>1</td>\n",
       "      <td>8.0</td>\n",
       "      <td>0</td>\n",
       "      <td>1.02329</td>\n",
       "      <td>1.009280</td>\n",
       "      <td>1.063100</td>\n",
       "      <td>3.70267</td>\n",
       "      <td>1.013020</td>\n",
       "      <td>1.216860</td>\n",
       "      <td>...</td>\n",
       "      <td>1.907061</td>\n",
       "      <td>4.167604</td>\n",
       "      <td>5.115586</td>\n",
       "      <td>2.424417</td>\n",
       "      <td>5.161512</td>\n",
       "      <td>812.092289</td>\n",
       "      <td>539.893683</td>\n",
       "      <td>43.075844</td>\n",
       "      <td>229.122762</td>\n",
       "      <td>24.788425</td>\n",
       "    </tr>\n",
       "    <tr>\n",
       "      <th>4</th>\n",
       "      <td>BASE_SSP2</td>\n",
       "      <td>5</td>\n",
       "      <td>8.0</td>\n",
       "      <td>0</td>\n",
       "      <td>1.00481</td>\n",
       "      <td>0.997576</td>\n",
       "      <td>1.127530</td>\n",
       "      <td>3.46723</td>\n",
       "      <td>1.087940</td>\n",
       "      <td>1.118800</td>\n",
       "      <td>...</td>\n",
       "      <td>1.915827</td>\n",
       "      <td>4.226128</td>\n",
       "      <td>5.810294</td>\n",
       "      <td>2.516766</td>\n",
       "      <td>6.502266</td>\n",
       "      <td>874.573547</td>\n",
       "      <td>592.973597</td>\n",
       "      <td>43.678409</td>\n",
       "      <td>237.921540</td>\n",
       "      <td>26.175837</td>\n",
       "    </tr>\n",
       "    <tr>\n",
       "      <th>5</th>\n",
       "      <td>BASE_SSP2</td>\n",
       "      <td>6</td>\n",
       "      <td>8.0</td>\n",
       "      <td>0</td>\n",
       "      <td>1.08269</td>\n",
       "      <td>1.031770</td>\n",
       "      <td>0.993713</td>\n",
       "      <td>3.77124</td>\n",
       "      <td>0.873656</td>\n",
       "      <td>0.989665</td>\n",
       "      <td>...</td>\n",
       "      <td>1.899880</td>\n",
       "      <td>4.272520</td>\n",
       "      <td>3.658103</td>\n",
       "      <td>2.384190</td>\n",
       "      <td>4.454559</td>\n",
       "      <td>712.984178</td>\n",
       "      <td>462.390198</td>\n",
       "      <td>44.156060</td>\n",
       "      <td>206.437920</td>\n",
       "      <td>22.522647</td>\n",
       "    </tr>\n",
       "    <tr>\n",
       "      <th>6</th>\n",
       "      <td>BASE_SSP2</td>\n",
       "      <td>7</td>\n",
       "      <td>8.0</td>\n",
       "      <td>0</td>\n",
       "      <td>1.11940</td>\n",
       "      <td>0.989002</td>\n",
       "      <td>0.971626</td>\n",
       "      <td>4.54539</td>\n",
       "      <td>1.055970</td>\n",
       "      <td>0.752712</td>\n",
       "      <td>...</td>\n",
       "      <td>1.932460</td>\n",
       "      <td>4.401001</td>\n",
       "      <td>5.408875</td>\n",
       "      <td>2.474168</td>\n",
       "      <td>6.264400</td>\n",
       "      <td>897.256776</td>\n",
       "      <td>632.347658</td>\n",
       "      <td>45.478900</td>\n",
       "      <td>219.430218</td>\n",
       "      <td>27.429091</td>\n",
       "    </tr>\n",
       "    <tr>\n",
       "      <th>7</th>\n",
       "      <td>BASE_SSP2</td>\n",
       "      <td>8</td>\n",
       "      <td>8.0</td>\n",
       "      <td>0</td>\n",
       "      <td>1.02483</td>\n",
       "      <td>1.022250</td>\n",
       "      <td>0.893182</td>\n",
       "      <td>3.54405</td>\n",
       "      <td>1.023780</td>\n",
       "      <td>0.985672</td>\n",
       "      <td>...</td>\n",
       "      <td>1.906197</td>\n",
       "      <td>4.145143</td>\n",
       "      <td>4.865129</td>\n",
       "      <td>2.404867</td>\n",
       "      <td>6.567324</td>\n",
       "      <td>810.309151</td>\n",
       "      <td>541.500007</td>\n",
       "      <td>42.844589</td>\n",
       "      <td>225.964555</td>\n",
       "      <td>24.229503</td>\n",
       "    </tr>\n",
       "  </tbody>\n",
       "</table>\n",
       "<p>5 rows × 44 columns</p>\n",
       "</div>"
      ],
      "text/plain": [
       "    Scenario  SOW  Temp_Limit  Delay      GDP       Pop  Other_ESD_Drivers  \\\n",
       "0  BASE_SSP2    1         8.0      0  1.02329  1.009280           1.063100   \n",
       "4  BASE_SSP2    5         8.0      0  1.00481  0.997576           1.127530   \n",
       "5  BASE_SSP2    6         8.0      0  1.08269  1.031770           0.993713   \n",
       "6  BASE_SSP2    7         8.0      0  1.11940  0.989002           0.971626   \n",
       "7  BASE_SSP2    8         8.0      0  1.02483  1.022250           0.893182   \n",
       "\n",
       "       SDR  Elast_ESD_Driver  Elast_ESD_Price  ...  GSupply_Geothermal  \\\n",
       "0  3.70267          1.013020         1.216860  ...            1.907061   \n",
       "4  3.46723          1.087940         1.118800  ...            1.915827   \n",
       "5  3.77124          0.873656         0.989665  ...            1.899880   \n",
       "6  4.54539          1.055970         0.752712  ...            1.932460   \n",
       "7  3.54405          1.023780         0.985672  ...            1.906197   \n",
       "\n",
       "   GSupply_Nuclear  GSupply_Solar  GSupply_Tidal_Waves  GSupply_Wind  \\\n",
       "0         4.167604       5.115586             2.424417      5.161512   \n",
       "4         4.226128       5.810294             2.516766      6.502266   \n",
       "5         4.272520       3.658103             2.384190      4.454559   \n",
       "6         4.401001       5.408875             2.474168      6.264400   \n",
       "7         4.145143       4.865129             2.404867      6.567324   \n",
       "\n",
       "   GConsumption  GConsumption_Fossil  GConsumption_Nuclear  \\\n",
       "0    812.092289           539.893683             43.075844   \n",
       "4    874.573547           592.973597             43.678409   \n",
       "5    712.984178           462.390198             44.156060   \n",
       "6    897.256776           632.347658             45.478900   \n",
       "7    810.309151           541.500007             42.844589   \n",
       "\n",
       "   GConsumption_Renewable      GCost  \n",
       "0              229.122762  24.788425  \n",
       "4              237.921540  26.175837  \n",
       "5              206.437920  22.522647  \n",
       "6              219.430218  27.429091  \n",
       "7              225.964555  24.229503  \n",
       "\n",
       "[5 rows x 44 columns]"
      ]
     },
     "execution_count": 1,
     "metadata": {},
     "output_type": "execute_result"
    }
   ],
   "source": [
    "from pysr import PySRRegressor\n",
    "import Magpie\n",
    "print(dir(Magpie))\n",
    "from Magpie import MagpieRegressor\n",
    "import time\n",
    "import numpy as np\n",
    "import pandas as pd\n",
    "import matplotlib.pyplot as plt\n",
    "import seaborn as sns\n",
    "import shap\n",
    "import sympy as sp\n",
    "import os\n",
    "from sklearn.neural_network import MLPRegressor\n",
    "\n",
    "from sklearn.model_selection import train_test_split, cross_val_score, cross_validate\n",
    "from sklearn.linear_model import ElasticNet\n",
    "\n",
    "\n",
    "from sklearn.ensemble import RandomForestRegressor\n",
    "\n",
    "#from pysr import PySRRegressor  # import after env var is set\n",
    "import matplotlib\n",
    "\n",
    "\n",
    "\n",
    "\n",
    "matplotlib.rcParams['pdf.fonttype'] = 42 # helps produce ACM-compliant figures\n",
    "matplotlib.rcParams['ps.fonttype'] = 42\n",
    "Xy = pd.read_csv(r\"C:\\Users\\Sophie\\OneDrive - National University of Ireland, Galway\\Y1S2\\Thesis\\GECCO Code\\Outputs\\data_Xy_clim_sens_filter.csv\", index_col=0)\n",
    "Xy.head()\n"
   ]
  },
  {
   "cell_type": "code",
   "execution_count": 2,
   "metadata": {},
   "outputs": [
    {
     "data": {
      "text/plain": [
       "Text(0.5, 0, 'GDP')"
      ]
     },
     "execution_count": 2,
     "metadata": {},
     "output_type": "execute_result"
    },
    {
     "data": {
      "image/png": "[encoded data removed]",
      "text/plain": [
       "<Figure size 640x480 with 1 Axes>"
      ]
     },
     "metadata": {},
     "output_type": "display_data"
    }
   ],
   "source": [
    "plt.scatter(Xy['GDP'], Xy['GSupply'])\n",
    "plt.ylabel('Global Supply')\n",
    "plt.xlabel('GDP')"
   ]
  },
  {
   "cell_type": "code",
   "execution_count": 3,
   "metadata": {},
   "outputs": [
    {
     "data": {
      "text/plain": [
       "['Scenario',\n",
       " 'SOW',\n",
       " 'Temp_Limit',\n",
       " 'Delay',\n",
       " 'GDP',\n",
       " 'Pop',\n",
       " 'Other_ESD_Drivers',\n",
       " 'SDR',\n",
       " 'Elast_ESD_Driver',\n",
       " 'Elast_ESD_Price',\n",
       " 'CO2_Storage_Poten',\n",
       " 'Wind_Poten',\n",
       " 'Solar_Poten',\n",
       " 'Biomass_Poten',\n",
       " 'Oil_Gas_Poten',\n",
       " 'Solar_PV_Inv_Cost',\n",
       " 'Wind_Inv_Cost',\n",
       " 'Bioenergy_CCS_Inv_Cost',\n",
       " 'Other_Tech_Cost',\n",
       " 'Forcing',\n",
       " 'Land_Sinks',\n",
       " 'Clim_Sens',\n",
       " 'Year',\n",
       " 'Temp_Change',\n",
       " 'Rad_Forcing',\n",
       " 'CO2_Conc',\n",
       " 'CH4_Conc',\n",
       " 'N20_Conc',\n",
       " 'Carbon',\n",
       " 'CO2eq',\n",
       " 'Marg_CO2_Cost',\n",
       " 'GSupply',\n",
       " 'GSupply_Bioenergy',\n",
       " 'GSupply_Fossil',\n",
       " 'GSupply_Geothermal',\n",
       " 'GSupply_Nuclear',\n",
       " 'GSupply_Solar',\n",
       " 'GSupply_Tidal_Waves',\n",
       " 'GSupply_Wind',\n",
       " 'GConsumption',\n",
       " 'GConsumption_Fossil',\n",
       " 'GConsumption_Nuclear',\n",
       " 'GConsumption_Renewable',\n",
       " 'GCost']"
      ]
     },
     "execution_count": 3,
     "metadata": {},
     "output_type": "execute_result"
    }
   ],
   "source": [
    "Xy.columns.tolist()"
   ]
  },
  {
   "cell_type": "code",
   "execution_count": 4,
   "metadata": {},
   "outputs": [
    {
     "data": {
      "text/plain": [
       "<Axes: >"
      ]
     },
     "execution_count": 4,
     "metadata": {},
     "output_type": "execute_result"
    },
    {
     "data": {
      "image/png": "[encoded data removed]",
      "text/plain": [
       "<Figure size 640x480 with 2 Axes>"
      ]
     },
     "metadata": {},
     "output_type": "display_data"
    }
   ],
   "source": [
    "features = [\n",
    " 'Pop',\n",
    " 'Other_ESD_Drivers',\n",
    " 'SDR',\n",
    " 'Elast_ESD_Driver',\n",
    " 'Elast_ESD_Price',\n",
    " 'CO2_Storage_Poten',\n",
    " 'Wind_Poten',\n",
    " 'Solar_Poten',\n",
    " 'Biomass_Poten',\n",
    " 'Oil_Gas_Poten',\n",
    " 'Solar_PV_Inv_Cost',\n",
    " 'Wind_Inv_Cost',\n",
    " 'Bioenergy_CCS_Inv_Cost',\n",
    " 'Other_Tech_Cost',\n",
    " 'Forcing',\n",
    " 'Land_Sinks',\n",
    " 'Clim_Sens',\n",
    " 'Year']\n",
    "corr_matrix = pd.DataFrame(Xy[features], columns = features).corr()\n",
    "sns.heatmap(corr_matrix, cmap = 'coolwarm', center = 0, annot = False, fmt = '.lg')"
   ]
  },
  {
   "cell_type": "markdown",
   "metadata": {},
   "source": [
    "## Experimental Design\n",
    "\n",
    "We try several target variables (ie dependent variable), several subsets of independent variables, several regression models. \n",
    "\n",
    "## Cross-validation\n",
    "\n",
    "In preliminary experiments we see large differences in performance according to train-test split - therefore, we use a 5-fold cross-validation.\n",
    "\n",
    "## Reporting\n",
    "\n",
    "For each of those 5 folds, we report the train $R^2$ and test $R^2$."
   ]
  },
  {
   "cell_type": "code",
   "execution_count": 5,
   "metadata": {
    "ExecuteTime": {
     "end_time": "2025-06-25T10:27:02.079804Z",
     "start_time": "2025-06-25T10:27:02.048554Z"
    }
   },
   "outputs": [
    {
     "name": "stdout",
     "output_type": "stream",
     "text": [
      "<class 'list'>\n",
      "dict_keys(['small', 'small_inc_enc', 'all', 'all_inc_enc'])\n"
     ]
    }
   ],
   "source": [
    "# We have two sets of X-variable subsets: 'small' and 'all'\n",
    "# The reason for this is some of the variables are not super impactful on the value of the prediction\n",
    "# For each subset, we have a variant which includes the scenario-encoding variables (_inc_enc)\n",
    "# and a variant which excludes them.\n",
    "# temperature limit and delay are the two features that make up each scenario\n",
    "# The idea is to compare a small versus a large subset for each scenario.\n",
    "# And then as an alternative, put all the scenarios together, with the scenario-encoding\n",
    "# variables included, and compare small versus large.\n",
    "xvar_subsets = {\n",
    "    'small': ['SDR', 'Clim_Sens', 'Pop', 'GDP'],\n",
    "    'small_inc_enc': ['Temp_Limit', 'Delay', 'SDR', 'Clim_Sens', 'Pop', 'GDP'],\n",
    "    'all': ['GDP', 'Pop',\n",
    "       'Other_ESD_Drivers', 'SDR', 'Elast_ESD_Driver', 'Elast_ESD_Price',\n",
    "       'CO2_Storage_Poten', 'Wind_Poten', 'Solar_Poten', 'Biomass_Poten',\n",
    "       'Oil_Gas_Poten', 'Solar_PV_Inv_Cost', 'Wind_Inv_Cost',\n",
    "       'Bioenergy_CCS_Inv_Cost', 'Other_Tech_Cost', 'Forcing', 'Land_Sinks',\n",
    "       'Clim_Sens'],\n",
    "    'all_inc_enc': ['Temp_Limit', 'Delay', 'GDP', 'Pop',\n",
    "       'Other_ESD_Drivers', 'SDR', 'Elast_ESD_Driver', 'Elast_ESD_Price',\n",
    "       'CO2_Storage_Poten', 'Wind_Poten', 'Solar_Poten', 'Biomass_Poten',\n",
    "       'Oil_Gas_Poten', 'Solar_PV_Inv_Cost', 'Wind_Inv_Cost',\n",
    "       'Bioenergy_CCS_Inv_Cost', 'Other_Tech_Cost', 'Forcing', 'Land_Sinks',\n",
    "       'Clim_Sens']\n",
    "}\n",
    "\n",
    "scenarios = ['BASE_SSP2', '1p5c_OS_SSP2', '2C_SSP2', '2C_SSP2_DA30', 'ALL']\n",
    "\n",
    "targets = ['GSupply', 'CO2eq', 'GConsumption', 'GCost'] # cannot do marginal CO2 as it's all-NaNs at 2050\n",
    "\n",
    "\n",
    "print(type(xvar_subsets['small']))\n",
    "print(xvar_subsets.keys())\n",
    "\n"
   ]
  },
  {
   "cell_type": "code",
   "execution_count": null,
   "metadata": {
    "ExecuteTime": {
     "start_time": "2025-06-25T14:59:24.326500Z"
    },
    "jupyter": {
     "is_executing": true
    }
   },
   "outputs": [
    {
     "name": "stdout",
     "output_type": "stream",
     "text": [
      "Scenario BASE_SSP2, xvar code small xvars ['SDR', 'Clim_Sens', 'Pop', 'GDP'], target GSupply\n",
      "\n",
      "Training Magpie Regressor...\n",
      "n_vars 4\n"
     ]
    },
    {
     "name": "stderr",
     "output_type": "stream",
     "text": [
      "C:\\Users\\Sophie\\OneDrive - National University of Ireland, Galway\\Y1S2\\Thesis\\SHAP + RFR or PySR or NN\\capstone2025-shiels-TIMES\\Magpie\\src\\Magpie\\fitness.py:72: OptimizeWarning: Covariance of the parameters could not be estimated\n",
      "  popt, pcov = curve_fit(p, X, y, p0=C_init)\n"
     ]
    },
    {
     "name": "stdout",
     "output_type": "stream",
     "text": [
      "Saved plots for Magpie Regressor to: c:\\Users\\Sophie\\OneDrive - National University of Ireland, Galway\\Y1S2\\Thesis\\SHAP + RFR or PySR or NN\\capstone2025-shiels-TIMES\\shap_outputs_25Sep2025\\Magpie Regressor\\BASE_SSP2\\GSupply\\small\n",
      "Training PySRRegressor...\n"
     ]
    },
    {
     "name": "stderr",
     "output_type": "stream",
     "text": [
      "c:\\Users\\Sophie\\OneDrive - National University of Ireland, Galway\\Y1S2\\Thesis\\SHAP + RFR or PySR or NN\\capstone2025-shiels-TIMES\\.venv\\Lib\\site-packages\\pysr\\sr.py:2811: UserWarning: Note: it looks like you are running in Jupyter. The progress bar will be turned off.\n",
      "  warnings.warn(\n",
      "c:\\Users\\Sophie\\OneDrive - National University of Ireland, Galway\\Y1S2\\Thesis\\SHAP + RFR or PySR or NN\\capstone2025-shiels-TIMES\\.venv\\Lib\\site-packages\\pysr\\sr.py:1873: UserWarning: Note: Setting `random_state` without also setting `deterministic=True` and `parallelism='serial'` will result in non-deterministic searches.\n",
      "  warnings.warn(\n"
     ]
    },
    {
     "name": "stdout",
     "output_type": "stream",
     "text": [
      "Saved plots for PySRRegressor to: c:\\Users\\Sophie\\OneDrive - National University of Ireland, Galway\\Y1S2\\Thesis\\SHAP + RFR or PySR or NN\\capstone2025-shiels-TIMES\\shap_outputs_25Sep2025\\PySRRegressor\\BASE_SSP2\\GSupply\\small\n",
      "Training RandomForestRegressor...\n",
      "Saved plots for RandomForestRegressor to: c:\\Users\\Sophie\\OneDrive - National University of Ireland, Galway\\Y1S2\\Thesis\\SHAP + RFR or PySR or NN\\capstone2025-shiels-TIMES\\shap_outputs_25Sep2025\\RandomForestRegressor\\BASE_SSP2\\GSupply\\small\n",
      "Training MLPRegressor...\n"
     ]
    },
    {
     "name": "stderr",
     "output_type": "stream",
     "text": [
      "c:\\Users\\Sophie\\OneDrive - National University of Ireland, Galway\\Y1S2\\Thesis\\SHAP + RFR or PySR or NN\\capstone2025-shiels-TIMES\\.venv\\Lib\\site-packages\\sklearn\\neural_network\\_multilayer_perceptron.py:780: ConvergenceWarning: Stochastic Optimizer: Maximum iterations (300) reached and the optimization hasn't converged yet.\n",
      "  warnings.warn(\n"
     ]
    },
    {
     "name": "stdout",
     "output_type": "stream",
     "text": [
      "Saved plots for MLPRegressor to: c:\\Users\\Sophie\\OneDrive - National University of Ireland, Galway\\Y1S2\\Thesis\\SHAP + RFR or PySR or NN\\capstone2025-shiels-TIMES\\shap_outputs_25Sep2025\\MLPRegressor\\BASE_SSP2\\GSupply\\small\n",
      "Scenario BASE_SSP2, xvar code all xvars ['GDP', 'Pop', 'Other_ESD_Drivers', 'SDR', 'Elast_ESD_Driver', 'Elast_ESD_Price', 'CO2_Storage_Poten', 'Wind_Poten', 'Solar_Poten', 'Biomass_Poten', 'Oil_Gas_Poten', 'Solar_PV_Inv_Cost', 'Wind_Inv_Cost', 'Bioenergy_CCS_Inv_Cost', 'Other_Tech_Cost', 'Forcing', 'Land_Sinks', 'Clim_Sens'], target GSupply\n",
      "\n",
      "Training Magpie Regressor...\n",
      "n_vars 18\n"
     ]
    },
    {
     "name": "stderr",
     "output_type": "stream",
     "text": [
      "C:\\Users\\Sophie\\OneDrive - National University of Ireland, Galway\\Y1S2\\Thesis\\SHAP + RFR or PySR or NN\\capstone2025-shiels-TIMES\\Magpie\\src\\Magpie\\fitness.py:72: OptimizeWarning: Covariance of the parameters could not be estimated\n",
      "  popt, pcov = curve_fit(p, X, y, p0=C_init)\n",
      "C:\\Users\\Sophie\\AppData\\Local\\Temp\\ipykernel_21592\\393379015.py:105: UserWarning: Tight layout not applied. tight_layout cannot make Axes width small enough to accommodate all Axes decorations\n",
      "  plt.tight_layout()\n",
      "C:\\Users\\Sophie\\AppData\\Local\\Temp\\ipykernel_21592\\393379015.py:107: UserWarning: Tight layout not applied. tight_layout cannot make Axes width small enough to accommodate all Axes decorations\n",
      "  fig.tight_layout()\n"
     ]
    },
    {
     "name": "stdout",
     "output_type": "stream",
     "text": [
      "Saved plots for Magpie Regressor to: c:\\Users\\Sophie\\OneDrive - National University of Ireland, Galway\\Y1S2\\Thesis\\SHAP + RFR or PySR or NN\\capstone2025-shiels-TIMES\\shap_outputs_25Sep2025\\Magpie Regressor\\BASE_SSP2\\GSupply\\all\n",
      "Training PySRRegressor...\n"
     ]
    },
    {
     "name": "stderr",
     "output_type": "stream",
     "text": [
      "c:\\Users\\Sophie\\OneDrive - National University of Ireland, Galway\\Y1S2\\Thesis\\SHAP + RFR or PySR or NN\\capstone2025-shiels-TIMES\\.venv\\Lib\\site-packages\\pysr\\sr.py:2811: UserWarning: Note: it looks like you are running in Jupyter. The progress bar will be turned off.\n",
      "  warnings.warn(\n",
      "c:\\Users\\Sophie\\OneDrive - National University of Ireland, Galway\\Y1S2\\Thesis\\SHAP + RFR or PySR or NN\\capstone2025-shiels-TIMES\\.venv\\Lib\\site-packages\\pysr\\sr.py:1873: UserWarning: Note: Setting `random_state` without also setting `deterministic=True` and `parallelism='serial'` will result in non-deterministic searches.\n",
      "  warnings.warn(\n",
      "PermutationExplainer explainer: 162it [00:24,  3.65it/s]                         \n",
      "C:\\Users\\Sophie\\AppData\\Local\\Temp\\ipykernel_21592\\393379015.py:105: UserWarning: Tight layout not applied. tight_layout cannot make Axes width small enough to accommodate all Axes decorations\n",
      "  plt.tight_layout()\n",
      "C:\\Users\\Sophie\\AppData\\Local\\Temp\\ipykernel_21592\\393379015.py:107: UserWarning: Tight layout not applied. tight_layout cannot make Axes width small enough to accommodate all Axes decorations\n",
      "  fig.tight_layout()\n"
     ]
    },
    {
     "name": "stdout",
     "output_type": "stream",
     "text": [
      "Saved plots for PySRRegressor to: c:\\Users\\Sophie\\OneDrive - National University of Ireland, Galway\\Y1S2\\Thesis\\SHAP + RFR or PySR or NN\\capstone2025-shiels-TIMES\\shap_outputs_25Sep2025\\PySRRegressor\\BASE_SSP2\\GSupply\\all\n",
      "Training RandomForestRegressor...\n"
     ]
    },
    {
     "name": "stderr",
     "output_type": "stream",
     "text": [
      "PermutationExplainer explainer: 162it [00:53,  2.51it/s]                         \n",
      "C:\\Users\\Sophie\\AppData\\Local\\Temp\\ipykernel_21592\\393379015.py:105: UserWarning: Tight layout not applied. tight_layout cannot make Axes width small enough to accommodate all Axes decorations\n",
      "  plt.tight_layout()\n",
      "C:\\Users\\Sophie\\AppData\\Local\\Temp\\ipykernel_21592\\393379015.py:107: UserWarning: Tight layout not applied. tight_layout cannot make Axes width small enough to accommodate all Axes decorations\n",
      "  fig.tight_layout()\n"
     ]
    },
    {
     "name": "stdout",
     "output_type": "stream",
     "text": [
      "Saved plots for RandomForestRegressor to: c:\\Users\\Sophie\\OneDrive - National University of Ireland, Galway\\Y1S2\\Thesis\\SHAP + RFR or PySR or NN\\capstone2025-shiels-TIMES\\shap_outputs_25Sep2025\\RandomForestRegressor\\BASE_SSP2\\GSupply\\all\n",
      "Training MLPRegressor...\n"
     ]
    },
    {
     "name": "stderr",
     "output_type": "stream",
     "text": [
      "PermutationExplainer explainer: 162it [00:10,  5.05s/it]                 \n",
      "C:\\Users\\Sophie\\AppData\\Local\\Temp\\ipykernel_21592\\393379015.py:105: UserWarning: Tight layout not applied. tight_layout cannot make Axes width small enough to accommodate all Axes decorations\n",
      "  plt.tight_layout()\n",
      "C:\\Users\\Sophie\\AppData\\Local\\Temp\\ipykernel_21592\\393379015.py:107: UserWarning: Tight layout not applied. tight_layout cannot make Axes width small enough to accommodate all Axes decorations\n",
      "  fig.tight_layout()\n"
     ]
    },
    {
     "name": "stdout",
     "output_type": "stream",
     "text": [
      "Saved plots for MLPRegressor to: c:\\Users\\Sophie\\OneDrive - National University of Ireland, Galway\\Y1S2\\Thesis\\SHAP + RFR or PySR or NN\\capstone2025-shiels-TIMES\\shap_outputs_25Sep2025\\MLPRegressor\\BASE_SSP2\\GSupply\\all\n",
      "Scenario 1p5c_OS_SSP2, xvar code small xvars ['SDR', 'Clim_Sens', 'Pop', 'GDP'], target GSupply\n",
      "\n",
      "Training Magpie Regressor...\n",
      "n_vars 4\n"
     ]
    },
    {
     "name": "stderr",
     "output_type": "stream",
     "text": [
      "C:\\Users\\Sophie\\OneDrive - National University of Ireland, Galway\\Y1S2\\Thesis\\SHAP + RFR or PySR or NN\\capstone2025-shiels-TIMES\\Magpie\\src\\Magpie\\fitness.py:72: OptimizeWarning: Covariance of the parameters could not be estimated\n",
      "  popt, pcov = curve_fit(p, X, y, p0=C_init)\n"
     ]
    },
    {
     "name": "stdout",
     "output_type": "stream",
     "text": [
      "Saved plots for Magpie Regressor to: c:\\Users\\Sophie\\OneDrive - National University of Ireland, Galway\\Y1S2\\Thesis\\SHAP + RFR or PySR or NN\\capstone2025-shiels-TIMES\\shap_outputs_25Sep2025\\Magpie Regressor\\1p5c_OS_SSP2\\GSupply\\small\n",
      "Training PySRRegressor...\n"
     ]
    },
    {
     "name": "stderr",
     "output_type": "stream",
     "text": [
      "c:\\Users\\Sophie\\OneDrive - National University of Ireland, Galway\\Y1S2\\Thesis\\SHAP + RFR or PySR or NN\\capstone2025-shiels-TIMES\\.venv\\Lib\\site-packages\\pysr\\sr.py:2811: UserWarning: Note: it looks like you are running in Jupyter. The progress bar will be turned off.\n",
      "  warnings.warn(\n",
      "c:\\Users\\Sophie\\OneDrive - National University of Ireland, Galway\\Y1S2\\Thesis\\SHAP + RFR or PySR or NN\\capstone2025-shiels-TIMES\\.venv\\Lib\\site-packages\\pysr\\sr.py:1873: UserWarning: Note: Setting `random_state` without also setting `deterministic=True` and `parallelism='serial'` will result in non-deterministic searches.\n",
      "  warnings.warn(\n"
     ]
    },
    {
     "name": "stdout",
     "output_type": "stream",
     "text": [
      "Saved plots for PySRRegressor to: c:\\Users\\Sophie\\OneDrive - National University of Ireland, Galway\\Y1S2\\Thesis\\SHAP + RFR or PySR or NN\\capstone2025-shiels-TIMES\\shap_outputs_25Sep2025\\PySRRegressor\\1p5c_OS_SSP2\\GSupply\\small\n",
      "Training RandomForestRegressor...\n",
      "Saved plots for RandomForestRegressor to: c:\\Users\\Sophie\\OneDrive - National University of Ireland, Galway\\Y1S2\\Thesis\\SHAP + RFR or PySR or NN\\capstone2025-shiels-TIMES\\shap_outputs_25Sep2025\\RandomForestRegressor\\1p5c_OS_SSP2\\GSupply\\small\n",
      "Training MLPRegressor...\n"
     ]
    },
    {
     "name": "stderr",
     "output_type": "stream",
     "text": [
      "c:\\Users\\Sophie\\OneDrive - National University of Ireland, Galway\\Y1S2\\Thesis\\SHAP + RFR or PySR or NN\\capstone2025-shiels-TIMES\\.venv\\Lib\\site-packages\\sklearn\\neural_network\\_multilayer_perceptron.py:780: ConvergenceWarning: Stochastic Optimizer: Maximum iterations (300) reached and the optimization hasn't converged yet.\n",
      "  warnings.warn(\n"
     ]
    },
    {
     "name": "stdout",
     "output_type": "stream",
     "text": [
      "Saved plots for MLPRegressor to: c:\\Users\\Sophie\\OneDrive - National University of Ireland, Galway\\Y1S2\\Thesis\\SHAP + RFR or PySR or NN\\capstone2025-shiels-TIMES\\shap_outputs_25Sep2025\\MLPRegressor\\1p5c_OS_SSP2\\GSupply\\small\n",
      "Scenario 1p5c_OS_SSP2, xvar code all xvars ['GDP', 'Pop', 'Other_ESD_Drivers', 'SDR', 'Elast_ESD_Driver', 'Elast_ESD_Price', 'CO2_Storage_Poten', 'Wind_Poten', 'Solar_Poten', 'Biomass_Poten', 'Oil_Gas_Poten', 'Solar_PV_Inv_Cost', 'Wind_Inv_Cost', 'Bioenergy_CCS_Inv_Cost', 'Other_Tech_Cost', 'Forcing', 'Land_Sinks', 'Clim_Sens'], target GSupply\n",
      "\n",
      "Training Magpie Regressor...\n",
      "n_vars 18\n"
     ]
    },
    {
     "name": "stderr",
     "output_type": "stream",
     "text": [
      "C:\\Users\\Sophie\\OneDrive - National University of Ireland, Galway\\Y1S2\\Thesis\\SHAP + RFR or PySR or NN\\capstone2025-shiels-TIMES\\Magpie\\src\\Magpie\\fitness.py:72: OptimizeWarning: Covariance of the parameters could not be estimated\n",
      "  popt, pcov = curve_fit(p, X, y, p0=C_init)\n",
      "C:\\Users\\Sophie\\AppData\\Local\\Temp\\ipykernel_21592\\393379015.py:105: UserWarning: Tight layout not applied. tight_layout cannot make Axes width small enough to accommodate all Axes decorations\n",
      "  plt.tight_layout()\n",
      "C:\\Users\\Sophie\\AppData\\Local\\Temp\\ipykernel_21592\\393379015.py:107: UserWarning: Tight layout not applied. tight_layout cannot make Axes width small enough to accommodate all Axes decorations\n",
      "  fig.tight_layout()\n"
     ]
    },
    {
     "name": "stdout",
     "output_type": "stream",
     "text": [
      "Saved plots for Magpie Regressor to: c:\\Users\\Sophie\\OneDrive - National University of Ireland, Galway\\Y1S2\\Thesis\\SHAP + RFR or PySR or NN\\capstone2025-shiels-TIMES\\shap_outputs_25Sep2025\\Magpie Regressor\\1p5c_OS_SSP2\\GSupply\\all\n",
      "Training PySRRegressor...\n"
     ]
    },
    {
     "name": "stderr",
     "output_type": "stream",
     "text": [
      "c:\\Users\\Sophie\\OneDrive - National University of Ireland, Galway\\Y1S2\\Thesis\\SHAP + RFR or PySR or NN\\capstone2025-shiels-TIMES\\.venv\\Lib\\site-packages\\pysr\\sr.py:2811: UserWarning: Note: it looks like you are running in Jupyter. The progress bar will be turned off.\n",
      "  warnings.warn(\n",
      "c:\\Users\\Sophie\\OneDrive - National University of Ireland, Galway\\Y1S2\\Thesis\\SHAP + RFR or PySR or NN\\capstone2025-shiels-TIMES\\.venv\\Lib\\site-packages\\pysr\\sr.py:1873: UserWarning: Note: Setting `random_state` without also setting `deterministic=True` and `parallelism='serial'` will result in non-deterministic searches.\n",
      "  warnings.warn(\n",
      "PermutationExplainer explainer: 162it [00:15,  3.71it/s]                         \n",
      "C:\\Users\\Sophie\\AppData\\Local\\Temp\\ipykernel_21592\\393379015.py:105: UserWarning: Tight layout not applied. tight_layout cannot make Axes width small enough to accommodate all Axes decorations\n",
      "  plt.tight_layout()\n",
      "C:\\Users\\Sophie\\AppData\\Local\\Temp\\ipykernel_21592\\393379015.py:107: UserWarning: Tight layout not applied. tight_layout cannot make Axes width small enough to accommodate all Axes decorations\n",
      "  fig.tight_layout()\n"
     ]
    },
    {
     "name": "stdout",
     "output_type": "stream",
     "text": [
      "Saved plots for PySRRegressor to: c:\\Users\\Sophie\\OneDrive - National University of Ireland, Galway\\Y1S2\\Thesis\\SHAP + RFR or PySR or NN\\capstone2025-shiels-TIMES\\shap_outputs_25Sep2025\\PySRRegressor\\1p5c_OS_SSP2\\GSupply\\all\n",
      "Training RandomForestRegressor...\n"
     ]
    },
    {
     "name": "stderr",
     "output_type": "stream",
     "text": [
      "PermutationExplainer explainer: 162it [00:39,  3.09it/s]                         \n",
      "C:\\Users\\Sophie\\AppData\\Local\\Temp\\ipykernel_21592\\393379015.py:105: UserWarning: Tight layout not applied. tight_layout cannot make Axes width small enough to accommodate all Axes decorations\n",
      "  plt.tight_layout()\n",
      "C:\\Users\\Sophie\\AppData\\Local\\Temp\\ipykernel_21592\\393379015.py:107: UserWarning: Tight layout not applied. tight_layout cannot make Axes width small enough to accommodate all Axes decorations\n",
      "  fig.tight_layout()\n"
     ]
    },
    {
     "name": "stdout",
     "output_type": "stream",
     "text": [
      "Saved plots for RandomForestRegressor to: c:\\Users\\Sophie\\OneDrive - National University of Ireland, Galway\\Y1S2\\Thesis\\SHAP + RFR or PySR or NN\\capstone2025-shiels-TIMES\\shap_outputs_25Sep2025\\RandomForestRegressor\\1p5c_OS_SSP2\\GSupply\\all\n",
      "Training MLPRegressor...\n"
     ]
    },
    {
     "name": "stderr",
     "output_type": "stream",
     "text": [
      "C:\\Users\\Sophie\\AppData\\Local\\Temp\\ipykernel_21592\\393379015.py:105: UserWarning: Tight layout not applied. tight_layout cannot make Axes width small enough to accommodate all Axes decorations\n",
      "  plt.tight_layout()\n",
      "C:\\Users\\Sophie\\AppData\\Local\\Temp\\ipykernel_21592\\393379015.py:107: UserWarning: Tight layout not applied. tight_layout cannot make Axes width small enough to accommodate all Axes decorations\n",
      "  fig.tight_layout()\n"
     ]
    },
    {
     "name": "stdout",
     "output_type": "stream",
     "text": [
      "Saved plots for MLPRegressor to: c:\\Users\\Sophie\\OneDrive - National University of Ireland, Galway\\Y1S2\\Thesis\\SHAP + RFR or PySR or NN\\capstone2025-shiels-TIMES\\shap_outputs_25Sep2025\\MLPRegressor\\1p5c_OS_SSP2\\GSupply\\all\n",
      "Scenario 2C_SSP2, xvar code small xvars ['SDR', 'Clim_Sens', 'Pop', 'GDP'], target GSupply\n",
      "\n",
      "Training Magpie Regressor...\n",
      "n_vars 4\n"
     ]
    },
    {
     "name": "stderr",
     "output_type": "stream",
     "text": [
      "C:\\Users\\Sophie\\OneDrive - National University of Ireland, Galway\\Y1S2\\Thesis\\SHAP + RFR or PySR or NN\\capstone2025-shiels-TIMES\\Magpie\\src\\Magpie\\fitness.py:72: OptimizeWarning: Covariance of the parameters could not be estimated\n",
      "  popt, pcov = curve_fit(p, X, y, p0=C_init)\n"
     ]
    },
    {
     "name": "stdout",
     "output_type": "stream",
     "text": [
      "Saved plots for Magpie Regressor to: c:\\Users\\Sophie\\OneDrive - National University of Ireland, Galway\\Y1S2\\Thesis\\SHAP + RFR or PySR or NN\\capstone2025-shiels-TIMES\\shap_outputs_25Sep2025\\Magpie Regressor\\2C_SSP2\\GSupply\\small\n",
      "Training PySRRegressor...\n"
     ]
    },
    {
     "name": "stderr",
     "output_type": "stream",
     "text": [
      "c:\\Users\\Sophie\\OneDrive - National University of Ireland, Galway\\Y1S2\\Thesis\\SHAP + RFR or PySR or NN\\capstone2025-shiels-TIMES\\.venv\\Lib\\site-packages\\pysr\\sr.py:2811: UserWarning: Note: it looks like you are running in Jupyter. The progress bar will be turned off.\n",
      "  warnings.warn(\n",
      "c:\\Users\\Sophie\\OneDrive - National University of Ireland, Galway\\Y1S2\\Thesis\\SHAP + RFR or PySR or NN\\capstone2025-shiels-TIMES\\.venv\\Lib\\site-packages\\pysr\\sr.py:1873: UserWarning: Note: Setting `random_state` without also setting `deterministic=True` and `parallelism='serial'` will result in non-deterministic searches.\n",
      "  warnings.warn(\n"
     ]
    },
    {
     "name": "stdout",
     "output_type": "stream",
     "text": [
      "Saved plots for PySRRegressor to: c:\\Users\\Sophie\\OneDrive - National University of Ireland, Galway\\Y1S2\\Thesis\\SHAP + RFR or PySR or NN\\capstone2025-shiels-TIMES\\shap_outputs_25Sep2025\\PySRRegressor\\2C_SSP2\\GSupply\\small\n",
      "Training RandomForestRegressor...\n",
      "Saved plots for RandomForestRegressor to: c:\\Users\\Sophie\\OneDrive - National University of Ireland, Galway\\Y1S2\\Thesis\\SHAP + RFR or PySR or NN\\capstone2025-shiels-TIMES\\shap_outputs_25Sep2025\\RandomForestRegressor\\2C_SSP2\\GSupply\\small\n",
      "Training MLPRegressor...\n"
     ]
    },
    {
     "name": "stderr",
     "output_type": "stream",
     "text": [
      "c:\\Users\\Sophie\\OneDrive - National University of Ireland, Galway\\Y1S2\\Thesis\\SHAP + RFR or PySR or NN\\capstone2025-shiels-TIMES\\.venv\\Lib\\site-packages\\sklearn\\neural_network\\_multilayer_perceptron.py:780: ConvergenceWarning: Stochastic Optimizer: Maximum iterations (300) reached and the optimization hasn't converged yet.\n",
      "  warnings.warn(\n",
      "c:\\Users\\Sophie\\OneDrive - National University of Ireland, Galway\\Y1S2\\Thesis\\SHAP + RFR or PySR or NN\\capstone2025-shiels-TIMES\\.venv\\Lib\\site-packages\\shap\\plots\\_scatter.py:143: RuntimeWarning: More than 20 figures have been opened. Figures created through the pyplot interface (`matplotlib.pyplot.figure`) are retained until explicitly closed and may consume too much memory. (To control this warning, see the rcParam `figure.max_open_warning`). Consider using `matplotlib.pyplot.close()`.\n",
      "  _ = plt.subplots(1, len(inds), figsize=(min(6 * len(inds), 15), 5))\n",
      "C:\\Users\\Sophie\\AppData\\Local\\Temp\\ipykernel_21592\\393379015.py:81: RuntimeWarning: More than 20 figures have been opened. Figures created through the pyplot interface (`matplotlib.pyplot.figure`) are retained until explicitly closed and may consume too much memory. (To control this warning, see the rcParam `figure.max_open_warning`). Consider using `matplotlib.pyplot.close()`.\n",
      "  plt.figure(figsize=(10, 6))\n",
      "C:\\Users\\Sophie\\AppData\\Local\\Temp\\ipykernel_21592\\393379015.py:81: RuntimeWarning: More than 20 figures have been opened. Figures created through the pyplot interface (`matplotlib.pyplot.figure`) are retained until explicitly closed and may consume too much memory. (To control this warning, see the rcParam `figure.max_open_warning`). Consider using `matplotlib.pyplot.close()`.\n",
      "  plt.figure(figsize=(10, 6))\n",
      "C:\\Users\\Sophie\\AppData\\Local\\Temp\\ipykernel_21592\\393379015.py:81: RuntimeWarning: More than 20 figures have been opened. Figures created through the pyplot interface (`matplotlib.pyplot.figure`) are retained until explicitly closed and may consume too much memory. (To control this warning, see the rcParam `figure.max_open_warning`). Consider using `matplotlib.pyplot.close()`.\n",
      "  plt.figure(figsize=(10, 6))\n",
      "C:\\Users\\Sophie\\AppData\\Local\\Temp\\ipykernel_21592\\393379015.py:81: RuntimeWarning: More than 20 figures have been opened. Figures created through the pyplot interface (`matplotlib.pyplot.figure`) are retained until explicitly closed and may consume too much memory. (To control this warning, see the rcParam `figure.max_open_warning`). Consider using `matplotlib.pyplot.close()`.\n",
      "  plt.figure(figsize=(10, 6))\n"
     ]
    },
    {
     "name": "stdout",
     "output_type": "stream",
     "text": [
      "Saved plots for MLPRegressor to: c:\\Users\\Sophie\\OneDrive - National University of Ireland, Galway\\Y1S2\\Thesis\\SHAP + RFR or PySR or NN\\capstone2025-shiels-TIMES\\shap_outputs_25Sep2025\\MLPRegressor\\2C_SSP2\\GSupply\\small\n",
      "Scenario 2C_SSP2, xvar code all xvars ['GDP', 'Pop', 'Other_ESD_Drivers', 'SDR', 'Elast_ESD_Driver', 'Elast_ESD_Price', 'CO2_Storage_Poten', 'Wind_Poten', 'Solar_Poten', 'Biomass_Poten', 'Oil_Gas_Poten', 'Solar_PV_Inv_Cost', 'Wind_Inv_Cost', 'Bioenergy_CCS_Inv_Cost', 'Other_Tech_Cost', 'Forcing', 'Land_Sinks', 'Clim_Sens'], target GSupply\n",
      "\n",
      "Training Magpie Regressor...\n",
      "n_vars 18\n"
     ]
    },
    {
     "name": "stderr",
     "output_type": "stream",
     "text": [
      "C:\\Users\\Sophie\\OneDrive - National University of Ireland, Galway\\Y1S2\\Thesis\\SHAP + RFR or PySR or NN\\capstone2025-shiels-TIMES\\Magpie\\src\\Magpie\\fitness.py:72: OptimizeWarning: Covariance of the parameters could not be estimated\n",
      "  popt, pcov = curve_fit(p, X, y, p0=C_init)\n",
      "C:\\Users\\Sophie\\AppData\\Local\\Temp\\ipykernel_21592\\393379015.py:81: RuntimeWarning: More than 20 figures have been opened. Figures created through the pyplot interface (`matplotlib.pyplot.figure`) are retained until explicitly closed and may consume too much memory. (To control this warning, see the rcParam `figure.max_open_warning`). Consider using `matplotlib.pyplot.close()`.\n",
      "  plt.figure(figsize=(10, 6))\n",
      "C:\\Users\\Sophie\\AppData\\Local\\Temp\\ipykernel_21592\\393379015.py:81: RuntimeWarning: More than 20 figures have been opened. Figures created through the pyplot interface (`matplotlib.pyplot.figure`) are retained until explicitly closed and may consume too much memory. (To control this warning, see the rcParam `figure.max_open_warning`). Consider using `matplotlib.pyplot.close()`.\n",
      "  plt.figure(figsize=(10, 6))\n",
      "C:\\Users\\Sophie\\AppData\\Local\\Temp\\ipykernel_21592\\393379015.py:105: UserWarning: Tight layout not applied. tight_layout cannot make Axes width small enough to accommodate all Axes decorations\n",
      "  plt.tight_layout()\n",
      "C:\\Users\\Sophie\\AppData\\Local\\Temp\\ipykernel_21592\\393379015.py:107: UserWarning: Tight layout not applied. tight_layout cannot make Axes width small enough to accommodate all Axes decorations\n",
      "  fig.tight_layout()\n"
     ]
    },
    {
     "name": "stdout",
     "output_type": "stream",
     "text": [
      "Saved plots for Magpie Regressor to: c:\\Users\\Sophie\\OneDrive - National University of Ireland, Galway\\Y1S2\\Thesis\\SHAP + RFR or PySR or NN\\capstone2025-shiels-TIMES\\shap_outputs_25Sep2025\\Magpie Regressor\\2C_SSP2\\GSupply\\all\n",
      "Training PySRRegressor...\n"
     ]
    },
    {
     "name": "stderr",
     "output_type": "stream",
     "text": [
      "c:\\Users\\Sophie\\OneDrive - National University of Ireland, Galway\\Y1S2\\Thesis\\SHAP + RFR or PySR or NN\\capstone2025-shiels-TIMES\\.venv\\Lib\\site-packages\\pysr\\sr.py:2811: UserWarning: Note: it looks like you are running in Jupyter. The progress bar will be turned off.\n",
      "  warnings.warn(\n",
      "c:\\Users\\Sophie\\OneDrive - National University of Ireland, Galway\\Y1S2\\Thesis\\SHAP + RFR or PySR or NN\\capstone2025-shiels-TIMES\\.venv\\Lib\\site-packages\\pysr\\sr.py:1873: UserWarning: Note: Setting `random_state` without also setting `deterministic=True` and `parallelism='serial'` will result in non-deterministic searches.\n",
      "  warnings.warn(\n",
      "PermutationExplainer explainer: 162it [00:21,  4.00it/s]                         \n",
      "C:\\Users\\Sophie\\AppData\\Local\\Temp\\ipykernel_21592\\393379015.py:105: UserWarning: Tight layout not applied. tight_layout cannot make Axes width small enough to accommodate all Axes decorations\n",
      "  plt.tight_layout()\n",
      "C:\\Users\\Sophie\\AppData\\Local\\Temp\\ipykernel_21592\\393379015.py:107: UserWarning: Tight layout not applied. tight_layout cannot make Axes width small enough to accommodate all Axes decorations\n",
      "  fig.tight_layout()\n"
     ]
    },
    {
     "name": "stdout",
     "output_type": "stream",
     "text": [
      "Saved plots for PySRRegressor to: c:\\Users\\Sophie\\OneDrive - National University of Ireland, Galway\\Y1S2\\Thesis\\SHAP + RFR or PySR or NN\\capstone2025-shiels-TIMES\\shap_outputs_25Sep2025\\PySRRegressor\\2C_SSP2\\GSupply\\all\n",
      "Training RandomForestRegressor...\n"
     ]
    },
    {
     "name": "stderr",
     "output_type": "stream",
     "text": [
      "PermutationExplainer explainer: 162it [00:37,  3.24it/s]                         \n",
      "C:\\Users\\Sophie\\AppData\\Local\\Temp\\ipykernel_21592\\393379015.py:105: UserWarning: Tight layout not applied. tight_layout cannot make Axes width small enough to accommodate all Axes decorations\n",
      "  plt.tight_layout()\n",
      "C:\\Users\\Sophie\\AppData\\Local\\Temp\\ipykernel_21592\\393379015.py:107: UserWarning: Tight layout not applied. tight_layout cannot make Axes width small enough to accommodate all Axes decorations\n",
      "  fig.tight_layout()\n"
     ]
    },
    {
     "name": "stdout",
     "output_type": "stream",
     "text": [
      "Saved plots for RandomForestRegressor to: c:\\Users\\Sophie\\OneDrive - National University of Ireland, Galway\\Y1S2\\Thesis\\SHAP + RFR or PySR or NN\\capstone2025-shiels-TIMES\\shap_outputs_25Sep2025\\RandomForestRegressor\\2C_SSP2\\GSupply\\all\n",
      "Training MLPRegressor...\n"
     ]
    },
    {
     "name": "stderr",
     "output_type": "stream",
     "text": [
      "C:\\Users\\Sophie\\AppData\\Local\\Temp\\ipykernel_21592\\393379015.py:105: UserWarning: Tight layout not applied. tight_layout cannot make Axes width small enough to accommodate all Axes decorations\n",
      "  plt.tight_layout()\n",
      "C:\\Users\\Sophie\\AppData\\Local\\Temp\\ipykernel_21592\\393379015.py:107: UserWarning: Tight layout not applied. tight_layout cannot make Axes width small enough to accommodate all Axes decorations\n",
      "  fig.tight_layout()\n"
     ]
    },
    {
     "name": "stdout",
     "output_type": "stream",
     "text": [
      "Saved plots for MLPRegressor to: c:\\Users\\Sophie\\OneDrive - National University of Ireland, Galway\\Y1S2\\Thesis\\SHAP + RFR or PySR or NN\\capstone2025-shiels-TIMES\\shap_outputs_25Sep2025\\MLPRegressor\\2C_SSP2\\GSupply\\all\n",
      "Scenario 2C_SSP2_DA30, xvar code small xvars ['SDR', 'Clim_Sens', 'Pop', 'GDP'], target GSupply\n",
      "\n",
      "Training Magpie Regressor...\n",
      "n_vars 4\n"
     ]
    },
    {
     "name": "stderr",
     "output_type": "stream",
     "text": [
      "C:\\Users\\Sophie\\OneDrive - National University of Ireland, Galway\\Y1S2\\Thesis\\SHAP + RFR or PySR or NN\\capstone2025-shiels-TIMES\\Magpie\\src\\Magpie\\fitness.py:72: OptimizeWarning: Covariance of the parameters could not be estimated\n",
      "  popt, pcov = curve_fit(p, X, y, p0=C_init)\n"
     ]
    },
    {
     "name": "stdout",
     "output_type": "stream",
     "text": [
      "Saved plots for Magpie Regressor to: c:\\Users\\Sophie\\OneDrive - National University of Ireland, Galway\\Y1S2\\Thesis\\SHAP + RFR or PySR or NN\\capstone2025-shiels-TIMES\\shap_outputs_25Sep2025\\Magpie Regressor\\2C_SSP2_DA30\\GSupply\\small\n",
      "Training PySRRegressor...\n"
     ]
    },
    {
     "name": "stderr",
     "output_type": "stream",
     "text": [
      "c:\\Users\\Sophie\\OneDrive - National University of Ireland, Galway\\Y1S2\\Thesis\\SHAP + RFR or PySR or NN\\capstone2025-shiels-TIMES\\.venv\\Lib\\site-packages\\pysr\\sr.py:2811: UserWarning: Note: it looks like you are running in Jupyter. The progress bar will be turned off.\n",
      "  warnings.warn(\n",
      "c:\\Users\\Sophie\\OneDrive - National University of Ireland, Galway\\Y1S2\\Thesis\\SHAP + RFR or PySR or NN\\capstone2025-shiels-TIMES\\.venv\\Lib\\site-packages\\pysr\\sr.py:1873: UserWarning: Note: Setting `random_state` without also setting `deterministic=True` and `parallelism='serial'` will result in non-deterministic searches.\n",
      "  warnings.warn(\n"
     ]
    },
    {
     "name": "stdout",
     "output_type": "stream",
     "text": [
      "Saved plots for PySRRegressor to: c:\\Users\\Sophie\\OneDrive - National University of Ireland, Galway\\Y1S2\\Thesis\\SHAP + RFR or PySR or NN\\capstone2025-shiels-TIMES\\shap_outputs_25Sep2025\\PySRRegressor\\2C_SSP2_DA30\\GSupply\\small\n",
      "Training RandomForestRegressor...\n",
      "Saved plots for RandomForestRegressor to: c:\\Users\\Sophie\\OneDrive - National University of Ireland, Galway\\Y1S2\\Thesis\\SHAP + RFR or PySR or NN\\capstone2025-shiels-TIMES\\shap_outputs_25Sep2025\\RandomForestRegressor\\2C_SSP2_DA30\\GSupply\\small\n",
      "Training MLPRegressor...\n"
     ]
    },
    {
     "name": "stderr",
     "output_type": "stream",
     "text": [
      "c:\\Users\\Sophie\\OneDrive - National University of Ireland, Galway\\Y1S2\\Thesis\\SHAP + RFR or PySR or NN\\capstone2025-shiels-TIMES\\.venv\\Lib\\site-packages\\sklearn\\neural_network\\_multilayer_perceptron.py:780: ConvergenceWarning: Stochastic Optimizer: Maximum iterations (300) reached and the optimization hasn't converged yet.\n",
      "  warnings.warn(\n"
     ]
    },
    {
     "name": "stdout",
     "output_type": "stream",
     "text": [
      "Saved plots for MLPRegressor to: c:\\Users\\Sophie\\OneDrive - National University of Ireland, Galway\\Y1S2\\Thesis\\SHAP + RFR or PySR or NN\\capstone2025-shiels-TIMES\\shap_outputs_25Sep2025\\MLPRegressor\\2C_SSP2_DA30\\GSupply\\small\n",
      "Scenario 2C_SSP2_DA30, xvar code all xvars ['GDP', 'Pop', 'Other_ESD_Drivers', 'SDR', 'Elast_ESD_Driver', 'Elast_ESD_Price', 'CO2_Storage_Poten', 'Wind_Poten', 'Solar_Poten', 'Biomass_Poten', 'Oil_Gas_Poten', 'Solar_PV_Inv_Cost', 'Wind_Inv_Cost', 'Bioenergy_CCS_Inv_Cost', 'Other_Tech_Cost', 'Forcing', 'Land_Sinks', 'Clim_Sens'], target GSupply\n",
      "\n",
      "Training Magpie Regressor...\n",
      "n_vars 18\n"
     ]
    },
    {
     "name": "stderr",
     "output_type": "stream",
     "text": [
      "C:\\Users\\Sophie\\OneDrive - National University of Ireland, Galway\\Y1S2\\Thesis\\SHAP + RFR or PySR or NN\\capstone2025-shiels-TIMES\\Magpie\\src\\Magpie\\fitness.py:72: OptimizeWarning: Covariance of the parameters could not be estimated\n",
      "  popt, pcov = curve_fit(p, X, y, p0=C_init)\n",
      "C:\\Users\\Sophie\\AppData\\Local\\Temp\\ipykernel_21592\\393379015.py:105: UserWarning: Tight layout not applied. tight_layout cannot make Axes width small enough to accommodate all Axes decorations\n",
      "  plt.tight_layout()\n",
      "C:\\Users\\Sophie\\AppData\\Local\\Temp\\ipykernel_21592\\393379015.py:107: UserWarning: Tight layout not applied. tight_layout cannot make Axes width small enough to accommodate all Axes decorations\n",
      "  fig.tight_layout()\n"
     ]
    },
    {
     "name": "stdout",
     "output_type": "stream",
     "text": [
      "Saved plots for Magpie Regressor to: c:\\Users\\Sophie\\OneDrive - National University of Ireland, Galway\\Y1S2\\Thesis\\SHAP + RFR or PySR or NN\\capstone2025-shiels-TIMES\\shap_outputs_25Sep2025\\Magpie Regressor\\2C_SSP2_DA30\\GSupply\\all\n",
      "Training PySRRegressor...\n"
     ]
    },
    {
     "name": "stderr",
     "output_type": "stream",
     "text": [
      "c:\\Users\\Sophie\\OneDrive - National University of Ireland, Galway\\Y1S2\\Thesis\\SHAP + RFR or PySR or NN\\capstone2025-shiels-TIMES\\.venv\\Lib\\site-packages\\pysr\\sr.py:2811: UserWarning: Note: it looks like you are running in Jupyter. The progress bar will be turned off.\n",
      "  warnings.warn(\n",
      "c:\\Users\\Sophie\\OneDrive - National University of Ireland, Galway\\Y1S2\\Thesis\\SHAP + RFR or PySR or NN\\capstone2025-shiels-TIMES\\.venv\\Lib\\site-packages\\pysr\\sr.py:1873: UserWarning: Note: Setting `random_state` without also setting `deterministic=True` and `parallelism='serial'` will result in non-deterministic searches.\n",
      "  warnings.warn(\n",
      "PermutationExplainer explainer: 162it [00:21,  3.47it/s]                         \n",
      "C:\\Users\\Sophie\\AppData\\Local\\Temp\\ipykernel_21592\\393379015.py:105: UserWarning: Tight layout not applied. tight_layout cannot make Axes width small enough to accommodate all Axes decorations\n",
      "  plt.tight_layout()\n",
      "C:\\Users\\Sophie\\AppData\\Local\\Temp\\ipykernel_21592\\393379015.py:107: UserWarning: Tight layout not applied. tight_layout cannot make Axes width small enough to accommodate all Axes decorations\n",
      "  fig.tight_layout()\n"
     ]
    },
    {
     "name": "stdout",
     "output_type": "stream",
     "text": [
      "Saved plots for PySRRegressor to: c:\\Users\\Sophie\\OneDrive - National University of Ireland, Galway\\Y1S2\\Thesis\\SHAP + RFR or PySR or NN\\capstone2025-shiels-TIMES\\shap_outputs_25Sep2025\\PySRRegressor\\2C_SSP2_DA30\\GSupply\\all\n",
      "Training RandomForestRegressor...\n"
     ]
    },
    {
     "name": "stderr",
     "output_type": "stream",
     "text": [
      "PermutationExplainer explainer: 162it [00:51,  2.54it/s]                         \n",
      "C:\\Users\\Sophie\\AppData\\Local\\Temp\\ipykernel_21592\\393379015.py:105: UserWarning: Tight layout not applied. tight_layout cannot make Axes width small enough to accommodate all Axes decorations\n",
      "  plt.tight_layout()\n",
      "C:\\Users\\Sophie\\AppData\\Local\\Temp\\ipykernel_21592\\393379015.py:107: UserWarning: Tight layout not applied. tight_layout cannot make Axes width small enough to accommodate all Axes decorations\n",
      "  fig.tight_layout()\n"
     ]
    },
    {
     "name": "stdout",
     "output_type": "stream",
     "text": [
      "Saved plots for RandomForestRegressor to: c:\\Users\\Sophie\\OneDrive - National University of Ireland, Galway\\Y1S2\\Thesis\\SHAP + RFR or PySR or NN\\capstone2025-shiels-TIMES\\shap_outputs_25Sep2025\\RandomForestRegressor\\2C_SSP2_DA30\\GSupply\\all\n",
      "Training MLPRegressor...\n"
     ]
    },
    {
     "name": "stderr",
     "output_type": "stream",
     "text": [
      "C:\\Users\\Sophie\\AppData\\Local\\Temp\\ipykernel_21592\\393379015.py:105: UserWarning: Tight layout not applied. tight_layout cannot make Axes width small enough to accommodate all Axes decorations\n",
      "  plt.tight_layout()\n",
      "C:\\Users\\Sophie\\AppData\\Local\\Temp\\ipykernel_21592\\393379015.py:107: UserWarning: Tight layout not applied. tight_layout cannot make Axes width small enough to accommodate all Axes decorations\n",
      "  fig.tight_layout()\n"
     ]
    },
    {
     "name": "stdout",
     "output_type": "stream",
     "text": [
      "Saved plots for MLPRegressor to: c:\\Users\\Sophie\\OneDrive - National University of Ireland, Galway\\Y1S2\\Thesis\\SHAP + RFR or PySR or NN\\capstone2025-shiels-TIMES\\shap_outputs_25Sep2025\\MLPRegressor\\2C_SSP2_DA30\\GSupply\\all\n",
      "Scenario ALL, xvar code small_inc_enc xvars ['Temp_Limit', 'Delay', 'SDR', 'Clim_Sens', 'Pop', 'GDP'], target GSupply\n",
      "\n",
      "Training Magpie Regressor...\n",
      "n_vars 6\n"
     ]
    },
    {
     "name": "stderr",
     "output_type": "stream",
     "text": [
      "C:\\Users\\Sophie\\OneDrive - National University of Ireland, Galway\\Y1S2\\Thesis\\SHAP + RFR or PySR or NN\\capstone2025-shiels-TIMES\\Magpie\\src\\Magpie\\fitness.py:72: OptimizeWarning: Covariance of the parameters could not be estimated\n",
      "  popt, pcov = curve_fit(p, X, y, p0=C_init)\n"
     ]
    },
    {
     "name": "stdout",
     "output_type": "stream",
     "text": [
      "Saved plots for Magpie Regressor to: c:\\Users\\Sophie\\OneDrive - National University of Ireland, Galway\\Y1S2\\Thesis\\SHAP + RFR or PySR or NN\\capstone2025-shiels-TIMES\\shap_outputs_25Sep2025\\Magpie Regressor\\ALL\\GSupply\\small_inc_enc\n",
      "Training PySRRegressor...\n"
     ]
    },
    {
     "name": "stderr",
     "output_type": "stream",
     "text": [
      "c:\\Users\\Sophie\\OneDrive - National University of Ireland, Galway\\Y1S2\\Thesis\\SHAP + RFR or PySR or NN\\capstone2025-shiels-TIMES\\.venv\\Lib\\site-packages\\pysr\\sr.py:2811: UserWarning: Note: it looks like you are running in Jupyter. The progress bar will be turned off.\n",
      "  warnings.warn(\n",
      "c:\\Users\\Sophie\\OneDrive - National University of Ireland, Galway\\Y1S2\\Thesis\\SHAP + RFR or PySR or NN\\capstone2025-shiels-TIMES\\.venv\\Lib\\site-packages\\pysr\\sr.py:1873: UserWarning: Note: Setting `random_state` without also setting `deterministic=True` and `parallelism='serial'` will result in non-deterministic searches.\n",
      "  warnings.warn(\n"
     ]
    },
    {
     "name": "stdout",
     "output_type": "stream",
     "text": [
      "Saved plots for PySRRegressor to: c:\\Users\\Sophie\\OneDrive - National University of Ireland, Galway\\Y1S2\\Thesis\\SHAP + RFR or PySR or NN\\capstone2025-shiels-TIMES\\shap_outputs_25Sep2025\\PySRRegressor\\ALL\\GSupply\\small_inc_enc\n",
      "Training RandomForestRegressor...\n"
     ]
    },
    {
     "name": "stderr",
     "output_type": "stream",
     "text": [
      "ExactExplainer explainer: 642it [00:32, 13.96it/s]                         \n"
     ]
    },
    {
     "name": "stdout",
     "output_type": "stream",
     "text": [
      "Saved plots for RandomForestRegressor to: c:\\Users\\Sophie\\OneDrive - National University of Ireland, Galway\\Y1S2\\Thesis\\SHAP + RFR or PySR or NN\\capstone2025-shiels-TIMES\\shap_outputs_25Sep2025\\RandomForestRegressor\\ALL\\GSupply\\small_inc_enc\n",
      "Training MLPRegressor...\n"
     ]
    },
    {
     "name": "stderr",
     "output_type": "stream",
     "text": [
      "c:\\Users\\Sophie\\OneDrive - National University of Ireland, Galway\\Y1S2\\Thesis\\SHAP + RFR or PySR or NN\\capstone2025-shiels-TIMES\\.venv\\Lib\\site-packages\\sklearn\\neural_network\\_multilayer_perceptron.py:780: ConvergenceWarning: Stochastic Optimizer: Maximum iterations (300) reached and the optimization hasn't converged yet.\n",
      "  warnings.warn(\n"
     ]
    },
    {
     "name": "stdout",
     "output_type": "stream",
     "text": [
      "Saved plots for MLPRegressor to: c:\\Users\\Sophie\\OneDrive - National University of Ireland, Galway\\Y1S2\\Thesis\\SHAP + RFR or PySR or NN\\capstone2025-shiels-TIMES\\shap_outputs_25Sep2025\\MLPRegressor\\ALL\\GSupply\\small_inc_enc\n",
      "Scenario ALL, xvar code all_inc_enc xvars ['Temp_Limit', 'Delay', 'GDP', 'Pop', 'Other_ESD_Drivers', 'SDR', 'Elast_ESD_Driver', 'Elast_ESD_Price', 'CO2_Storage_Poten', 'Wind_Poten', 'Solar_Poten', 'Biomass_Poten', 'Oil_Gas_Poten', 'Solar_PV_Inv_Cost', 'Wind_Inv_Cost', 'Bioenergy_CCS_Inv_Cost', 'Other_Tech_Cost', 'Forcing', 'Land_Sinks', 'Clim_Sens'], target GSupply\n",
      "\n",
      "Training Magpie Regressor...\n",
      "n_vars 20\n"
     ]
    },
    {
     "name": "stderr",
     "output_type": "stream",
     "text": [
      "C:\\Users\\Sophie\\OneDrive - National University of Ireland, Galway\\Y1S2\\Thesis\\SHAP + RFR or PySR or NN\\capstone2025-shiels-TIMES\\Magpie\\src\\Magpie\\fitness.py:72: OptimizeWarning: Covariance of the parameters could not be estimated\n",
      "  popt, pcov = curve_fit(p, X, y, p0=C_init)\n",
      "C:\\Users\\Sophie\\AppData\\Local\\Temp\\ipykernel_21592\\393379015.py:105: UserWarning: Tight layout not applied. tight_layout cannot make Axes width small enough to accommodate all Axes decorations\n",
      "  plt.tight_layout()\n",
      "C:\\Users\\Sophie\\AppData\\Local\\Temp\\ipykernel_21592\\393379015.py:107: UserWarning: Tight layout not applied. tight_layout cannot make Axes width small enough to accommodate all Axes decorations\n",
      "  fig.tight_layout()\n"
     ]
    },
    {
     "name": "stdout",
     "output_type": "stream",
     "text": [
      "Saved plots for Magpie Regressor to: c:\\Users\\Sophie\\OneDrive - National University of Ireland, Galway\\Y1S2\\Thesis\\SHAP + RFR or PySR or NN\\capstone2025-shiels-TIMES\\shap_outputs_25Sep2025\\Magpie Regressor\\ALL\\GSupply\\all_inc_enc\n",
      "Training PySRRegressor...\n"
     ]
    },
    {
     "name": "stderr",
     "output_type": "stream",
     "text": [
      "c:\\Users\\Sophie\\OneDrive - National University of Ireland, Galway\\Y1S2\\Thesis\\SHAP + RFR or PySR or NN\\capstone2025-shiels-TIMES\\.venv\\Lib\\site-packages\\pysr\\sr.py:2811: UserWarning: Note: it looks like you are running in Jupyter. The progress bar will be turned off.\n",
      "  warnings.warn(\n",
      "c:\\Users\\Sophie\\OneDrive - National University of Ireland, Galway\\Y1S2\\Thesis\\SHAP + RFR or PySR or NN\\capstone2025-shiels-TIMES\\.venv\\Lib\\site-packages\\pysr\\sr.py:1873: UserWarning: Note: Setting `random_state` without also setting `deterministic=True` and `parallelism='serial'` will result in non-deterministic searches.\n",
      "  warnings.warn(\n",
      "PermutationExplainer explainer: 642it [00:53,  9.93it/s]                         \n",
      "C:\\Users\\Sophie\\AppData\\Local\\Temp\\ipykernel_21592\\393379015.py:105: UserWarning: Tight layout not applied. tight_layout cannot make Axes width small enough to accommodate all Axes decorations\n",
      "  plt.tight_layout()\n",
      "C:\\Users\\Sophie\\AppData\\Local\\Temp\\ipykernel_21592\\393379015.py:107: UserWarning: Tight layout not applied. tight_layout cannot make Axes width small enough to accommodate all Axes decorations\n",
      "  fig.tight_layout()\n"
     ]
    },
    {
     "name": "stdout",
     "output_type": "stream",
     "text": [
      "Saved plots for PySRRegressor to: c:\\Users\\Sophie\\OneDrive - National University of Ireland, Galway\\Y1S2\\Thesis\\SHAP + RFR or PySR or NN\\capstone2025-shiels-TIMES\\shap_outputs_25Sep2025\\PySRRegressor\\ALL\\GSupply\\all_inc_enc\n",
      "Training RandomForestRegressor...\n"
     ]
    },
    {
     "name": "stderr",
     "output_type": "stream",
     "text": [
      "PermutationExplainer explainer: 642it [02:50,  3.57it/s]                         \n",
      "C:\\Users\\Sophie\\AppData\\Local\\Temp\\ipykernel_21592\\393379015.py:105: UserWarning: Tight layout not applied. tight_layout cannot make Axes width small enough to accommodate all Axes decorations\n",
      "  plt.tight_layout()\n",
      "C:\\Users\\Sophie\\AppData\\Local\\Temp\\ipykernel_21592\\393379015.py:107: UserWarning: Tight layout not applied. tight_layout cannot make Axes width small enough to accommodate all Axes decorations\n",
      "  fig.tight_layout()\n"
     ]
    },
    {
     "name": "stdout",
     "output_type": "stream",
     "text": [
      "Saved plots for RandomForestRegressor to: c:\\Users\\Sophie\\OneDrive - National University of Ireland, Galway\\Y1S2\\Thesis\\SHAP + RFR or PySR or NN\\capstone2025-shiels-TIMES\\shap_outputs_25Sep2025\\RandomForestRegressor\\ALL\\GSupply\\all_inc_enc\n",
      "Training MLPRegressor...\n"
     ]
    },
    {
     "name": "stderr",
     "output_type": "stream",
     "text": [
      "c:\\Users\\Sophie\\OneDrive - National University of Ireland, Galway\\Y1S2\\Thesis\\SHAP + RFR or PySR or NN\\capstone2025-shiels-TIMES\\.venv\\Lib\\site-packages\\sklearn\\neural_network\\_multilayer_perceptron.py:780: ConvergenceWarning: Stochastic Optimizer: Maximum iterations (300) reached and the optimization hasn't converged yet.\n",
      "  warnings.warn(\n",
      "PermutationExplainer explainer: 642it [00:40, 11.91it/s]                         \n",
      "C:\\Users\\Sophie\\AppData\\Local\\Temp\\ipykernel_21592\\393379015.py:105: UserWarning: Tight layout not applied. tight_layout cannot make Axes width small enough to accommodate all Axes decorations\n",
      "  plt.tight_layout()\n",
      "C:\\Users\\Sophie\\AppData\\Local\\Temp\\ipykernel_21592\\393379015.py:107: UserWarning: Tight layout not applied. tight_layout cannot make Axes width small enough to accommodate all Axes decorations\n",
      "  fig.tight_layout()\n"
     ]
    },
    {
     "name": "stdout",
     "output_type": "stream",
     "text": [
      "Saved plots for MLPRegressor to: c:\\Users\\Sophie\\OneDrive - National University of Ireland, Galway\\Y1S2\\Thesis\\SHAP + RFR or PySR or NN\\capstone2025-shiels-TIMES\\shap_outputs_25Sep2025\\MLPRegressor\\ALL\\GSupply\\all_inc_enc\n",
      "Scenario BASE_SSP2, xvar code small xvars ['SDR', 'Clim_Sens', 'Pop', 'GDP'], target CO2eq\n",
      "\n",
      "Training Magpie Regressor...\n",
      "n_vars 4\n"
     ]
    },
    {
     "name": "stderr",
     "output_type": "stream",
     "text": [
      "C:\\Users\\Sophie\\OneDrive - National University of Ireland, Galway\\Y1S2\\Thesis\\SHAP + RFR or PySR or NN\\capstone2025-shiels-TIMES\\Magpie\\src\\Magpie\\fitness.py:72: OptimizeWarning: Covariance of the parameters could not be estimated\n",
      "  popt, pcov = curve_fit(p, X, y, p0=C_init)\n"
     ]
    },
    {
     "name": "stdout",
     "output_type": "stream",
     "text": [
      "Saved plots for Magpie Regressor to: c:\\Users\\Sophie\\OneDrive - National University of Ireland, Galway\\Y1S2\\Thesis\\SHAP + RFR or PySR or NN\\capstone2025-shiels-TIMES\\shap_outputs_25Sep2025\\Magpie Regressor\\BASE_SSP2\\CO2eq\\small\n",
      "Training PySRRegressor...\n"
     ]
    },
    {
     "name": "stderr",
     "output_type": "stream",
     "text": [
      "c:\\Users\\Sophie\\OneDrive - National University of Ireland, Galway\\Y1S2\\Thesis\\SHAP + RFR or PySR or NN\\capstone2025-shiels-TIMES\\.venv\\Lib\\site-packages\\pysr\\sr.py:2811: UserWarning: Note: it looks like you are running in Jupyter. The progress bar will be turned off.\n",
      "  warnings.warn(\n",
      "c:\\Users\\Sophie\\OneDrive - National University of Ireland, Galway\\Y1S2\\Thesis\\SHAP + RFR or PySR or NN\\capstone2025-shiels-TIMES\\.venv\\Lib\\site-packages\\pysr\\sr.py:1873: UserWarning: Note: Setting `random_state` without also setting `deterministic=True` and `parallelism='serial'` will result in non-deterministic searches.\n",
      "  warnings.warn(\n"
     ]
    },
    {
     "name": "stdout",
     "output_type": "stream",
     "text": [
      "Saved plots for PySRRegressor to: c:\\Users\\Sophie\\OneDrive - National University of Ireland, Galway\\Y1S2\\Thesis\\SHAP + RFR or PySR or NN\\capstone2025-shiels-TIMES\\shap_outputs_25Sep2025\\PySRRegressor\\BASE_SSP2\\CO2eq\\small\n",
      "Training RandomForestRegressor...\n",
      "Saved plots for RandomForestRegressor to: c:\\Users\\Sophie\\OneDrive - National University of Ireland, Galway\\Y1S2\\Thesis\\SHAP + RFR or PySR or NN\\capstone2025-shiels-TIMES\\shap_outputs_25Sep2025\\RandomForestRegressor\\BASE_SSP2\\CO2eq\\small\n",
      "Training MLPRegressor...\n"
     ]
    },
    {
     "name": "stderr",
     "output_type": "stream",
     "text": [
      "c:\\Users\\Sophie\\OneDrive - National University of Ireland, Galway\\Y1S2\\Thesis\\SHAP + RFR or PySR or NN\\capstone2025-shiels-TIMES\\.venv\\Lib\\site-packages\\sklearn\\neural_network\\_multilayer_perceptron.py:780: ConvergenceWarning: Stochastic Optimizer: Maximum iterations (300) reached and the optimization hasn't converged yet.\n",
      "  warnings.warn(\n"
     ]
    },
    {
     "name": "stdout",
     "output_type": "stream",
     "text": [
      "Saved plots for MLPRegressor to: c:\\Users\\Sophie\\OneDrive - National University of Ireland, Galway\\Y1S2\\Thesis\\SHAP + RFR or PySR or NN\\capstone2025-shiels-TIMES\\shap_outputs_25Sep2025\\MLPRegressor\\BASE_SSP2\\CO2eq\\small\n",
      "Scenario BASE_SSP2, xvar code all xvars ['GDP', 'Pop', 'Other_ESD_Drivers', 'SDR', 'Elast_ESD_Driver', 'Elast_ESD_Price', 'CO2_Storage_Poten', 'Wind_Poten', 'Solar_Poten', 'Biomass_Poten', 'Oil_Gas_Poten', 'Solar_PV_Inv_Cost', 'Wind_Inv_Cost', 'Bioenergy_CCS_Inv_Cost', 'Other_Tech_Cost', 'Forcing', 'Land_Sinks', 'Clim_Sens'], target CO2eq\n",
      "\n",
      "Training Magpie Regressor...\n",
      "n_vars 18\n"
     ]
    },
    {
     "name": "stderr",
     "output_type": "stream",
     "text": [
      "C:\\Users\\Sophie\\OneDrive - National University of Ireland, Galway\\Y1S2\\Thesis\\SHAP + RFR or PySR or NN\\capstone2025-shiels-TIMES\\Magpie\\src\\Magpie\\fitness.py:72: OptimizeWarning: Covariance of the parameters could not be estimated\n",
      "  popt, pcov = curve_fit(p, X, y, p0=C_init)\n",
      "C:\\Users\\Sophie\\AppData\\Local\\Temp\\ipykernel_21592\\393379015.py:105: UserWarning: Tight layout not applied. tight_layout cannot make Axes width small enough to accommodate all Axes decorations\n",
      "  plt.tight_layout()\n",
      "C:\\Users\\Sophie\\AppData\\Local\\Temp\\ipykernel_21592\\393379015.py:107: UserWarning: Tight layout not applied. tight_layout cannot make Axes width small enough to accommodate all Axes decorations\n",
      "  fig.tight_layout()\n"
     ]
    },
    {
     "name": "stdout",
     "output_type": "stream",
     "text": [
      "Saved plots for Magpie Regressor to: c:\\Users\\Sophie\\OneDrive - National University of Ireland, Galway\\Y1S2\\Thesis\\SHAP + RFR or PySR or NN\\capstone2025-shiels-TIMES\\shap_outputs_25Sep2025\\Magpie Regressor\\BASE_SSP2\\CO2eq\\all\n",
      "Training PySRRegressor...\n"
     ]
    },
    {
     "name": "stderr",
     "output_type": "stream",
     "text": [
      "c:\\Users\\Sophie\\OneDrive - National University of Ireland, Galway\\Y1S2\\Thesis\\SHAP + RFR or PySR or NN\\capstone2025-shiels-TIMES\\.venv\\Lib\\site-packages\\pysr\\sr.py:2811: UserWarning: Note: it looks like you are running in Jupyter. The progress bar will be turned off.\n",
      "  warnings.warn(\n",
      "c:\\Users\\Sophie\\OneDrive - National University of Ireland, Galway\\Y1S2\\Thesis\\SHAP + RFR or PySR or NN\\capstone2025-shiels-TIMES\\.venv\\Lib\\site-packages\\pysr\\sr.py:1873: UserWarning: Note: Setting `random_state` without also setting `deterministic=True` and `parallelism='serial'` will result in non-deterministic searches.\n",
      "  warnings.warn(\n",
      "PermutationExplainer explainer: 162it [00:24,  3.81it/s]                         \n",
      "C:\\Users\\Sophie\\AppData\\Local\\Temp\\ipykernel_21592\\393379015.py:105: UserWarning: Tight layout not applied. tight_layout cannot make Axes width small enough to accommodate all Axes decorations\n",
      "  plt.tight_layout()\n",
      "C:\\Users\\Sophie\\AppData\\Local\\Temp\\ipykernel_21592\\393379015.py:107: UserWarning: Tight layout not applied. tight_layout cannot make Axes width small enough to accommodate all Axes decorations\n",
      "  fig.tight_layout()\n"
     ]
    },
    {
     "name": "stdout",
     "output_type": "stream",
     "text": [
      "Saved plots for PySRRegressor to: c:\\Users\\Sophie\\OneDrive - National University of Ireland, Galway\\Y1S2\\Thesis\\SHAP + RFR or PySR or NN\\capstone2025-shiels-TIMES\\shap_outputs_25Sep2025\\PySRRegressor\\BASE_SSP2\\CO2eq\\all\n",
      "Training RandomForestRegressor...\n"
     ]
    },
    {
     "name": "stderr",
     "output_type": "stream",
     "text": [
      "PermutationExplainer explainer: 162it [00:45,  2.85it/s]                         \n",
      "C:\\Users\\Sophie\\AppData\\Local\\Temp\\ipykernel_21592\\393379015.py:105: UserWarning: Tight layout not applied. tight_layout cannot make Axes width small enough to accommodate all Axes decorations\n",
      "  plt.tight_layout()\n",
      "C:\\Users\\Sophie\\AppData\\Local\\Temp\\ipykernel_21592\\393379015.py:107: UserWarning: Tight layout not applied. tight_layout cannot make Axes width small enough to accommodate all Axes decorations\n",
      "  fig.tight_layout()\n"
     ]
    },
    {
     "name": "stdout",
     "output_type": "stream",
     "text": [
      "Saved plots for RandomForestRegressor to: c:\\Users\\Sophie\\OneDrive - National University of Ireland, Galway\\Y1S2\\Thesis\\SHAP + RFR or PySR or NN\\capstone2025-shiels-TIMES\\shap_outputs_25Sep2025\\RandomForestRegressor\\BASE_SSP2\\CO2eq\\all\n",
      "Training MLPRegressor...\n"
     ]
    },
    {
     "name": "stderr",
     "output_type": "stream",
     "text": [
      "PermutationExplainer explainer: 162it [00:10,  1.02it/s]                         \n",
      "C:\\Users\\Sophie\\AppData\\Local\\Temp\\ipykernel_21592\\393379015.py:105: UserWarning: Tight layout not applied. tight_layout cannot make Axes width small enough to accommodate all Axes decorations\n",
      "  plt.tight_layout()\n",
      "C:\\Users\\Sophie\\AppData\\Local\\Temp\\ipykernel_21592\\393379015.py:107: UserWarning: Tight layout not applied. tight_layout cannot make Axes width small enough to accommodate all Axes decorations\n",
      "  fig.tight_layout()\n"
     ]
    },
    {
     "name": "stdout",
     "output_type": "stream",
     "text": [
      "Saved plots for MLPRegressor to: c:\\Users\\Sophie\\OneDrive - National University of Ireland, Galway\\Y1S2\\Thesis\\SHAP + RFR or PySR or NN\\capstone2025-shiels-TIMES\\shap_outputs_25Sep2025\\MLPRegressor\\BASE_SSP2\\CO2eq\\all\n",
      "Scenario 1p5c_OS_SSP2, xvar code small xvars ['SDR', 'Clim_Sens', 'Pop', 'GDP'], target CO2eq\n",
      "\n",
      "Training Magpie Regressor...\n",
      "n_vars 4\n"
     ]
    },
    {
     "name": "stderr",
     "output_type": "stream",
     "text": [
      "C:\\Users\\Sophie\\OneDrive - National University of Ireland, Galway\\Y1S2\\Thesis\\SHAP + RFR or PySR or NN\\capstone2025-shiels-TIMES\\Magpie\\src\\Magpie\\fitness.py:72: OptimizeWarning: Covariance of the parameters could not be estimated\n",
      "  popt, pcov = curve_fit(p, X, y, p0=C_init)\n"
     ]
    },
    {
     "name": "stdout",
     "output_type": "stream",
     "text": [
      "Saved plots for Magpie Regressor to: c:\\Users\\Sophie\\OneDrive - National University of Ireland, Galway\\Y1S2\\Thesis\\SHAP + RFR or PySR or NN\\capstone2025-shiels-TIMES\\shap_outputs_25Sep2025\\Magpie Regressor\\1p5c_OS_SSP2\\CO2eq\\small\n",
      "Training PySRRegressor...\n"
     ]
    },
    {
     "name": "stderr",
     "output_type": "stream",
     "text": [
      "c:\\Users\\Sophie\\OneDrive - National University of Ireland, Galway\\Y1S2\\Thesis\\SHAP + RFR or PySR or NN\\capstone2025-shiels-TIMES\\.venv\\Lib\\site-packages\\pysr\\sr.py:2811: UserWarning: Note: it looks like you are running in Jupyter. The progress bar will be turned off.\n",
      "  warnings.warn(\n",
      "c:\\Users\\Sophie\\OneDrive - National University of Ireland, Galway\\Y1S2\\Thesis\\SHAP + RFR or PySR or NN\\capstone2025-shiels-TIMES\\.venv\\Lib\\site-packages\\pysr\\sr.py:1873: UserWarning: Note: Setting `random_state` without also setting `deterministic=True` and `parallelism='serial'` will result in non-deterministic searches.\n",
      "  warnings.warn(\n"
     ]
    },
    {
     "name": "stdout",
     "output_type": "stream",
     "text": [
      "Saved plots for PySRRegressor to: c:\\Users\\Sophie\\OneDrive - National University of Ireland, Galway\\Y1S2\\Thesis\\SHAP + RFR or PySR or NN\\capstone2025-shiels-TIMES\\shap_outputs_25Sep2025\\PySRRegressor\\1p5c_OS_SSP2\\CO2eq\\small\n",
      "Training RandomForestRegressor...\n",
      "Saved plots for RandomForestRegressor to: c:\\Users\\Sophie\\OneDrive - National University of Ireland, Galway\\Y1S2\\Thesis\\SHAP + RFR or PySR or NN\\capstone2025-shiels-TIMES\\shap_outputs_25Sep2025\\RandomForestRegressor\\1p5c_OS_SSP2\\CO2eq\\small\n",
      "Training MLPRegressor...\n"
     ]
    },
    {
     "name": "stderr",
     "output_type": "stream",
     "text": [
      "c:\\Users\\Sophie\\OneDrive - National University of Ireland, Galway\\Y1S2\\Thesis\\SHAP + RFR or PySR or NN\\capstone2025-shiels-TIMES\\.venv\\Lib\\site-packages\\sklearn\\neural_network\\_multilayer_perceptron.py:780: ConvergenceWarning: Stochastic Optimizer: Maximum iterations (300) reached and the optimization hasn't converged yet.\n",
      "  warnings.warn(\n"
     ]
    },
    {
     "name": "stdout",
     "output_type": "stream",
     "text": [
      "Saved plots for MLPRegressor to: c:\\Users\\Sophie\\OneDrive - National University of Ireland, Galway\\Y1S2\\Thesis\\SHAP + RFR or PySR or NN\\capstone2025-shiels-TIMES\\shap_outputs_25Sep2025\\MLPRegressor\\1p5c_OS_SSP2\\CO2eq\\small\n",
      "Scenario 1p5c_OS_SSP2, xvar code all xvars ['GDP', 'Pop', 'Other_ESD_Drivers', 'SDR', 'Elast_ESD_Driver', 'Elast_ESD_Price', 'CO2_Storage_Poten', 'Wind_Poten', 'Solar_Poten', 'Biomass_Poten', 'Oil_Gas_Poten', 'Solar_PV_Inv_Cost', 'Wind_Inv_Cost', 'Bioenergy_CCS_Inv_Cost', 'Other_Tech_Cost', 'Forcing', 'Land_Sinks', 'Clim_Sens'], target CO2eq\n",
      "\n",
      "Training Magpie Regressor...\n",
      "n_vars 18\n"
     ]
    },
    {
     "name": "stderr",
     "output_type": "stream",
     "text": [
      "C:\\Users\\Sophie\\OneDrive - National University of Ireland, Galway\\Y1S2\\Thesis\\SHAP + RFR or PySR or NN\\capstone2025-shiels-TIMES\\Magpie\\src\\Magpie\\fitness.py:72: OptimizeWarning: Covariance of the parameters could not be estimated\n",
      "  popt, pcov = curve_fit(p, X, y, p0=C_init)\n",
      "C:\\Users\\Sophie\\AppData\\Local\\Temp\\ipykernel_21592\\393379015.py:105: UserWarning: Tight layout not applied. tight_layout cannot make Axes width small enough to accommodate all Axes decorations\n",
      "  plt.tight_layout()\n",
      "C:\\Users\\Sophie\\AppData\\Local\\Temp\\ipykernel_21592\\393379015.py:107: UserWarning: Tight layout not applied. tight_layout cannot make Axes width small enough to accommodate all Axes decorations\n",
      "  fig.tight_layout()\n"
     ]
    },
    {
     "name": "stdout",
     "output_type": "stream",
     "text": [
      "Saved plots for Magpie Regressor to: c:\\Users\\Sophie\\OneDrive - National University of Ireland, Galway\\Y1S2\\Thesis\\SHAP + RFR or PySR or NN\\capstone2025-shiels-TIMES\\shap_outputs_25Sep2025\\Magpie Regressor\\1p5c_OS_SSP2\\CO2eq\\all\n",
      "Training PySRRegressor...\n"
     ]
    },
    {
     "name": "stderr",
     "output_type": "stream",
     "text": [
      "c:\\Users\\Sophie\\OneDrive - National University of Ireland, Galway\\Y1S2\\Thesis\\SHAP + RFR or PySR or NN\\capstone2025-shiels-TIMES\\.venv\\Lib\\site-packages\\pysr\\sr.py:2811: UserWarning: Note: it looks like you are running in Jupyter. The progress bar will be turned off.\n",
      "  warnings.warn(\n",
      "c:\\Users\\Sophie\\OneDrive - National University of Ireland, Galway\\Y1S2\\Thesis\\SHAP + RFR or PySR or NN\\capstone2025-shiels-TIMES\\.venv\\Lib\\site-packages\\pysr\\sr.py:1873: UserWarning: Note: Setting `random_state` without also setting `deterministic=True` and `parallelism='serial'` will result in non-deterministic searches.\n",
      "  warnings.warn(\n",
      "PermutationExplainer explainer: 162it [00:18,  4.11it/s]                         \n",
      "C:\\Users\\Sophie\\AppData\\Local\\Temp\\ipykernel_21592\\393379015.py:105: UserWarning: Tight layout not applied. tight_layout cannot make Axes width small enough to accommodate all Axes decorations\n",
      "  plt.tight_layout()\n",
      "C:\\Users\\Sophie\\AppData\\Local\\Temp\\ipykernel_21592\\393379015.py:107: UserWarning: Tight layout not applied. tight_layout cannot make Axes width small enough to accommodate all Axes decorations\n",
      "  fig.tight_layout()\n"
     ]
    },
    {
     "name": "stdout",
     "output_type": "stream",
     "text": [
      "Saved plots for PySRRegressor to: c:\\Users\\Sophie\\OneDrive - National University of Ireland, Galway\\Y1S2\\Thesis\\SHAP + RFR or PySR or NN\\capstone2025-shiels-TIMES\\shap_outputs_25Sep2025\\PySRRegressor\\1p5c_OS_SSP2\\CO2eq\\all\n",
      "Training RandomForestRegressor...\n"
     ]
    },
    {
     "name": "stderr",
     "output_type": "stream",
     "text": [
      "PermutationExplainer explainer: 162it [00:48,  2.68it/s]                         \n",
      "C:\\Users\\Sophie\\AppData\\Local\\Temp\\ipykernel_21592\\393379015.py:105: UserWarning: Tight layout not applied. tight_layout cannot make Axes width small enough to accommodate all Axes decorations\n",
      "  plt.tight_layout()\n",
      "C:\\Users\\Sophie\\AppData\\Local\\Temp\\ipykernel_21592\\393379015.py:107: UserWarning: Tight layout not applied. tight_layout cannot make Axes width small enough to accommodate all Axes decorations\n",
      "  fig.tight_layout()\n"
     ]
    },
    {
     "name": "stdout",
     "output_type": "stream",
     "text": [
      "Saved plots for RandomForestRegressor to: c:\\Users\\Sophie\\OneDrive - National University of Ireland, Galway\\Y1S2\\Thesis\\SHAP + RFR or PySR or NN\\capstone2025-shiels-TIMES\\shap_outputs_25Sep2025\\RandomForestRegressor\\1p5c_OS_SSP2\\CO2eq\\all\n",
      "Training MLPRegressor...\n"
     ]
    },
    {
     "name": "stderr",
     "output_type": "stream",
     "text": [
      "c:\\Users\\Sophie\\OneDrive - National University of Ireland, Galway\\Y1S2\\Thesis\\SHAP + RFR or PySR or NN\\capstone2025-shiels-TIMES\\.venv\\Lib\\site-packages\\sklearn\\neural_network\\_multilayer_perceptron.py:780: ConvergenceWarning: Stochastic Optimizer: Maximum iterations (300) reached and the optimization hasn't converged yet.\n",
      "  warnings.warn(\n",
      "PermutationExplainer explainer: 162it [00:11,  1.36it/s]                         \n",
      "C:\\Users\\Sophie\\AppData\\Local\\Temp\\ipykernel_21592\\393379015.py:105: UserWarning: Tight layout not applied. tight_layout cannot make Axes width small enough to accommodate all Axes decorations\n",
      "  plt.tight_layout()\n",
      "C:\\Users\\Sophie\\AppData\\Local\\Temp\\ipykernel_21592\\393379015.py:107: UserWarning: Tight layout not applied. tight_layout cannot make Axes width small enough to accommodate all Axes decorations\n",
      "  fig.tight_layout()\n"
     ]
    },
    {
     "name": "stdout",
     "output_type": "stream",
     "text": [
      "Saved plots for MLPRegressor to: c:\\Users\\Sophie\\OneDrive - National University of Ireland, Galway\\Y1S2\\Thesis\\SHAP + RFR or PySR or NN\\capstone2025-shiels-TIMES\\shap_outputs_25Sep2025\\MLPRegressor\\1p5c_OS_SSP2\\CO2eq\\all\n",
      "Scenario 2C_SSP2, xvar code small xvars ['SDR', 'Clim_Sens', 'Pop', 'GDP'], target CO2eq\n",
      "\n",
      "Training Magpie Regressor...\n",
      "n_vars 4\n"
     ]
    },
    {
     "name": "stderr",
     "output_type": "stream",
     "text": [
      "C:\\Users\\Sophie\\OneDrive - National University of Ireland, Galway\\Y1S2\\Thesis\\SHAP + RFR or PySR or NN\\capstone2025-shiels-TIMES\\Magpie\\src\\Magpie\\fitness.py:72: OptimizeWarning: Covariance of the parameters could not be estimated\n",
      "  popt, pcov = curve_fit(p, X, y, p0=C_init)\n"
     ]
    },
    {
     "name": "stdout",
     "output_type": "stream",
     "text": [
      "Saved plots for Magpie Regressor to: c:\\Users\\Sophie\\OneDrive - National University of Ireland, Galway\\Y1S2\\Thesis\\SHAP + RFR or PySR or NN\\capstone2025-shiels-TIMES\\shap_outputs_25Sep2025\\Magpie Regressor\\2C_SSP2\\CO2eq\\small\n",
      "Training PySRRegressor...\n"
     ]
    },
    {
     "name": "stderr",
     "output_type": "stream",
     "text": [
      "c:\\Users\\Sophie\\OneDrive - National University of Ireland, Galway\\Y1S2\\Thesis\\SHAP + RFR or PySR or NN\\capstone2025-shiels-TIMES\\.venv\\Lib\\site-packages\\pysr\\sr.py:2811: UserWarning: Note: it looks like you are running in Jupyter. The progress bar will be turned off.\n",
      "  warnings.warn(\n",
      "c:\\Users\\Sophie\\OneDrive - National University of Ireland, Galway\\Y1S2\\Thesis\\SHAP + RFR or PySR or NN\\capstone2025-shiels-TIMES\\.venv\\Lib\\site-packages\\pysr\\sr.py:1873: UserWarning: Note: Setting `random_state` without also setting `deterministic=True` and `parallelism='serial'` will result in non-deterministic searches.\n",
      "  warnings.warn(\n"
     ]
    },
    {
     "name": "stdout",
     "output_type": "stream",
     "text": [
      "Saved plots for PySRRegressor to: c:\\Users\\Sophie\\OneDrive - National University of Ireland, Galway\\Y1S2\\Thesis\\SHAP + RFR or PySR or NN\\capstone2025-shiels-TIMES\\shap_outputs_25Sep2025\\PySRRegressor\\2C_SSP2\\CO2eq\\small\n",
      "Training RandomForestRegressor...\n",
      "Saved plots for RandomForestRegressor to: c:\\Users\\Sophie\\OneDrive - National University of Ireland, Galway\\Y1S2\\Thesis\\SHAP + RFR or PySR or NN\\capstone2025-shiels-TIMES\\shap_outputs_25Sep2025\\RandomForestRegressor\\2C_SSP2\\CO2eq\\small\n",
      "Training MLPRegressor...\n"
     ]
    },
    {
     "name": "stderr",
     "output_type": "stream",
     "text": [
      "c:\\Users\\Sophie\\OneDrive - National University of Ireland, Galway\\Y1S2\\Thesis\\SHAP + RFR or PySR or NN\\capstone2025-shiels-TIMES\\.venv\\Lib\\site-packages\\sklearn\\neural_network\\_multilayer_perceptron.py:780: ConvergenceWarning: Stochastic Optimizer: Maximum iterations (300) reached and the optimization hasn't converged yet.\n",
      "  warnings.warn(\n"
     ]
    },
    {
     "name": "stdout",
     "output_type": "stream",
     "text": [
      "Saved plots for MLPRegressor to: c:\\Users\\Sophie\\OneDrive - National University of Ireland, Galway\\Y1S2\\Thesis\\SHAP + RFR or PySR or NN\\capstone2025-shiels-TIMES\\shap_outputs_25Sep2025\\MLPRegressor\\2C_SSP2\\CO2eq\\small\n",
      "Scenario 2C_SSP2, xvar code all xvars ['GDP', 'Pop', 'Other_ESD_Drivers', 'SDR', 'Elast_ESD_Driver', 'Elast_ESD_Price', 'CO2_Storage_Poten', 'Wind_Poten', 'Solar_Poten', 'Biomass_Poten', 'Oil_Gas_Poten', 'Solar_PV_Inv_Cost', 'Wind_Inv_Cost', 'Bioenergy_CCS_Inv_Cost', 'Other_Tech_Cost', 'Forcing', 'Land_Sinks', 'Clim_Sens'], target CO2eq\n",
      "\n",
      "Training Magpie Regressor...\n",
      "n_vars 18\n"
     ]
    },
    {
     "name": "stderr",
     "output_type": "stream",
     "text": [
      "C:\\Users\\Sophie\\OneDrive - National University of Ireland, Galway\\Y1S2\\Thesis\\SHAP + RFR or PySR or NN\\capstone2025-shiels-TIMES\\Magpie\\src\\Magpie\\fitness.py:72: OptimizeWarning: Covariance of the parameters could not be estimated\n",
      "  popt, pcov = curve_fit(p, X, y, p0=C_init)\n",
      "C:\\Users\\Sophie\\AppData\\Local\\Temp\\ipykernel_21592\\393379015.py:105: UserWarning: Tight layout not applied. tight_layout cannot make Axes width small enough to accommodate all Axes decorations\n",
      "  plt.tight_layout()\n",
      "C:\\Users\\Sophie\\AppData\\Local\\Temp\\ipykernel_21592\\393379015.py:107: UserWarning: Tight layout not applied. tight_layout cannot make Axes width small enough to accommodate all Axes decorations\n",
      "  fig.tight_layout()\n"
     ]
    },
    {
     "name": "stdout",
     "output_type": "stream",
     "text": [
      "Saved plots for Magpie Regressor to: c:\\Users\\Sophie\\OneDrive - National University of Ireland, Galway\\Y1S2\\Thesis\\SHAP + RFR or PySR or NN\\capstone2025-shiels-TIMES\\shap_outputs_25Sep2025\\Magpie Regressor\\2C_SSP2\\CO2eq\\all\n",
      "Training PySRRegressor...\n"
     ]
    },
    {
     "name": "stderr",
     "output_type": "stream",
     "text": [
      "c:\\Users\\Sophie\\OneDrive - National University of Ireland, Galway\\Y1S2\\Thesis\\SHAP + RFR or PySR or NN\\capstone2025-shiels-TIMES\\.venv\\Lib\\site-packages\\pysr\\sr.py:2811: UserWarning: Note: it looks like you are running in Jupyter. The progress bar will be turned off.\n",
      "  warnings.warn(\n",
      "c:\\Users\\Sophie\\OneDrive - National University of Ireland, Galway\\Y1S2\\Thesis\\SHAP + RFR or PySR or NN\\capstone2025-shiels-TIMES\\.venv\\Lib\\site-packages\\pysr\\sr.py:1873: UserWarning: Note: Setting `random_state` without also setting `deterministic=True` and `parallelism='serial'` will result in non-deterministic searches.\n",
      "  warnings.warn(\n",
      "PermutationExplainer explainer: 162it [00:17,  4.15it/s]                         \n",
      "C:\\Users\\Sophie\\AppData\\Local\\Temp\\ipykernel_21592\\393379015.py:105: UserWarning: Tight layout not applied. tight_layout cannot make Axes width small enough to accommodate all Axes decorations\n",
      "  plt.tight_layout()\n",
      "C:\\Users\\Sophie\\AppData\\Local\\Temp\\ipykernel_21592\\393379015.py:107: UserWarning: Tight layout not applied. tight_layout cannot make Axes width small enough to accommodate all Axes decorations\n",
      "  fig.tight_layout()\n"
     ]
    },
    {
     "name": "stdout",
     "output_type": "stream",
     "text": [
      "Saved plots for PySRRegressor to: c:\\Users\\Sophie\\OneDrive - National University of Ireland, Galway\\Y1S2\\Thesis\\SHAP + RFR or PySR or NN\\capstone2025-shiels-TIMES\\shap_outputs_25Sep2025\\PySRRegressor\\2C_SSP2\\CO2eq\\all\n",
      "Training RandomForestRegressor...\n"
     ]
    },
    {
     "name": "stderr",
     "output_type": "stream",
     "text": [
      "PermutationExplainer explainer: 162it [00:48,  2.65it/s]                         \n",
      "C:\\Users\\Sophie\\AppData\\Local\\Temp\\ipykernel_21592\\393379015.py:105: UserWarning: Tight layout not applied. tight_layout cannot make Axes width small enough to accommodate all Axes decorations\n",
      "  plt.tight_layout()\n",
      "C:\\Users\\Sophie\\AppData\\Local\\Temp\\ipykernel_21592\\393379015.py:107: UserWarning: Tight layout not applied. tight_layout cannot make Axes width small enough to accommodate all Axes decorations\n",
      "  fig.tight_layout()\n"
     ]
    },
    {
     "name": "stdout",
     "output_type": "stream",
     "text": [
      "Saved plots for RandomForestRegressor to: c:\\Users\\Sophie\\OneDrive - National University of Ireland, Galway\\Y1S2\\Thesis\\SHAP + RFR or PySR or NN\\capstone2025-shiels-TIMES\\shap_outputs_25Sep2025\\RandomForestRegressor\\2C_SSP2\\CO2eq\\all\n",
      "Training MLPRegressor...\n"
     ]
    },
    {
     "name": "stderr",
     "output_type": "stream",
     "text": [
      "c:\\Users\\Sophie\\OneDrive - National University of Ireland, Galway\\Y1S2\\Thesis\\SHAP + RFR or PySR or NN\\capstone2025-shiels-TIMES\\.venv\\Lib\\site-packages\\sklearn\\neural_network\\_multilayer_perceptron.py:780: ConvergenceWarning: Stochastic Optimizer: Maximum iterations (300) reached and the optimization hasn't converged yet.\n",
      "  warnings.warn(\n",
      "PermutationExplainer explainer: 162it [00:10,  2.07s/it]                         \n",
      "C:\\Users\\Sophie\\AppData\\Local\\Temp\\ipykernel_21592\\393379015.py:105: UserWarning: Tight layout not applied. tight_layout cannot make Axes width small enough to accommodate all Axes decorations\n",
      "  plt.tight_layout()\n",
      "C:\\Users\\Sophie\\AppData\\Local\\Temp\\ipykernel_21592\\393379015.py:107: UserWarning: Tight layout not applied. tight_layout cannot make Axes width small enough to accommodate all Axes decorations\n",
      "  fig.tight_layout()\n"
     ]
    },
    {
     "name": "stdout",
     "output_type": "stream",
     "text": [
      "Saved plots for MLPRegressor to: c:\\Users\\Sophie\\OneDrive - National University of Ireland, Galway\\Y1S2\\Thesis\\SHAP + RFR or PySR or NN\\capstone2025-shiels-TIMES\\shap_outputs_25Sep2025\\MLPRegressor\\2C_SSP2\\CO2eq\\all\n",
      "Scenario 2C_SSP2_DA30, xvar code small xvars ['SDR', 'Clim_Sens', 'Pop', 'GDP'], target CO2eq\n",
      "\n",
      "Training Magpie Regressor...\n",
      "n_vars 4\n"
     ]
    },
    {
     "name": "stderr",
     "output_type": "stream",
     "text": [
      "C:\\Users\\Sophie\\OneDrive - National University of Ireland, Galway\\Y1S2\\Thesis\\SHAP + RFR or PySR or NN\\capstone2025-shiels-TIMES\\Magpie\\src\\Magpie\\fitness.py:72: OptimizeWarning: Covariance of the parameters could not be estimated\n",
      "  popt, pcov = curve_fit(p, X, y, p0=C_init)\n"
     ]
    },
    {
     "name": "stdout",
     "output_type": "stream",
     "text": [
      "Saved plots for Magpie Regressor to: c:\\Users\\Sophie\\OneDrive - National University of Ireland, Galway\\Y1S2\\Thesis\\SHAP + RFR or PySR or NN\\capstone2025-shiels-TIMES\\shap_outputs_25Sep2025\\Magpie Regressor\\2C_SSP2_DA30\\CO2eq\\small\n",
      "Training PySRRegressor...\n"
     ]
    },
    {
     "name": "stderr",
     "output_type": "stream",
     "text": [
      "c:\\Users\\Sophie\\OneDrive - National University of Ireland, Galway\\Y1S2\\Thesis\\SHAP + RFR or PySR or NN\\capstone2025-shiels-TIMES\\.venv\\Lib\\site-packages\\pysr\\sr.py:2811: UserWarning: Note: it looks like you are running in Jupyter. The progress bar will be turned off.\n",
      "  warnings.warn(\n",
      "c:\\Users\\Sophie\\OneDrive - National University of Ireland, Galway\\Y1S2\\Thesis\\SHAP + RFR or PySR or NN\\capstone2025-shiels-TIMES\\.venv\\Lib\\site-packages\\pysr\\sr.py:1873: UserWarning: Note: Setting `random_state` without also setting `deterministic=True` and `parallelism='serial'` will result in non-deterministic searches.\n",
      "  warnings.warn(\n"
     ]
    },
    {
     "name": "stdout",
     "output_type": "stream",
     "text": [
      "Saved plots for PySRRegressor to: c:\\Users\\Sophie\\OneDrive - National University of Ireland, Galway\\Y1S2\\Thesis\\SHAP + RFR or PySR or NN\\capstone2025-shiels-TIMES\\shap_outputs_25Sep2025\\PySRRegressor\\2C_SSP2_DA30\\CO2eq\\small\n",
      "Training RandomForestRegressor...\n",
      "Saved plots for RandomForestRegressor to: c:\\Users\\Sophie\\OneDrive - National University of Ireland, Galway\\Y1S2\\Thesis\\SHAP + RFR or PySR or NN\\capstone2025-shiels-TIMES\\shap_outputs_25Sep2025\\RandomForestRegressor\\2C_SSP2_DA30\\CO2eq\\small\n",
      "Training MLPRegressor...\n"
     ]
    },
    {
     "name": "stderr",
     "output_type": "stream",
     "text": [
      "c:\\Users\\Sophie\\OneDrive - National University of Ireland, Galway\\Y1S2\\Thesis\\SHAP + RFR or PySR or NN\\capstone2025-shiels-TIMES\\.venv\\Lib\\site-packages\\sklearn\\neural_network\\_multilayer_perceptron.py:780: ConvergenceWarning: Stochastic Optimizer: Maximum iterations (300) reached and the optimization hasn't converged yet.\n",
      "  warnings.warn(\n"
     ]
    },
    {
     "name": "stdout",
     "output_type": "stream",
     "text": [
      "Saved plots for MLPRegressor to: c:\\Users\\Sophie\\OneDrive - National University of Ireland, Galway\\Y1S2\\Thesis\\SHAP + RFR or PySR or NN\\capstone2025-shiels-TIMES\\shap_outputs_25Sep2025\\MLPRegressor\\2C_SSP2_DA30\\CO2eq\\small\n",
      "Scenario 2C_SSP2_DA30, xvar code all xvars ['GDP', 'Pop', 'Other_ESD_Drivers', 'SDR', 'Elast_ESD_Driver', 'Elast_ESD_Price', 'CO2_Storage_Poten', 'Wind_Poten', 'Solar_Poten', 'Biomass_Poten', 'Oil_Gas_Poten', 'Solar_PV_Inv_Cost', 'Wind_Inv_Cost', 'Bioenergy_CCS_Inv_Cost', 'Other_Tech_Cost', 'Forcing', 'Land_Sinks', 'Clim_Sens'], target CO2eq\n",
      "\n",
      "Training Magpie Regressor...\n",
      "n_vars 18\n"
     ]
    },
    {
     "name": "stderr",
     "output_type": "stream",
     "text": [
      "C:\\Users\\Sophie\\OneDrive - National University of Ireland, Galway\\Y1S2\\Thesis\\SHAP + RFR or PySR or NN\\capstone2025-shiels-TIMES\\Magpie\\src\\Magpie\\fitness.py:72: OptimizeWarning: Covariance of the parameters could not be estimated\n",
      "  popt, pcov = curve_fit(p, X, y, p0=C_init)\n",
      "C:\\Users\\Sophie\\AppData\\Local\\Temp\\ipykernel_21592\\393379015.py:105: UserWarning: Tight layout not applied. tight_layout cannot make Axes width small enough to accommodate all Axes decorations\n",
      "  plt.tight_layout()\n",
      "C:\\Users\\Sophie\\AppData\\Local\\Temp\\ipykernel_21592\\393379015.py:107: UserWarning: Tight layout not applied. tight_layout cannot make Axes width small enough to accommodate all Axes decorations\n",
      "  fig.tight_layout()\n"
     ]
    },
    {
     "name": "stdout",
     "output_type": "stream",
     "text": [
      "Saved plots for Magpie Regressor to: c:\\Users\\Sophie\\OneDrive - National University of Ireland, Galway\\Y1S2\\Thesis\\SHAP + RFR or PySR or NN\\capstone2025-shiels-TIMES\\shap_outputs_25Sep2025\\Magpie Regressor\\2C_SSP2_DA30\\CO2eq\\all\n",
      "Training PySRRegressor...\n"
     ]
    },
    {
     "name": "stderr",
     "output_type": "stream",
     "text": [
      "c:\\Users\\Sophie\\OneDrive - National University of Ireland, Galway\\Y1S2\\Thesis\\SHAP + RFR or PySR or NN\\capstone2025-shiels-TIMES\\.venv\\Lib\\site-packages\\pysr\\sr.py:2811: UserWarning: Note: it looks like you are running in Jupyter. The progress bar will be turned off.\n",
      "  warnings.warn(\n",
      "c:\\Users\\Sophie\\OneDrive - National University of Ireland, Galway\\Y1S2\\Thesis\\SHAP + RFR or PySR or NN\\capstone2025-shiels-TIMES\\.venv\\Lib\\site-packages\\pysr\\sr.py:1873: UserWarning: Note: Setting `random_state` without also setting `deterministic=True` and `parallelism='serial'` will result in non-deterministic searches.\n",
      "  warnings.warn(\n",
      "PermutationExplainer explainer: 162it [00:21,  3.97it/s]                         \n",
      "C:\\Users\\Sophie\\AppData\\Local\\Temp\\ipykernel_21592\\393379015.py:105: UserWarning: Tight layout not applied. tight_layout cannot make Axes width small enough to accommodate all Axes decorations\n",
      "  plt.tight_layout()\n",
      "C:\\Users\\Sophie\\AppData\\Local\\Temp\\ipykernel_21592\\393379015.py:107: UserWarning: Tight layout not applied. tight_layout cannot make Axes width small enough to accommodate all Axes decorations\n",
      "  fig.tight_layout()\n"
     ]
    },
    {
     "name": "stdout",
     "output_type": "stream",
     "text": [
      "Saved plots for PySRRegressor to: c:\\Users\\Sophie\\OneDrive - National University of Ireland, Galway\\Y1S2\\Thesis\\SHAP + RFR or PySR or NN\\capstone2025-shiels-TIMES\\shap_outputs_25Sep2025\\PySRRegressor\\2C_SSP2_DA30\\CO2eq\\all\n",
      "Training RandomForestRegressor...\n"
     ]
    },
    {
     "name": "stderr",
     "output_type": "stream",
     "text": [
      "PermutationExplainer explainer: 162it [00:49,  2.59it/s]                         \n",
      "C:\\Users\\Sophie\\AppData\\Local\\Temp\\ipykernel_21592\\393379015.py:105: UserWarning: Tight layout not applied. tight_layout cannot make Axes width small enough to accommodate all Axes decorations\n",
      "  plt.tight_layout()\n",
      "C:\\Users\\Sophie\\AppData\\Local\\Temp\\ipykernel_21592\\393379015.py:107: UserWarning: Tight layout not applied. tight_layout cannot make Axes width small enough to accommodate all Axes decorations\n",
      "  fig.tight_layout()\n"
     ]
    },
    {
     "name": "stdout",
     "output_type": "stream",
     "text": [
      "Saved plots for RandomForestRegressor to: c:\\Users\\Sophie\\OneDrive - National University of Ireland, Galway\\Y1S2\\Thesis\\SHAP + RFR or PySR or NN\\capstone2025-shiels-TIMES\\shap_outputs_25Sep2025\\RandomForestRegressor\\2C_SSP2_DA30\\CO2eq\\all\n",
      "Training MLPRegressor...\n"
     ]
    },
    {
     "name": "stderr",
     "output_type": "stream",
     "text": [
      "c:\\Users\\Sophie\\OneDrive - National University of Ireland, Galway\\Y1S2\\Thesis\\SHAP + RFR or PySR or NN\\capstone2025-shiels-TIMES\\.venv\\Lib\\site-packages\\sklearn\\neural_network\\_multilayer_perceptron.py:780: ConvergenceWarning: Stochastic Optimizer: Maximum iterations (300) reached and the optimization hasn't converged yet.\n",
      "  warnings.warn(\n",
      "PermutationExplainer explainer: 162it [00:10,  1.28it/s]                         \n",
      "C:\\Users\\Sophie\\AppData\\Local\\Temp\\ipykernel_21592\\393379015.py:105: UserWarning: Tight layout not applied. tight_layout cannot make Axes width small enough to accommodate all Axes decorations\n",
      "  plt.tight_layout()\n",
      "C:\\Users\\Sophie\\AppData\\Local\\Temp\\ipykernel_21592\\393379015.py:107: UserWarning: Tight layout not applied. tight_layout cannot make Axes width small enough to accommodate all Axes decorations\n",
      "  fig.tight_layout()\n"
     ]
    },
    {
     "name": "stdout",
     "output_type": "stream",
     "text": [
      "Saved plots for MLPRegressor to: c:\\Users\\Sophie\\OneDrive - National University of Ireland, Galway\\Y1S2\\Thesis\\SHAP + RFR or PySR or NN\\capstone2025-shiels-TIMES\\shap_outputs_25Sep2025\\MLPRegressor\\2C_SSP2_DA30\\CO2eq\\all\n",
      "Scenario ALL, xvar code small_inc_enc xvars ['Temp_Limit', 'Delay', 'SDR', 'Clim_Sens', 'Pop', 'GDP'], target CO2eq\n",
      "\n",
      "Training Magpie Regressor...\n",
      "n_vars 6\n"
     ]
    },
    {
     "name": "stderr",
     "output_type": "stream",
     "text": [
      "C:\\Users\\Sophie\\OneDrive - National University of Ireland, Galway\\Y1S2\\Thesis\\SHAP + RFR or PySR or NN\\capstone2025-shiels-TIMES\\Magpie\\src\\Magpie\\fitness.py:72: OptimizeWarning: Covariance of the parameters could not be estimated\n",
      "  popt, pcov = curve_fit(p, X, y, p0=C_init)\n"
     ]
    },
    {
     "name": "stdout",
     "output_type": "stream",
     "text": [
      "Saved plots for Magpie Regressor to: c:\\Users\\Sophie\\OneDrive - National University of Ireland, Galway\\Y1S2\\Thesis\\SHAP + RFR or PySR or NN\\capstone2025-shiels-TIMES\\shap_outputs_25Sep2025\\Magpie Regressor\\ALL\\CO2eq\\small_inc_enc\n",
      "Training PySRRegressor...\n"
     ]
    },
    {
     "name": "stderr",
     "output_type": "stream",
     "text": [
      "c:\\Users\\Sophie\\OneDrive - National University of Ireland, Galway\\Y1S2\\Thesis\\SHAP + RFR or PySR or NN\\capstone2025-shiels-TIMES\\.venv\\Lib\\site-packages\\pysr\\sr.py:2811: UserWarning: Note: it looks like you are running in Jupyter. The progress bar will be turned off.\n",
      "  warnings.warn(\n",
      "c:\\Users\\Sophie\\OneDrive - National University of Ireland, Galway\\Y1S2\\Thesis\\SHAP + RFR or PySR or NN\\capstone2025-shiels-TIMES\\.venv\\Lib\\site-packages\\pysr\\sr.py:1873: UserWarning: Note: Setting `random_state` without also setting `deterministic=True` and `parallelism='serial'` will result in non-deterministic searches.\n",
      "  warnings.warn(\n"
     ]
    },
    {
     "name": "stdout",
     "output_type": "stream",
     "text": [
      "Saved plots for PySRRegressor to: c:\\Users\\Sophie\\OneDrive - National University of Ireland, Galway\\Y1S2\\Thesis\\SHAP + RFR or PySR or NN\\capstone2025-shiels-TIMES\\shap_outputs_25Sep2025\\PySRRegressor\\ALL\\CO2eq\\small_inc_enc\n",
      "Training RandomForestRegressor...\n"
     ]
    },
    {
     "name": "stderr",
     "output_type": "stream",
     "text": [
      "ExactExplainer explainer: 642it [00:39, 12.10it/s]                         \n"
     ]
    },
    {
     "name": "stdout",
     "output_type": "stream",
     "text": [
      "Saved plots for RandomForestRegressor to: c:\\Users\\Sophie\\OneDrive - National University of Ireland, Galway\\Y1S2\\Thesis\\SHAP + RFR or PySR or NN\\capstone2025-shiels-TIMES\\shap_outputs_25Sep2025\\RandomForestRegressor\\ALL\\CO2eq\\small_inc_enc\n",
      "Training MLPRegressor...\n"
     ]
    },
    {
     "name": "stderr",
     "output_type": "stream",
     "text": [
      "c:\\Users\\Sophie\\OneDrive - National University of Ireland, Galway\\Y1S2\\Thesis\\SHAP + RFR or PySR or NN\\capstone2025-shiels-TIMES\\.venv\\Lib\\site-packages\\sklearn\\neural_network\\_multilayer_perceptron.py:780: ConvergenceWarning: Stochastic Optimizer: Maximum iterations (300) reached and the optimization hasn't converged yet.\n",
      "  warnings.warn(\n"
     ]
    },
    {
     "name": "stdout",
     "output_type": "stream",
     "text": [
      "Saved plots for MLPRegressor to: c:\\Users\\Sophie\\OneDrive - National University of Ireland, Galway\\Y1S2\\Thesis\\SHAP + RFR or PySR or NN\\capstone2025-shiels-TIMES\\shap_outputs_25Sep2025\\MLPRegressor\\ALL\\CO2eq\\small_inc_enc\n",
      "Scenario ALL, xvar code all_inc_enc xvars ['Temp_Limit', 'Delay', 'GDP', 'Pop', 'Other_ESD_Drivers', 'SDR', 'Elast_ESD_Driver', 'Elast_ESD_Price', 'CO2_Storage_Poten', 'Wind_Poten', 'Solar_Poten', 'Biomass_Poten', 'Oil_Gas_Poten', 'Solar_PV_Inv_Cost', 'Wind_Inv_Cost', 'Bioenergy_CCS_Inv_Cost', 'Other_Tech_Cost', 'Forcing', 'Land_Sinks', 'Clim_Sens'], target CO2eq\n",
      "\n",
      "Training Magpie Regressor...\n",
      "n_vars 20\n"
     ]
    },
    {
     "name": "stderr",
     "output_type": "stream",
     "text": [
      "C:\\Users\\Sophie\\OneDrive - National University of Ireland, Galway\\Y1S2\\Thesis\\SHAP + RFR or PySR or NN\\capstone2025-shiels-TIMES\\Magpie\\src\\Magpie\\fitness.py:72: OptimizeWarning: Covariance of the parameters could not be estimated\n",
      "  popt, pcov = curve_fit(p, X, y, p0=C_init)\n",
      "C:\\Users\\Sophie\\AppData\\Local\\Temp\\ipykernel_21592\\393379015.py:105: UserWarning: Tight layout not applied. tight_layout cannot make Axes width small enough to accommodate all Axes decorations\n",
      "  plt.tight_layout()\n",
      "C:\\Users\\Sophie\\AppData\\Local\\Temp\\ipykernel_21592\\393379015.py:107: UserWarning: Tight layout not applied. tight_layout cannot make Axes width small enough to accommodate all Axes decorations\n",
      "  fig.tight_layout()\n"
     ]
    },
    {
     "name": "stdout",
     "output_type": "stream",
     "text": [
      "Saved plots for Magpie Regressor to: c:\\Users\\Sophie\\OneDrive - National University of Ireland, Galway\\Y1S2\\Thesis\\SHAP + RFR or PySR or NN\\capstone2025-shiels-TIMES\\shap_outputs_25Sep2025\\Magpie Regressor\\ALL\\CO2eq\\all_inc_enc\n",
      "Training PySRRegressor...\n"
     ]
    },
    {
     "name": "stderr",
     "output_type": "stream",
     "text": [
      "c:\\Users\\Sophie\\OneDrive - National University of Ireland, Galway\\Y1S2\\Thesis\\SHAP + RFR or PySR or NN\\capstone2025-shiels-TIMES\\.venv\\Lib\\site-packages\\pysr\\sr.py:2811: UserWarning: Note: it looks like you are running in Jupyter. The progress bar will be turned off.\n",
      "  warnings.warn(\n",
      "c:\\Users\\Sophie\\OneDrive - National University of Ireland, Galway\\Y1S2\\Thesis\\SHAP + RFR or PySR or NN\\capstone2025-shiels-TIMES\\.venv\\Lib\\site-packages\\pysr\\sr.py:1873: UserWarning: Note: Setting `random_state` without also setting `deterministic=True` and `parallelism='serial'` will result in non-deterministic searches.\n",
      "  warnings.warn(\n",
      "PermutationExplainer explainer: 642it [01:12,  7.81it/s]                         \n",
      "C:\\Users\\Sophie\\AppData\\Local\\Temp\\ipykernel_21592\\393379015.py:105: UserWarning: Tight layout not applied. tight_layout cannot make Axes width small enough to accommodate all Axes decorations\n",
      "  plt.tight_layout()\n",
      "C:\\Users\\Sophie\\AppData\\Local\\Temp\\ipykernel_21592\\393379015.py:107: UserWarning: Tight layout not applied. tight_layout cannot make Axes width small enough to accommodate all Axes decorations\n",
      "  fig.tight_layout()\n"
     ]
    },
    {
     "name": "stdout",
     "output_type": "stream",
     "text": [
      "Saved plots for PySRRegressor to: c:\\Users\\Sophie\\OneDrive - National University of Ireland, Galway\\Y1S2\\Thesis\\SHAP + RFR or PySR or NN\\capstone2025-shiels-TIMES\\shap_outputs_25Sep2025\\PySRRegressor\\ALL\\CO2eq\\all_inc_enc\n",
      "Training RandomForestRegressor...\n"
     ]
    },
    {
     "name": "stderr",
     "output_type": "stream",
     "text": [
      "PermutationExplainer explainer: 642it [03:20,  3.06it/s]                         \n",
      "C:\\Users\\Sophie\\AppData\\Local\\Temp\\ipykernel_21592\\393379015.py:105: UserWarning: Tight layout not applied. tight_layout cannot make Axes width small enough to accommodate all Axes decorations\n",
      "  plt.tight_layout()\n",
      "C:\\Users\\Sophie\\AppData\\Local\\Temp\\ipykernel_21592\\393379015.py:107: UserWarning: Tight layout not applied. tight_layout cannot make Axes width small enough to accommodate all Axes decorations\n",
      "  fig.tight_layout()\n"
     ]
    },
    {
     "name": "stdout",
     "output_type": "stream",
     "text": [
      "Saved plots for RandomForestRegressor to: c:\\Users\\Sophie\\OneDrive - National University of Ireland, Galway\\Y1S2\\Thesis\\SHAP + RFR or PySR or NN\\capstone2025-shiels-TIMES\\shap_outputs_25Sep2025\\RandomForestRegressor\\ALL\\CO2eq\\all_inc_enc\n",
      "Training MLPRegressor...\n"
     ]
    },
    {
     "name": "stderr",
     "output_type": "stream",
     "text": [
      "c:\\Users\\Sophie\\OneDrive - National University of Ireland, Galway\\Y1S2\\Thesis\\SHAP + RFR or PySR or NN\\capstone2025-shiels-TIMES\\.venv\\Lib\\site-packages\\sklearn\\neural_network\\_multilayer_perceptron.py:780: ConvergenceWarning: Stochastic Optimizer: Maximum iterations (300) reached and the optimization hasn't converged yet.\n",
      "  warnings.warn(\n",
      "PermutationExplainer explainer: 642it [00:39, 12.14it/s]                         \n",
      "C:\\Users\\Sophie\\AppData\\Local\\Temp\\ipykernel_21592\\393379015.py:105: UserWarning: Tight layout not applied. tight_layout cannot make Axes width small enough to accommodate all Axes decorations\n",
      "  plt.tight_layout()\n",
      "C:\\Users\\Sophie\\AppData\\Local\\Temp\\ipykernel_21592\\393379015.py:107: UserWarning: Tight layout not applied. tight_layout cannot make Axes width small enough to accommodate all Axes decorations\n",
      "  fig.tight_layout()\n"
     ]
    },
    {
     "name": "stdout",
     "output_type": "stream",
     "text": [
      "Saved plots for MLPRegressor to: c:\\Users\\Sophie\\OneDrive - National University of Ireland, Galway\\Y1S2\\Thesis\\SHAP + RFR or PySR or NN\\capstone2025-shiels-TIMES\\shap_outputs_25Sep2025\\MLPRegressor\\ALL\\CO2eq\\all_inc_enc\n",
      "Scenario BASE_SSP2, xvar code small xvars ['SDR', 'Clim_Sens', 'Pop', 'GDP'], target GConsumption\n",
      "\n",
      "Training Magpie Regressor...\n",
      "n_vars 4\n"
     ]
    },
    {
     "name": "stderr",
     "output_type": "stream",
     "text": [
      "C:\\Users\\Sophie\\OneDrive - National University of Ireland, Galway\\Y1S2\\Thesis\\SHAP + RFR or PySR or NN\\capstone2025-shiels-TIMES\\Magpie\\src\\Magpie\\fitness.py:72: OptimizeWarning: Covariance of the parameters could not be estimated\n",
      "  popt, pcov = curve_fit(p, X, y, p0=C_init)\n"
     ]
    },
    {
     "name": "stdout",
     "output_type": "stream",
     "text": [
      "Saved plots for Magpie Regressor to: c:\\Users\\Sophie\\OneDrive - National University of Ireland, Galway\\Y1S2\\Thesis\\SHAP + RFR or PySR or NN\\capstone2025-shiels-TIMES\\shap_outputs_25Sep2025\\Magpie Regressor\\BASE_SSP2\\GConsumption\\small\n",
      "Training PySRRegressor...\n"
     ]
    },
    {
     "name": "stderr",
     "output_type": "stream",
     "text": [
      "c:\\Users\\Sophie\\OneDrive - National University of Ireland, Galway\\Y1S2\\Thesis\\SHAP + RFR or PySR or NN\\capstone2025-shiels-TIMES\\.venv\\Lib\\site-packages\\pysr\\sr.py:2811: UserWarning: Note: it looks like you are running in Jupyter. The progress bar will be turned off.\n",
      "  warnings.warn(\n",
      "c:\\Users\\Sophie\\OneDrive - National University of Ireland, Galway\\Y1S2\\Thesis\\SHAP + RFR or PySR or NN\\capstone2025-shiels-TIMES\\.venv\\Lib\\site-packages\\pysr\\sr.py:1873: UserWarning: Note: Setting `random_state` without also setting `deterministic=True` and `parallelism='serial'` will result in non-deterministic searches.\n",
      "  warnings.warn(\n"
     ]
    },
    {
     "name": "stdout",
     "output_type": "stream",
     "text": [
      "Saved plots for PySRRegressor to: c:\\Users\\Sophie\\OneDrive - National University of Ireland, Galway\\Y1S2\\Thesis\\SHAP + RFR or PySR or NN\\capstone2025-shiels-TIMES\\shap_outputs_25Sep2025\\PySRRegressor\\BASE_SSP2\\GConsumption\\small\n",
      "Training RandomForestRegressor...\n",
      "Saved plots for RandomForestRegressor to: c:\\Users\\Sophie\\OneDrive - National University of Ireland, Galway\\Y1S2\\Thesis\\SHAP + RFR or PySR or NN\\capstone2025-shiels-TIMES\\shap_outputs_25Sep2025\\RandomForestRegressor\\BASE_SSP2\\GConsumption\\small\n",
      "Training MLPRegressor...\n"
     ]
    },
    {
     "name": "stderr",
     "output_type": "stream",
     "text": [
      "c:\\Users\\Sophie\\OneDrive - National University of Ireland, Galway\\Y1S2\\Thesis\\SHAP + RFR or PySR or NN\\capstone2025-shiels-TIMES\\.venv\\Lib\\site-packages\\sklearn\\neural_network\\_multilayer_perceptron.py:780: ConvergenceWarning: Stochastic Optimizer: Maximum iterations (300) reached and the optimization hasn't converged yet.\n",
      "  warnings.warn(\n"
     ]
    },
    {
     "name": "stdout",
     "output_type": "stream",
     "text": [
      "Saved plots for MLPRegressor to: c:\\Users\\Sophie\\OneDrive - National University of Ireland, Galway\\Y1S2\\Thesis\\SHAP + RFR or PySR or NN\\capstone2025-shiels-TIMES\\shap_outputs_25Sep2025\\MLPRegressor\\BASE_SSP2\\GConsumption\\small\n",
      "Scenario BASE_SSP2, xvar code all xvars ['GDP', 'Pop', 'Other_ESD_Drivers', 'SDR', 'Elast_ESD_Driver', 'Elast_ESD_Price', 'CO2_Storage_Poten', 'Wind_Poten', 'Solar_Poten', 'Biomass_Poten', 'Oil_Gas_Poten', 'Solar_PV_Inv_Cost', 'Wind_Inv_Cost', 'Bioenergy_CCS_Inv_Cost', 'Other_Tech_Cost', 'Forcing', 'Land_Sinks', 'Clim_Sens'], target GConsumption\n",
      "\n",
      "Training Magpie Regressor...\n",
      "n_vars 18\n"
     ]
    },
    {
     "name": "stderr",
     "output_type": "stream",
     "text": [
      "C:\\Users\\Sophie\\OneDrive - National University of Ireland, Galway\\Y1S2\\Thesis\\SHAP + RFR or PySR or NN\\capstone2025-shiels-TIMES\\Magpie\\src\\Magpie\\fitness.py:72: OptimizeWarning: Covariance of the parameters could not be estimated\n",
      "  popt, pcov = curve_fit(p, X, y, p0=C_init)\n",
      "C:\\Users\\Sophie\\AppData\\Local\\Temp\\ipykernel_21592\\393379015.py:105: UserWarning: Tight layout not applied. tight_layout cannot make Axes width small enough to accommodate all Axes decorations\n",
      "  plt.tight_layout()\n",
      "C:\\Users\\Sophie\\AppData\\Local\\Temp\\ipykernel_21592\\393379015.py:107: UserWarning: Tight layout not applied. tight_layout cannot make Axes width small enough to accommodate all Axes decorations\n",
      "  fig.tight_layout()\n"
     ]
    },
    {
     "name": "stdout",
     "output_type": "stream",
     "text": [
      "Saved plots for Magpie Regressor to: c:\\Users\\Sophie\\OneDrive - National University of Ireland, Galway\\Y1S2\\Thesis\\SHAP + RFR or PySR or NN\\capstone2025-shiels-TIMES\\shap_outputs_25Sep2025\\Magpie Regressor\\BASE_SSP2\\GConsumption\\all\n",
      "Training PySRRegressor...\n"
     ]
    },
    {
     "name": "stderr",
     "output_type": "stream",
     "text": [
      "c:\\Users\\Sophie\\OneDrive - National University of Ireland, Galway\\Y1S2\\Thesis\\SHAP + RFR or PySR or NN\\capstone2025-shiels-TIMES\\.venv\\Lib\\site-packages\\pysr\\sr.py:2811: UserWarning: Note: it looks like you are running in Jupyter. The progress bar will be turned off.\n",
      "  warnings.warn(\n",
      "c:\\Users\\Sophie\\OneDrive - National University of Ireland, Galway\\Y1S2\\Thesis\\SHAP + RFR or PySR or NN\\capstone2025-shiels-TIMES\\.venv\\Lib\\site-packages\\pysr\\sr.py:1873: UserWarning: Note: Setting `random_state` without also setting `deterministic=True` and `parallelism='serial'` will result in non-deterministic searches.\n",
      "  warnings.warn(\n",
      "PermutationExplainer explainer: 162it [00:24,  3.78it/s]                         \n",
      "C:\\Users\\Sophie\\AppData\\Local\\Temp\\ipykernel_21592\\393379015.py:105: UserWarning: Tight layout not applied. tight_layout cannot make Axes width small enough to accommodate all Axes decorations\n",
      "  plt.tight_layout()\n",
      "C:\\Users\\Sophie\\AppData\\Local\\Temp\\ipykernel_21592\\393379015.py:107: UserWarning: Tight layout not applied. tight_layout cannot make Axes width small enough to accommodate all Axes decorations\n",
      "  fig.tight_layout()\n"
     ]
    },
    {
     "name": "stdout",
     "output_type": "stream",
     "text": [
      "Saved plots for PySRRegressor to: c:\\Users\\Sophie\\OneDrive - National University of Ireland, Galway\\Y1S2\\Thesis\\SHAP + RFR or PySR or NN\\capstone2025-shiels-TIMES\\shap_outputs_25Sep2025\\PySRRegressor\\BASE_SSP2\\GConsumption\\all\n",
      "Training RandomForestRegressor...\n"
     ]
    },
    {
     "name": "stderr",
     "output_type": "stream",
     "text": [
      "PermutationExplainer explainer: 162it [00:47,  2.78it/s]                         \n",
      "C:\\Users\\Sophie\\AppData\\Local\\Temp\\ipykernel_21592\\393379015.py:105: UserWarning: Tight layout not applied. tight_layout cannot make Axes width small enough to accommodate all Axes decorations\n",
      "  plt.tight_layout()\n",
      "C:\\Users\\Sophie\\AppData\\Local\\Temp\\ipykernel_21592\\393379015.py:107: UserWarning: Tight layout not applied. tight_layout cannot make Axes width small enough to accommodate all Axes decorations\n",
      "  fig.tight_layout()\n"
     ]
    },
    {
     "name": "stdout",
     "output_type": "stream",
     "text": [
      "Saved plots for RandomForestRegressor to: c:\\Users\\Sophie\\OneDrive - National University of Ireland, Galway\\Y1S2\\Thesis\\SHAP + RFR or PySR or NN\\capstone2025-shiels-TIMES\\shap_outputs_25Sep2025\\RandomForestRegressor\\BASE_SSP2\\GConsumption\\all\n",
      "Training MLPRegressor...\n"
     ]
    },
    {
     "name": "stderr",
     "output_type": "stream",
     "text": [
      "C:\\Users\\Sophie\\AppData\\Local\\Temp\\ipykernel_21592\\393379015.py:105: UserWarning: Tight layout not applied. tight_layout cannot make Axes width small enough to accommodate all Axes decorations\n",
      "  plt.tight_layout()\n",
      "C:\\Users\\Sophie\\AppData\\Local\\Temp\\ipykernel_21592\\393379015.py:107: UserWarning: Tight layout not applied. tight_layout cannot make Axes width small enough to accommodate all Axes decorations\n",
      "  fig.tight_layout()\n"
     ]
    },
    {
     "name": "stdout",
     "output_type": "stream",
     "text": [
      "Saved plots for MLPRegressor to: c:\\Users\\Sophie\\OneDrive - National University of Ireland, Galway\\Y1S2\\Thesis\\SHAP + RFR or PySR or NN\\capstone2025-shiels-TIMES\\shap_outputs_25Sep2025\\MLPRegressor\\BASE_SSP2\\GConsumption\\all\n",
      "Scenario 1p5c_OS_SSP2, xvar code small xvars ['SDR', 'Clim_Sens', 'Pop', 'GDP'], target GConsumption\n",
      "\n",
      "Training Magpie Regressor...\n",
      "n_vars 4\n"
     ]
    },
    {
     "name": "stderr",
     "output_type": "stream",
     "text": [
      "C:\\Users\\Sophie\\OneDrive - National University of Ireland, Galway\\Y1S2\\Thesis\\SHAP + RFR or PySR or NN\\capstone2025-shiels-TIMES\\Magpie\\src\\Magpie\\fitness.py:72: OptimizeWarning: Covariance of the parameters could not be estimated\n",
      "  popt, pcov = curve_fit(p, X, y, p0=C_init)\n"
     ]
    },
    {
     "name": "stdout",
     "output_type": "stream",
     "text": [
      "Saved plots for Magpie Regressor to: c:\\Users\\Sophie\\OneDrive - National University of Ireland, Galway\\Y1S2\\Thesis\\SHAP + RFR or PySR or NN\\capstone2025-shiels-TIMES\\shap_outputs_25Sep2025\\Magpie Regressor\\1p5c_OS_SSP2\\GConsumption\\small\n",
      "Training PySRRegressor...\n"
     ]
    },
    {
     "name": "stderr",
     "output_type": "stream",
     "text": [
      "c:\\Users\\Sophie\\OneDrive - National University of Ireland, Galway\\Y1S2\\Thesis\\SHAP + RFR or PySR or NN\\capstone2025-shiels-TIMES\\.venv\\Lib\\site-packages\\pysr\\sr.py:2811: UserWarning: Note: it looks like you are running in Jupyter. The progress bar will be turned off.\n",
      "  warnings.warn(\n",
      "c:\\Users\\Sophie\\OneDrive - National University of Ireland, Galway\\Y1S2\\Thesis\\SHAP + RFR or PySR or NN\\capstone2025-shiels-TIMES\\.venv\\Lib\\site-packages\\pysr\\sr.py:1873: UserWarning: Note: Setting `random_state` without also setting `deterministic=True` and `parallelism='serial'` will result in non-deterministic searches.\n",
      "  warnings.warn(\n"
     ]
    },
    {
     "name": "stdout",
     "output_type": "stream",
     "text": [
      "Saved plots for PySRRegressor to: c:\\Users\\Sophie\\OneDrive - National University of Ireland, Galway\\Y1S2\\Thesis\\SHAP + RFR or PySR or NN\\capstone2025-shiels-TIMES\\shap_outputs_25Sep2025\\PySRRegressor\\1p5c_OS_SSP2\\GConsumption\\small\n",
      "Training RandomForestRegressor...\n",
      "Saved plots for RandomForestRegressor to: c:\\Users\\Sophie\\OneDrive - National University of Ireland, Galway\\Y1S2\\Thesis\\SHAP + RFR or PySR or NN\\capstone2025-shiels-TIMES\\shap_outputs_25Sep2025\\RandomForestRegressor\\1p5c_OS_SSP2\\GConsumption\\small\n",
      "Training MLPRegressor...\n"
     ]
    },
    {
     "name": "stderr",
     "output_type": "stream",
     "text": [
      "c:\\Users\\Sophie\\OneDrive - National University of Ireland, Galway\\Y1S2\\Thesis\\SHAP + RFR or PySR or NN\\capstone2025-shiels-TIMES\\.venv\\Lib\\site-packages\\sklearn\\neural_network\\_multilayer_perceptron.py:780: ConvergenceWarning: Stochastic Optimizer: Maximum iterations (300) reached and the optimization hasn't converged yet.\n",
      "  warnings.warn(\n"
     ]
    },
    {
     "name": "stdout",
     "output_type": "stream",
     "text": [
      "Saved plots for MLPRegressor to: c:\\Users\\Sophie\\OneDrive - National University of Ireland, Galway\\Y1S2\\Thesis\\SHAP + RFR or PySR or NN\\capstone2025-shiels-TIMES\\shap_outputs_25Sep2025\\MLPRegressor\\1p5c_OS_SSP2\\GConsumption\\small\n",
      "Scenario 1p5c_OS_SSP2, xvar code all xvars ['GDP', 'Pop', 'Other_ESD_Drivers', 'SDR', 'Elast_ESD_Driver', 'Elast_ESD_Price', 'CO2_Storage_Poten', 'Wind_Poten', 'Solar_Poten', 'Biomass_Poten', 'Oil_Gas_Poten', 'Solar_PV_Inv_Cost', 'Wind_Inv_Cost', 'Bioenergy_CCS_Inv_Cost', 'Other_Tech_Cost', 'Forcing', 'Land_Sinks', 'Clim_Sens'], target GConsumption\n",
      "\n",
      "Training Magpie Regressor...\n",
      "n_vars 18\n"
     ]
    },
    {
     "name": "stderr",
     "output_type": "stream",
     "text": [
      "C:\\Users\\Sophie\\OneDrive - National University of Ireland, Galway\\Y1S2\\Thesis\\SHAP + RFR or PySR or NN\\capstone2025-shiels-TIMES\\Magpie\\src\\Magpie\\fitness.py:72: OptimizeWarning: Covariance of the parameters could not be estimated\n",
      "  popt, pcov = curve_fit(p, X, y, p0=C_init)\n",
      "C:\\Users\\Sophie\\AppData\\Local\\Temp\\ipykernel_21592\\393379015.py:105: UserWarning: Tight layout not applied. tight_layout cannot make Axes width small enough to accommodate all Axes decorations\n",
      "  plt.tight_layout()\n",
      "C:\\Users\\Sophie\\AppData\\Local\\Temp\\ipykernel_21592\\393379015.py:107: UserWarning: Tight layout not applied. tight_layout cannot make Axes width small enough to accommodate all Axes decorations\n",
      "  fig.tight_layout()\n"
     ]
    },
    {
     "name": "stdout",
     "output_type": "stream",
     "text": [
      "Saved plots for Magpie Regressor to: c:\\Users\\Sophie\\OneDrive - National University of Ireland, Galway\\Y1S2\\Thesis\\SHAP + RFR or PySR or NN\\capstone2025-shiels-TIMES\\shap_outputs_25Sep2025\\Magpie Regressor\\1p5c_OS_SSP2\\GConsumption\\all\n",
      "Training PySRRegressor...\n"
     ]
    },
    {
     "name": "stderr",
     "output_type": "stream",
     "text": [
      "c:\\Users\\Sophie\\OneDrive - National University of Ireland, Galway\\Y1S2\\Thesis\\SHAP + RFR or PySR or NN\\capstone2025-shiels-TIMES\\.venv\\Lib\\site-packages\\pysr\\sr.py:2811: UserWarning: Note: it looks like you are running in Jupyter. The progress bar will be turned off.\n",
      "  warnings.warn(\n",
      "c:\\Users\\Sophie\\OneDrive - National University of Ireland, Galway\\Y1S2\\Thesis\\SHAP + RFR or PySR or NN\\capstone2025-shiels-TIMES\\.venv\\Lib\\site-packages\\pysr\\sr.py:1873: UserWarning: Note: Setting `random_state` without also setting `deterministic=True` and `parallelism='serial'` will result in non-deterministic searches.\n",
      "  warnings.warn(\n",
      "PermutationExplainer explainer: 162it [00:18,  4.18it/s]                         \n",
      "C:\\Users\\Sophie\\AppData\\Local\\Temp\\ipykernel_21592\\393379015.py:105: UserWarning: Tight layout not applied. tight_layout cannot make Axes width small enough to accommodate all Axes decorations\n",
      "  plt.tight_layout()\n",
      "C:\\Users\\Sophie\\AppData\\Local\\Temp\\ipykernel_21592\\393379015.py:107: UserWarning: Tight layout not applied. tight_layout cannot make Axes width small enough to accommodate all Axes decorations\n",
      "  fig.tight_layout()\n"
     ]
    },
    {
     "name": "stdout",
     "output_type": "stream",
     "text": [
      "Saved plots for PySRRegressor to: c:\\Users\\Sophie\\OneDrive - National University of Ireland, Galway\\Y1S2\\Thesis\\SHAP + RFR or PySR or NN\\capstone2025-shiels-TIMES\\shap_outputs_25Sep2025\\PySRRegressor\\1p5c_OS_SSP2\\GConsumption\\all\n",
      "Training RandomForestRegressor...\n"
     ]
    },
    {
     "name": "stderr",
     "output_type": "stream",
     "text": [
      "PermutationExplainer explainer: 162it [00:50,  2.58it/s]                         \n",
      "C:\\Users\\Sophie\\AppData\\Local\\Temp\\ipykernel_21592\\393379015.py:105: UserWarning: Tight layout not applied. tight_layout cannot make Axes width small enough to accommodate all Axes decorations\n",
      "  plt.tight_layout()\n",
      "C:\\Users\\Sophie\\AppData\\Local\\Temp\\ipykernel_21592\\393379015.py:107: UserWarning: Tight layout not applied. tight_layout cannot make Axes width small enough to accommodate all Axes decorations\n",
      "  fig.tight_layout()\n"
     ]
    },
    {
     "name": "stdout",
     "output_type": "stream",
     "text": [
      "Saved plots for RandomForestRegressor to: c:\\Users\\Sophie\\OneDrive - National University of Ireland, Galway\\Y1S2\\Thesis\\SHAP + RFR or PySR or NN\\capstone2025-shiels-TIMES\\shap_outputs_25Sep2025\\RandomForestRegressor\\1p5c_OS_SSP2\\GConsumption\\all\n",
      "Training MLPRegressor...\n"
     ]
    },
    {
     "name": "stderr",
     "output_type": "stream",
     "text": [
      "PermutationExplainer explainer: 162it [00:10,  1.49s/it]                         \n",
      "C:\\Users\\Sophie\\AppData\\Local\\Temp\\ipykernel_21592\\393379015.py:105: UserWarning: Tight layout not applied. tight_layout cannot make Axes width small enough to accommodate all Axes decorations\n",
      "  plt.tight_layout()\n",
      "C:\\Users\\Sophie\\AppData\\Local\\Temp\\ipykernel_21592\\393379015.py:107: UserWarning: Tight layout not applied. tight_layout cannot make Axes width small enough to accommodate all Axes decorations\n",
      "  fig.tight_layout()\n"
     ]
    },
    {
     "name": "stdout",
     "output_type": "stream",
     "text": [
      "Saved plots for MLPRegressor to: c:\\Users\\Sophie\\OneDrive - National University of Ireland, Galway\\Y1S2\\Thesis\\SHAP + RFR or PySR or NN\\capstone2025-shiels-TIMES\\shap_outputs_25Sep2025\\MLPRegressor\\1p5c_OS_SSP2\\GConsumption\\all\n",
      "Scenario 2C_SSP2, xvar code small xvars ['SDR', 'Clim_Sens', 'Pop', 'GDP'], target GConsumption\n",
      "\n",
      "Training Magpie Regressor...\n",
      "n_vars 4\n"
     ]
    },
    {
     "name": "stderr",
     "output_type": "stream",
     "text": [
      "C:\\Users\\Sophie\\OneDrive - National University of Ireland, Galway\\Y1S2\\Thesis\\SHAP + RFR or PySR or NN\\capstone2025-shiels-TIMES\\Magpie\\src\\Magpie\\fitness.py:72: OptimizeWarning: Covariance of the parameters could not be estimated\n",
      "  popt, pcov = curve_fit(p, X, y, p0=C_init)\n"
     ]
    },
    {
     "name": "stdout",
     "output_type": "stream",
     "text": [
      "Saved plots for Magpie Regressor to: c:\\Users\\Sophie\\OneDrive - National University of Ireland, Galway\\Y1S2\\Thesis\\SHAP + RFR or PySR or NN\\capstone2025-shiels-TIMES\\shap_outputs_25Sep2025\\Magpie Regressor\\2C_SSP2\\GConsumption\\small\n",
      "Training PySRRegressor...\n"
     ]
    },
    {
     "name": "stderr",
     "output_type": "stream",
     "text": [
      "c:\\Users\\Sophie\\OneDrive - National University of Ireland, Galway\\Y1S2\\Thesis\\SHAP + RFR or PySR or NN\\capstone2025-shiels-TIMES\\.venv\\Lib\\site-packages\\pysr\\sr.py:2811: UserWarning: Note: it looks like you are running in Jupyter. The progress bar will be turned off.\n",
      "  warnings.warn(\n",
      "c:\\Users\\Sophie\\OneDrive - National University of Ireland, Galway\\Y1S2\\Thesis\\SHAP + RFR or PySR or NN\\capstone2025-shiels-TIMES\\.venv\\Lib\\site-packages\\pysr\\sr.py:1873: UserWarning: Note: Setting `random_state` without also setting `deterministic=True` and `parallelism='serial'` will result in non-deterministic searches.\n",
      "  warnings.warn(\n"
     ]
    },
    {
     "name": "stdout",
     "output_type": "stream",
     "text": [
      "Saved plots for PySRRegressor to: c:\\Users\\Sophie\\OneDrive - National University of Ireland, Galway\\Y1S2\\Thesis\\SHAP + RFR or PySR or NN\\capstone2025-shiels-TIMES\\shap_outputs_25Sep2025\\PySRRegressor\\2C_SSP2\\GConsumption\\small\n",
      "Training RandomForestRegressor...\n",
      "Saved plots for RandomForestRegressor to: c:\\Users\\Sophie\\OneDrive - National University of Ireland, Galway\\Y1S2\\Thesis\\SHAP + RFR or PySR or NN\\capstone2025-shiels-TIMES\\shap_outputs_25Sep2025\\RandomForestRegressor\\2C_SSP2\\GConsumption\\small\n",
      "Training MLPRegressor...\n"
     ]
    },
    {
     "name": "stderr",
     "output_type": "stream",
     "text": [
      "c:\\Users\\Sophie\\OneDrive - National University of Ireland, Galway\\Y1S2\\Thesis\\SHAP + RFR or PySR or NN\\capstone2025-shiels-TIMES\\.venv\\Lib\\site-packages\\sklearn\\neural_network\\_multilayer_perceptron.py:780: ConvergenceWarning: Stochastic Optimizer: Maximum iterations (300) reached and the optimization hasn't converged yet.\n",
      "  warnings.warn(\n"
     ]
    },
    {
     "name": "stdout",
     "output_type": "stream",
     "text": [
      "Saved plots for MLPRegressor to: c:\\Users\\Sophie\\OneDrive - National University of Ireland, Galway\\Y1S2\\Thesis\\SHAP + RFR or PySR or NN\\capstone2025-shiels-TIMES\\shap_outputs_25Sep2025\\MLPRegressor\\2C_SSP2\\GConsumption\\small\n",
      "Scenario 2C_SSP2, xvar code all xvars ['GDP', 'Pop', 'Other_ESD_Drivers', 'SDR', 'Elast_ESD_Driver', 'Elast_ESD_Price', 'CO2_Storage_Poten', 'Wind_Poten', 'Solar_Poten', 'Biomass_Poten', 'Oil_Gas_Poten', 'Solar_PV_Inv_Cost', 'Wind_Inv_Cost', 'Bioenergy_CCS_Inv_Cost', 'Other_Tech_Cost', 'Forcing', 'Land_Sinks', 'Clim_Sens'], target GConsumption\n",
      "\n",
      "Training Magpie Regressor...\n",
      "n_vars 18\n"
     ]
    },
    {
     "name": "stderr",
     "output_type": "stream",
     "text": [
      "C:\\Users\\Sophie\\OneDrive - National University of Ireland, Galway\\Y1S2\\Thesis\\SHAP + RFR or PySR or NN\\capstone2025-shiels-TIMES\\Magpie\\src\\Magpie\\fitness.py:72: OptimizeWarning: Covariance of the parameters could not be estimated\n",
      "  popt, pcov = curve_fit(p, X, y, p0=C_init)\n",
      "C:\\Users\\Sophie\\AppData\\Local\\Temp\\ipykernel_21592\\393379015.py:105: UserWarning: Tight layout not applied. tight_layout cannot make Axes width small enough to accommodate all Axes decorations\n",
      "  plt.tight_layout()\n",
      "C:\\Users\\Sophie\\AppData\\Local\\Temp\\ipykernel_21592\\393379015.py:107: UserWarning: Tight layout not applied. tight_layout cannot make Axes width small enough to accommodate all Axes decorations\n",
      "  fig.tight_layout()\n"
     ]
    },
    {
     "name": "stdout",
     "output_type": "stream",
     "text": [
      "Saved plots for Magpie Regressor to: c:\\Users\\Sophie\\OneDrive - National University of Ireland, Galway\\Y1S2\\Thesis\\SHAP + RFR or PySR or NN\\capstone2025-shiels-TIMES\\shap_outputs_25Sep2025\\Magpie Regressor\\2C_SSP2\\GConsumption\\all\n",
      "Training PySRRegressor...\n"
     ]
    },
    {
     "name": "stderr",
     "output_type": "stream",
     "text": [
      "c:\\Users\\Sophie\\OneDrive - National University of Ireland, Galway\\Y1S2\\Thesis\\SHAP + RFR or PySR or NN\\capstone2025-shiels-TIMES\\.venv\\Lib\\site-packages\\pysr\\sr.py:2811: UserWarning: Note: it looks like you are running in Jupyter. The progress bar will be turned off.\n",
      "  warnings.warn(\n",
      "c:\\Users\\Sophie\\OneDrive - National University of Ireland, Galway\\Y1S2\\Thesis\\SHAP + RFR or PySR or NN\\capstone2025-shiels-TIMES\\.venv\\Lib\\site-packages\\pysr\\sr.py:1873: UserWarning: Note: Setting `random_state` without also setting `deterministic=True` and `parallelism='serial'` will result in non-deterministic searches.\n",
      "  warnings.warn(\n",
      "PermutationExplainer explainer: 162it [00:22,  4.09it/s]                         \n",
      "C:\\Users\\Sophie\\AppData\\Local\\Temp\\ipykernel_21592\\393379015.py:105: UserWarning: Tight layout not applied. tight_layout cannot make Axes width small enough to accommodate all Axes decorations\n",
      "  plt.tight_layout()\n",
      "C:\\Users\\Sophie\\AppData\\Local\\Temp\\ipykernel_21592\\393379015.py:107: UserWarning: Tight layout not applied. tight_layout cannot make Axes width small enough to accommodate all Axes decorations\n",
      "  fig.tight_layout()\n"
     ]
    },
    {
     "name": "stdout",
     "output_type": "stream",
     "text": [
      "Saved plots for PySRRegressor to: c:\\Users\\Sophie\\OneDrive - National University of Ireland, Galway\\Y1S2\\Thesis\\SHAP + RFR or PySR or NN\\capstone2025-shiels-TIMES\\shap_outputs_25Sep2025\\PySRRegressor\\2C_SSP2\\GConsumption\\all\n",
      "Training RandomForestRegressor...\n"
     ]
    },
    {
     "name": "stderr",
     "output_type": "stream",
     "text": [
      "PermutationExplainer explainer: 162it [00:49,  2.63it/s]                         \n",
      "C:\\Users\\Sophie\\AppData\\Local\\Temp\\ipykernel_21592\\393379015.py:105: UserWarning: Tight layout not applied. tight_layout cannot make Axes width small enough to accommodate all Axes decorations\n",
      "  plt.tight_layout()\n",
      "C:\\Users\\Sophie\\AppData\\Local\\Temp\\ipykernel_21592\\393379015.py:107: UserWarning: Tight layout not applied. tight_layout cannot make Axes width small enough to accommodate all Axes decorations\n",
      "  fig.tight_layout()\n"
     ]
    },
    {
     "name": "stdout",
     "output_type": "stream",
     "text": [
      "Saved plots for RandomForestRegressor to: c:\\Users\\Sophie\\OneDrive - National University of Ireland, Galway\\Y1S2\\Thesis\\SHAP + RFR or PySR or NN\\capstone2025-shiels-TIMES\\shap_outputs_25Sep2025\\RandomForestRegressor\\2C_SSP2\\GConsumption\\all\n",
      "Training MLPRegressor...\n"
     ]
    },
    {
     "name": "stderr",
     "output_type": "stream",
     "text": [
      "PermutationExplainer explainer: 162it [00:10,  2.56s/it]                         \n",
      "C:\\Users\\Sophie\\AppData\\Local\\Temp\\ipykernel_21592\\393379015.py:105: UserWarning: Tight layout not applied. tight_layout cannot make Axes width small enough to accommodate all Axes decorations\n",
      "  plt.tight_layout()\n",
      "C:\\Users\\Sophie\\AppData\\Local\\Temp\\ipykernel_21592\\393379015.py:107: UserWarning: Tight layout not applied. tight_layout cannot make Axes width small enough to accommodate all Axes decorations\n",
      "  fig.tight_layout()\n"
     ]
    },
    {
     "name": "stdout",
     "output_type": "stream",
     "text": [
      "Saved plots for MLPRegressor to: c:\\Users\\Sophie\\OneDrive - National University of Ireland, Galway\\Y1S2\\Thesis\\SHAP + RFR or PySR or NN\\capstone2025-shiels-TIMES\\shap_outputs_25Sep2025\\MLPRegressor\\2C_SSP2\\GConsumption\\all\n",
      "Scenario 2C_SSP2_DA30, xvar code small xvars ['SDR', 'Clim_Sens', 'Pop', 'GDP'], target GConsumption\n",
      "\n",
      "Training Magpie Regressor...\n",
      "n_vars 4\n"
     ]
    },
    {
     "name": "stderr",
     "output_type": "stream",
     "text": [
      "C:\\Users\\Sophie\\OneDrive - National University of Ireland, Galway\\Y1S2\\Thesis\\SHAP + RFR or PySR or NN\\capstone2025-shiels-TIMES\\Magpie\\src\\Magpie\\fitness.py:72: OptimizeWarning: Covariance of the parameters could not be estimated\n",
      "  popt, pcov = curve_fit(p, X, y, p0=C_init)\n"
     ]
    },
    {
     "name": "stdout",
     "output_type": "stream",
     "text": [
      "Saved plots for Magpie Regressor to: c:\\Users\\Sophie\\OneDrive - National University of Ireland, Galway\\Y1S2\\Thesis\\SHAP + RFR or PySR or NN\\capstone2025-shiels-TIMES\\shap_outputs_25Sep2025\\Magpie Regressor\\2C_SSP2_DA30\\GConsumption\\small\n",
      "Training PySRRegressor...\n"
     ]
    },
    {
     "name": "stderr",
     "output_type": "stream",
     "text": [
      "c:\\Users\\Sophie\\OneDrive - National University of Ireland, Galway\\Y1S2\\Thesis\\SHAP + RFR or PySR or NN\\capstone2025-shiels-TIMES\\.venv\\Lib\\site-packages\\pysr\\sr.py:2811: UserWarning: Note: it looks like you are running in Jupyter. The progress bar will be turned off.\n",
      "  warnings.warn(\n",
      "c:\\Users\\Sophie\\OneDrive - National University of Ireland, Galway\\Y1S2\\Thesis\\SHAP + RFR or PySR or NN\\capstone2025-shiels-TIMES\\.venv\\Lib\\site-packages\\pysr\\sr.py:1873: UserWarning: Note: Setting `random_state` without also setting `deterministic=True` and `parallelism='serial'` will result in non-deterministic searches.\n",
      "  warnings.warn(\n"
     ]
    },
    {
     "name": "stdout",
     "output_type": "stream",
     "text": [
      "Saved plots for PySRRegressor to: c:\\Users\\Sophie\\OneDrive - National University of Ireland, Galway\\Y1S2\\Thesis\\SHAP + RFR or PySR or NN\\capstone2025-shiels-TIMES\\shap_outputs_25Sep2025\\PySRRegressor\\2C_SSP2_DA30\\GConsumption\\small\n",
      "Training RandomForestRegressor...\n",
      "Saved plots for RandomForestRegressor to: c:\\Users\\Sophie\\OneDrive - National University of Ireland, Galway\\Y1S2\\Thesis\\SHAP + RFR or PySR or NN\\capstone2025-shiels-TIMES\\shap_outputs_25Sep2025\\RandomForestRegressor\\2C_SSP2_DA30\\GConsumption\\small\n",
      "Training MLPRegressor...\n"
     ]
    },
    {
     "name": "stderr",
     "output_type": "stream",
     "text": [
      "c:\\Users\\Sophie\\OneDrive - National University of Ireland, Galway\\Y1S2\\Thesis\\SHAP + RFR or PySR or NN\\capstone2025-shiels-TIMES\\.venv\\Lib\\site-packages\\sklearn\\neural_network\\_multilayer_perceptron.py:780: ConvergenceWarning: Stochastic Optimizer: Maximum iterations (300) reached and the optimization hasn't converged yet.\n",
      "  warnings.warn(\n"
     ]
    },
    {
     "name": "stdout",
     "output_type": "stream",
     "text": [
      "Saved plots for MLPRegressor to: c:\\Users\\Sophie\\OneDrive - National University of Ireland, Galway\\Y1S2\\Thesis\\SHAP + RFR or PySR or NN\\capstone2025-shiels-TIMES\\shap_outputs_25Sep2025\\MLPRegressor\\2C_SSP2_DA30\\GConsumption\\small\n",
      "Scenario 2C_SSP2_DA30, xvar code all xvars ['GDP', 'Pop', 'Other_ESD_Drivers', 'SDR', 'Elast_ESD_Driver', 'Elast_ESD_Price', 'CO2_Storage_Poten', 'Wind_Poten', 'Solar_Poten', 'Biomass_Poten', 'Oil_Gas_Poten', 'Solar_PV_Inv_Cost', 'Wind_Inv_Cost', 'Bioenergy_CCS_Inv_Cost', 'Other_Tech_Cost', 'Forcing', 'Land_Sinks', 'Clim_Sens'], target GConsumption\n",
      "\n",
      "Training Magpie Regressor...\n",
      "n_vars 18\n"
     ]
    },
    {
     "name": "stderr",
     "output_type": "stream",
     "text": [
      "C:\\Users\\Sophie\\OneDrive - National University of Ireland, Galway\\Y1S2\\Thesis\\SHAP + RFR or PySR or NN\\capstone2025-shiels-TIMES\\Magpie\\src\\Magpie\\fitness.py:72: OptimizeWarning: Covariance of the parameters could not be estimated\n",
      "  popt, pcov = curve_fit(p, X, y, p0=C_init)\n",
      "C:\\Users\\Sophie\\AppData\\Local\\Temp\\ipykernel_21592\\393379015.py:105: UserWarning: Tight layout not applied. tight_layout cannot make Axes width small enough to accommodate all Axes decorations\n",
      "  plt.tight_layout()\n",
      "C:\\Users\\Sophie\\AppData\\Local\\Temp\\ipykernel_21592\\393379015.py:107: UserWarning: Tight layout not applied. tight_layout cannot make Axes width small enough to accommodate all Axes decorations\n",
      "  fig.tight_layout()\n"
     ]
    },
    {
     "name": "stdout",
     "output_type": "stream",
     "text": [
      "Saved plots for Magpie Regressor to: c:\\Users\\Sophie\\OneDrive - National University of Ireland, Galway\\Y1S2\\Thesis\\SHAP + RFR or PySR or NN\\capstone2025-shiels-TIMES\\shap_outputs_25Sep2025\\Magpie Regressor\\2C_SSP2_DA30\\GConsumption\\all\n",
      "Training PySRRegressor...\n"
     ]
    },
    {
     "name": "stderr",
     "output_type": "stream",
     "text": [
      "c:\\Users\\Sophie\\OneDrive - National University of Ireland, Galway\\Y1S2\\Thesis\\SHAP + RFR or PySR or NN\\capstone2025-shiels-TIMES\\.venv\\Lib\\site-packages\\pysr\\sr.py:2811: UserWarning: Note: it looks like you are running in Jupyter. The progress bar will be turned off.\n",
      "  warnings.warn(\n",
      "c:\\Users\\Sophie\\OneDrive - National University of Ireland, Galway\\Y1S2\\Thesis\\SHAP + RFR or PySR or NN\\capstone2025-shiels-TIMES\\.venv\\Lib\\site-packages\\pysr\\sr.py:1873: UserWarning: Note: Setting `random_state` without also setting `deterministic=True` and `parallelism='serial'` will result in non-deterministic searches.\n",
      "  warnings.warn(\n",
      "PermutationExplainer explainer: 162it [00:21,  4.27it/s]                         \n",
      "C:\\Users\\Sophie\\AppData\\Local\\Temp\\ipykernel_21592\\393379015.py:105: UserWarning: Tight layout not applied. tight_layout cannot make Axes width small enough to accommodate all Axes decorations\n",
      "  plt.tight_layout()\n",
      "C:\\Users\\Sophie\\AppData\\Local\\Temp\\ipykernel_21592\\393379015.py:107: UserWarning: Tight layout not applied. tight_layout cannot make Axes width small enough to accommodate all Axes decorations\n",
      "  fig.tight_layout()\n"
     ]
    },
    {
     "name": "stdout",
     "output_type": "stream",
     "text": [
      "Saved plots for PySRRegressor to: c:\\Users\\Sophie\\OneDrive - National University of Ireland, Galway\\Y1S2\\Thesis\\SHAP + RFR or PySR or NN\\capstone2025-shiels-TIMES\\shap_outputs_25Sep2025\\PySRRegressor\\2C_SSP2_DA30\\GConsumption\\all\n",
      "Training RandomForestRegressor...\n"
     ]
    },
    {
     "name": "stderr",
     "output_type": "stream",
     "text": [
      "PermutationExplainer explainer: 162it [00:51,  2.56it/s]                         \n",
      "C:\\Users\\Sophie\\AppData\\Local\\Temp\\ipykernel_21592\\393379015.py:105: UserWarning: Tight layout not applied. tight_layout cannot make Axes width small enough to accommodate all Axes decorations\n",
      "  plt.tight_layout()\n",
      "C:\\Users\\Sophie\\AppData\\Local\\Temp\\ipykernel_21592\\393379015.py:107: UserWarning: Tight layout not applied. tight_layout cannot make Axes width small enough to accommodate all Axes decorations\n",
      "  fig.tight_layout()\n"
     ]
    },
    {
     "name": "stdout",
     "output_type": "stream",
     "text": [
      "Saved plots for RandomForestRegressor to: c:\\Users\\Sophie\\OneDrive - National University of Ireland, Galway\\Y1S2\\Thesis\\SHAP + RFR or PySR or NN\\capstone2025-shiels-TIMES\\shap_outputs_25Sep2025\\RandomForestRegressor\\2C_SSP2_DA30\\GConsumption\\all\n",
      "Training MLPRegressor...\n"
     ]
    },
    {
     "name": "stderr",
     "output_type": "stream",
     "text": [
      "PermutationExplainer explainer: 162it [00:10,  1.03it/s]                         \n",
      "C:\\Users\\Sophie\\AppData\\Local\\Temp\\ipykernel_21592\\393379015.py:105: UserWarning: Tight layout not applied. tight_layout cannot make Axes width small enough to accommodate all Axes decorations\n",
      "  plt.tight_layout()\n",
      "C:\\Users\\Sophie\\AppData\\Local\\Temp\\ipykernel_21592\\393379015.py:107: UserWarning: Tight layout not applied. tight_layout cannot make Axes width small enough to accommodate all Axes decorations\n",
      "  fig.tight_layout()\n"
     ]
    },
    {
     "name": "stdout",
     "output_type": "stream",
     "text": [
      "Saved plots for MLPRegressor to: c:\\Users\\Sophie\\OneDrive - National University of Ireland, Galway\\Y1S2\\Thesis\\SHAP + RFR or PySR or NN\\capstone2025-shiels-TIMES\\shap_outputs_25Sep2025\\MLPRegressor\\2C_SSP2_DA30\\GConsumption\\all\n",
      "Scenario ALL, xvar code small_inc_enc xvars ['Temp_Limit', 'Delay', 'SDR', 'Clim_Sens', 'Pop', 'GDP'], target GConsumption\n",
      "\n",
      "Training Magpie Regressor...\n",
      "n_vars 6\n"
     ]
    },
    {
     "name": "stderr",
     "output_type": "stream",
     "text": [
      "C:\\Users\\Sophie\\OneDrive - National University of Ireland, Galway\\Y1S2\\Thesis\\SHAP + RFR or PySR or NN\\capstone2025-shiels-TIMES\\Magpie\\src\\Magpie\\fitness.py:72: OptimizeWarning: Covariance of the parameters could not be estimated\n",
      "  popt, pcov = curve_fit(p, X, y, p0=C_init)\n"
     ]
    },
    {
     "name": "stdout",
     "output_type": "stream",
     "text": [
      "Saved plots for Magpie Regressor to: c:\\Users\\Sophie\\OneDrive - National University of Ireland, Galway\\Y1S2\\Thesis\\SHAP + RFR or PySR or NN\\capstone2025-shiels-TIMES\\shap_outputs_25Sep2025\\Magpie Regressor\\ALL\\GConsumption\\small_inc_enc\n",
      "Training PySRRegressor...\n"
     ]
    },
    {
     "name": "stderr",
     "output_type": "stream",
     "text": [
      "c:\\Users\\Sophie\\OneDrive - National University of Ireland, Galway\\Y1S2\\Thesis\\SHAP + RFR or PySR or NN\\capstone2025-shiels-TIMES\\.venv\\Lib\\site-packages\\pysr\\sr.py:2811: UserWarning: Note: it looks like you are running in Jupyter. The progress bar will be turned off.\n",
      "  warnings.warn(\n",
      "c:\\Users\\Sophie\\OneDrive - National University of Ireland, Galway\\Y1S2\\Thesis\\SHAP + RFR or PySR or NN\\capstone2025-shiels-TIMES\\.venv\\Lib\\site-packages\\pysr\\sr.py:1873: UserWarning: Note: Setting `random_state` without also setting `deterministic=True` and `parallelism='serial'` will result in non-deterministic searches.\n",
      "  warnings.warn(\n"
     ]
    },
    {
     "name": "stdout",
     "output_type": "stream",
     "text": [
      "Saved plots for PySRRegressor to: c:\\Users\\Sophie\\OneDrive - National University of Ireland, Galway\\Y1S2\\Thesis\\SHAP + RFR or PySR or NN\\capstone2025-shiels-TIMES\\shap_outputs_25Sep2025\\PySRRegressor\\ALL\\GConsumption\\small_inc_enc\n",
      "Training RandomForestRegressor...\n"
     ]
    },
    {
     "name": "stderr",
     "output_type": "stream",
     "text": [
      "ExactExplainer explainer: 642it [00:41, 11.72it/s]                         \n"
     ]
    },
    {
     "name": "stdout",
     "output_type": "stream",
     "text": [
      "Saved plots for RandomForestRegressor to: c:\\Users\\Sophie\\OneDrive - National University of Ireland, Galway\\Y1S2\\Thesis\\SHAP + RFR or PySR or NN\\capstone2025-shiels-TIMES\\shap_outputs_25Sep2025\\RandomForestRegressor\\ALL\\GConsumption\\small_inc_enc\n",
      "Training MLPRegressor...\n"
     ]
    },
    {
     "name": "stderr",
     "output_type": "stream",
     "text": [
      "c:\\Users\\Sophie\\OneDrive - National University of Ireland, Galway\\Y1S2\\Thesis\\SHAP + RFR or PySR or NN\\capstone2025-shiels-TIMES\\.venv\\Lib\\site-packages\\sklearn\\neural_network\\_multilayer_perceptron.py:780: ConvergenceWarning: Stochastic Optimizer: Maximum iterations (300) reached and the optimization hasn't converged yet.\n",
      "  warnings.warn(\n"
     ]
    },
    {
     "name": "stdout",
     "output_type": "stream",
     "text": [
      "Saved plots for MLPRegressor to: c:\\Users\\Sophie\\OneDrive - National University of Ireland, Galway\\Y1S2\\Thesis\\SHAP + RFR or PySR or NN\\capstone2025-shiels-TIMES\\shap_outputs_25Sep2025\\MLPRegressor\\ALL\\GConsumption\\small_inc_enc\n",
      "Scenario ALL, xvar code all_inc_enc xvars ['Temp_Limit', 'Delay', 'GDP', 'Pop', 'Other_ESD_Drivers', 'SDR', 'Elast_ESD_Driver', 'Elast_ESD_Price', 'CO2_Storage_Poten', 'Wind_Poten', 'Solar_Poten', 'Biomass_Poten', 'Oil_Gas_Poten', 'Solar_PV_Inv_Cost', 'Wind_Inv_Cost', 'Bioenergy_CCS_Inv_Cost', 'Other_Tech_Cost', 'Forcing', 'Land_Sinks', 'Clim_Sens'], target GConsumption\n",
      "\n",
      "Training Magpie Regressor...\n",
      "n_vars 20\n"
     ]
    },
    {
     "name": "stderr",
     "output_type": "stream",
     "text": [
      "C:\\Users\\Sophie\\OneDrive - National University of Ireland, Galway\\Y1S2\\Thesis\\SHAP + RFR or PySR or NN\\capstone2025-shiels-TIMES\\Magpie\\src\\Magpie\\fitness.py:72: OptimizeWarning: Covariance of the parameters could not be estimated\n",
      "  popt, pcov = curve_fit(p, X, y, p0=C_init)\n",
      "C:\\Users\\Sophie\\AppData\\Local\\Temp\\ipykernel_21592\\393379015.py:105: UserWarning: Tight layout not applied. tight_layout cannot make Axes width small enough to accommodate all Axes decorations\n",
      "  plt.tight_layout()\n",
      "C:\\Users\\Sophie\\AppData\\Local\\Temp\\ipykernel_21592\\393379015.py:107: UserWarning: Tight layout not applied. tight_layout cannot make Axes width small enough to accommodate all Axes decorations\n",
      "  fig.tight_layout()\n"
     ]
    },
    {
     "name": "stdout",
     "output_type": "stream",
     "text": [
      "Saved plots for Magpie Regressor to: c:\\Users\\Sophie\\OneDrive - National University of Ireland, Galway\\Y1S2\\Thesis\\SHAP + RFR or PySR or NN\\capstone2025-shiels-TIMES\\shap_outputs_25Sep2025\\Magpie Regressor\\ALL\\GConsumption\\all_inc_enc\n",
      "Training PySRRegressor...\n"
     ]
    },
    {
     "name": "stderr",
     "output_type": "stream",
     "text": [
      "c:\\Users\\Sophie\\OneDrive - National University of Ireland, Galway\\Y1S2\\Thesis\\SHAP + RFR or PySR or NN\\capstone2025-shiels-TIMES\\.venv\\Lib\\site-packages\\pysr\\sr.py:2811: UserWarning: Note: it looks like you are running in Jupyter. The progress bar will be turned off.\n",
      "  warnings.warn(\n",
      "c:\\Users\\Sophie\\OneDrive - National University of Ireland, Galway\\Y1S2\\Thesis\\SHAP + RFR or PySR or NN\\capstone2025-shiels-TIMES\\.venv\\Lib\\site-packages\\pysr\\sr.py:1873: UserWarning: Note: Setting `random_state` without also setting `deterministic=True` and `parallelism='serial'` will result in non-deterministic searches.\n",
      "  warnings.warn(\n",
      "PermutationExplainer explainer: 642it [01:17,  7.31it/s]                         \n",
      "C:\\Users\\Sophie\\AppData\\Local\\Temp\\ipykernel_21592\\393379015.py:105: UserWarning: Tight layout not applied. tight_layout cannot make Axes width small enough to accommodate all Axes decorations\n",
      "  plt.tight_layout()\n",
      "C:\\Users\\Sophie\\AppData\\Local\\Temp\\ipykernel_21592\\393379015.py:107: UserWarning: Tight layout not applied. tight_layout cannot make Axes width small enough to accommodate all Axes decorations\n",
      "  fig.tight_layout()\n"
     ]
    },
    {
     "name": "stdout",
     "output_type": "stream",
     "text": [
      "Saved plots for PySRRegressor to: c:\\Users\\Sophie\\OneDrive - National University of Ireland, Galway\\Y1S2\\Thesis\\SHAP + RFR or PySR or NN\\capstone2025-shiels-TIMES\\shap_outputs_25Sep2025\\PySRRegressor\\ALL\\GConsumption\\all_inc_enc\n",
      "Training RandomForestRegressor...\n"
     ]
    },
    {
     "name": "stderr",
     "output_type": "stream",
     "text": [
      "PermutationExplainer explainer: 642it [03:14,  3.17it/s]                         \n",
      "C:\\Users\\Sophie\\AppData\\Local\\Temp\\ipykernel_21592\\393379015.py:105: UserWarning: Tight layout not applied. tight_layout cannot make Axes width small enough to accommodate all Axes decorations\n",
      "  plt.tight_layout()\n",
      "C:\\Users\\Sophie\\AppData\\Local\\Temp\\ipykernel_21592\\393379015.py:107: UserWarning: Tight layout not applied. tight_layout cannot make Axes width small enough to accommodate all Axes decorations\n",
      "  fig.tight_layout()\n"
     ]
    },
    {
     "name": "stdout",
     "output_type": "stream",
     "text": [
      "Saved plots for RandomForestRegressor to: c:\\Users\\Sophie\\OneDrive - National University of Ireland, Galway\\Y1S2\\Thesis\\SHAP + RFR or PySR or NN\\capstone2025-shiels-TIMES\\shap_outputs_25Sep2025\\RandomForestRegressor\\ALL\\GConsumption\\all_inc_enc\n",
      "Training MLPRegressor...\n"
     ]
    },
    {
     "name": "stderr",
     "output_type": "stream",
     "text": [
      "c:\\Users\\Sophie\\OneDrive - National University of Ireland, Galway\\Y1S2\\Thesis\\SHAP + RFR or PySR or NN\\capstone2025-shiels-TIMES\\.venv\\Lib\\site-packages\\sklearn\\neural_network\\_multilayer_perceptron.py:780: ConvergenceWarning: Stochastic Optimizer: Maximum iterations (300) reached and the optimization hasn't converged yet.\n",
      "  warnings.warn(\n",
      "PermutationExplainer explainer: 642it [00:40, 11.92it/s]                         \n",
      "C:\\Users\\Sophie\\AppData\\Local\\Temp\\ipykernel_21592\\393379015.py:105: UserWarning: Tight layout not applied. tight_layout cannot make Axes width small enough to accommodate all Axes decorations\n",
      "  plt.tight_layout()\n",
      "C:\\Users\\Sophie\\AppData\\Local\\Temp\\ipykernel_21592\\393379015.py:107: UserWarning: Tight layout not applied. tight_layout cannot make Axes width small enough to accommodate all Axes decorations\n",
      "  fig.tight_layout()\n"
     ]
    },
    {
     "name": "stdout",
     "output_type": "stream",
     "text": [
      "Saved plots for MLPRegressor to: c:\\Users\\Sophie\\OneDrive - National University of Ireland, Galway\\Y1S2\\Thesis\\SHAP + RFR or PySR or NN\\capstone2025-shiels-TIMES\\shap_outputs_25Sep2025\\MLPRegressor\\ALL\\GConsumption\\all_inc_enc\n",
      "Scenario BASE_SSP2, xvar code small xvars ['SDR', 'Clim_Sens', 'Pop', 'GDP'], target GCost\n",
      "\n",
      "Training Magpie Regressor...\n",
      "n_vars 4\n"
     ]
    },
    {
     "name": "stderr",
     "output_type": "stream",
     "text": [
      "C:\\Users\\Sophie\\OneDrive - National University of Ireland, Galway\\Y1S2\\Thesis\\SHAP + RFR or PySR or NN\\capstone2025-shiels-TIMES\\Magpie\\src\\Magpie\\fitness.py:72: OptimizeWarning: Covariance of the parameters could not be estimated\n",
      "  popt, pcov = curve_fit(p, X, y, p0=C_init)\n"
     ]
    },
    {
     "name": "stdout",
     "output_type": "stream",
     "text": [
      "Saved plots for Magpie Regressor to: c:\\Users\\Sophie\\OneDrive - National University of Ireland, Galway\\Y1S2\\Thesis\\SHAP + RFR or PySR or NN\\capstone2025-shiels-TIMES\\shap_outputs_25Sep2025\\Magpie Regressor\\BASE_SSP2\\GCost\\small\n",
      "Training PySRRegressor...\n"
     ]
    },
    {
     "name": "stderr",
     "output_type": "stream",
     "text": [
      "c:\\Users\\Sophie\\OneDrive - National University of Ireland, Galway\\Y1S2\\Thesis\\SHAP + RFR or PySR or NN\\capstone2025-shiels-TIMES\\.venv\\Lib\\site-packages\\pysr\\sr.py:2811: UserWarning: Note: it looks like you are running in Jupyter. The progress bar will be turned off.\n",
      "  warnings.warn(\n",
      "c:\\Users\\Sophie\\OneDrive - National University of Ireland, Galway\\Y1S2\\Thesis\\SHAP + RFR or PySR or NN\\capstone2025-shiels-TIMES\\.venv\\Lib\\site-packages\\pysr\\sr.py:1873: UserWarning: Note: Setting `random_state` without also setting `deterministic=True` and `parallelism='serial'` will result in non-deterministic searches.\n",
      "  warnings.warn(\n"
     ]
    },
    {
     "name": "stdout",
     "output_type": "stream",
     "text": [
      "Saved plots for PySRRegressor to: c:\\Users\\Sophie\\OneDrive - National University of Ireland, Galway\\Y1S2\\Thesis\\SHAP + RFR or PySR or NN\\capstone2025-shiels-TIMES\\shap_outputs_25Sep2025\\PySRRegressor\\BASE_SSP2\\GCost\\small\n",
      "Training RandomForestRegressor...\n",
      "Saved plots for RandomForestRegressor to: c:\\Users\\Sophie\\OneDrive - National University of Ireland, Galway\\Y1S2\\Thesis\\SHAP + RFR or PySR or NN\\capstone2025-shiels-TIMES\\shap_outputs_25Sep2025\\RandomForestRegressor\\BASE_SSP2\\GCost\\small\n",
      "Training MLPRegressor...\n"
     ]
    },
    {
     "name": "stderr",
     "output_type": "stream",
     "text": [
      "c:\\Users\\Sophie\\OneDrive - National University of Ireland, Galway\\Y1S2\\Thesis\\SHAP + RFR or PySR or NN\\capstone2025-shiels-TIMES\\.venv\\Lib\\site-packages\\sklearn\\neural_network\\_multilayer_perceptron.py:780: ConvergenceWarning: Stochastic Optimizer: Maximum iterations (300) reached and the optimization hasn't converged yet.\n",
      "  warnings.warn(\n"
     ]
    },
    {
     "name": "stdout",
     "output_type": "stream",
     "text": [
      "Saved plots for MLPRegressor to: c:\\Users\\Sophie\\OneDrive - National University of Ireland, Galway\\Y1S2\\Thesis\\SHAP + RFR or PySR or NN\\capstone2025-shiels-TIMES\\shap_outputs_25Sep2025\\MLPRegressor\\BASE_SSP2\\GCost\\small\n",
      "Scenario BASE_SSP2, xvar code all xvars ['GDP', 'Pop', 'Other_ESD_Drivers', 'SDR', 'Elast_ESD_Driver', 'Elast_ESD_Price', 'CO2_Storage_Poten', 'Wind_Poten', 'Solar_Poten', 'Biomass_Poten', 'Oil_Gas_Poten', 'Solar_PV_Inv_Cost', 'Wind_Inv_Cost', 'Bioenergy_CCS_Inv_Cost', 'Other_Tech_Cost', 'Forcing', 'Land_Sinks', 'Clim_Sens'], target GCost\n",
      "\n",
      "Training Magpie Regressor...\n",
      "n_vars 18\n"
     ]
    },
    {
     "name": "stderr",
     "output_type": "stream",
     "text": [
      "C:\\Users\\Sophie\\OneDrive - National University of Ireland, Galway\\Y1S2\\Thesis\\SHAP + RFR or PySR or NN\\capstone2025-shiels-TIMES\\Magpie\\src\\Magpie\\fitness.py:72: OptimizeWarning: Covariance of the parameters could not be estimated\n",
      "  popt, pcov = curve_fit(p, X, y, p0=C_init)\n",
      "C:\\Users\\Sophie\\AppData\\Local\\Temp\\ipykernel_21592\\393379015.py:105: UserWarning: Tight layout not applied. tight_layout cannot make Axes width small enough to accommodate all Axes decorations\n",
      "  plt.tight_layout()\n",
      "C:\\Users\\Sophie\\AppData\\Local\\Temp\\ipykernel_21592\\393379015.py:107: UserWarning: Tight layout not applied. tight_layout cannot make Axes width small enough to accommodate all Axes decorations\n",
      "  fig.tight_layout()\n"
     ]
    },
    {
     "name": "stdout",
     "output_type": "stream",
     "text": [
      "Saved plots for Magpie Regressor to: c:\\Users\\Sophie\\OneDrive - National University of Ireland, Galway\\Y1S2\\Thesis\\SHAP + RFR or PySR or NN\\capstone2025-shiels-TIMES\\shap_outputs_25Sep2025\\Magpie Regressor\\BASE_SSP2\\GCost\\all\n",
      "Training PySRRegressor...\n"
     ]
    },
    {
     "name": "stderr",
     "output_type": "stream",
     "text": [
      "c:\\Users\\Sophie\\OneDrive - National University of Ireland, Galway\\Y1S2\\Thesis\\SHAP + RFR or PySR or NN\\capstone2025-shiels-TIMES\\.venv\\Lib\\site-packages\\pysr\\sr.py:2811: UserWarning: Note: it looks like you are running in Jupyter. The progress bar will be turned off.\n",
      "  warnings.warn(\n",
      "c:\\Users\\Sophie\\OneDrive - National University of Ireland, Galway\\Y1S2\\Thesis\\SHAP + RFR or PySR or NN\\capstone2025-shiels-TIMES\\.venv\\Lib\\site-packages\\pysr\\sr.py:1873: UserWarning: Note: Setting `random_state` without also setting `deterministic=True` and `parallelism='serial'` will result in non-deterministic searches.\n",
      "  warnings.warn(\n",
      "PermutationExplainer explainer: 162it [00:20,  4.17it/s]                         \n",
      "C:\\Users\\Sophie\\AppData\\Local\\Temp\\ipykernel_21592\\393379015.py:105: UserWarning: Tight layout not applied. tight_layout cannot make Axes width small enough to accommodate all Axes decorations\n",
      "  plt.tight_layout()\n",
      "C:\\Users\\Sophie\\AppData\\Local\\Temp\\ipykernel_21592\\393379015.py:107: UserWarning: Tight layout not applied. tight_layout cannot make Axes width small enough to accommodate all Axes decorations\n",
      "  fig.tight_layout()\n"
     ]
    },
    {
     "name": "stdout",
     "output_type": "stream",
     "text": [
      "Saved plots for PySRRegressor to: c:\\Users\\Sophie\\OneDrive - National University of Ireland, Galway\\Y1S2\\Thesis\\SHAP + RFR or PySR or NN\\capstone2025-shiels-TIMES\\shap_outputs_25Sep2025\\PySRRegressor\\BASE_SSP2\\GCost\\all\n",
      "Training RandomForestRegressor...\n"
     ]
    },
    {
     "name": "stderr",
     "output_type": "stream",
     "text": [
      "PermutationExplainer explainer: 162it [00:49,  2.61it/s]                         \n",
      "C:\\Users\\Sophie\\AppData\\Local\\Temp\\ipykernel_21592\\393379015.py:105: UserWarning: Tight layout not applied. tight_layout cannot make Axes width small enough to accommodate all Axes decorations\n",
      "  plt.tight_layout()\n",
      "C:\\Users\\Sophie\\AppData\\Local\\Temp\\ipykernel_21592\\393379015.py:107: UserWarning: Tight layout not applied. tight_layout cannot make Axes width small enough to accommodate all Axes decorations\n",
      "  fig.tight_layout()\n"
     ]
    },
    {
     "name": "stdout",
     "output_type": "stream",
     "text": [
      "Saved plots for RandomForestRegressor to: c:\\Users\\Sophie\\OneDrive - National University of Ireland, Galway\\Y1S2\\Thesis\\SHAP + RFR or PySR or NN\\capstone2025-shiels-TIMES\\shap_outputs_25Sep2025\\RandomForestRegressor\\BASE_SSP2\\GCost\\all\n",
      "Training MLPRegressor...\n"
     ]
    },
    {
     "name": "stderr",
     "output_type": "stream",
     "text": [
      "PermutationExplainer explainer: 162it [00:10,  1.17s/it]                         \n",
      "C:\\Users\\Sophie\\AppData\\Local\\Temp\\ipykernel_21592\\393379015.py:105: UserWarning: Tight layout not applied. tight_layout cannot make Axes width small enough to accommodate all Axes decorations\n",
      "  plt.tight_layout()\n",
      "C:\\Users\\Sophie\\AppData\\Local\\Temp\\ipykernel_21592\\393379015.py:107: UserWarning: Tight layout not applied. tight_layout cannot make Axes width small enough to accommodate all Axes decorations\n",
      "  fig.tight_layout()\n"
     ]
    },
    {
     "name": "stdout",
     "output_type": "stream",
     "text": [
      "Saved plots for MLPRegressor to: c:\\Users\\Sophie\\OneDrive - National University of Ireland, Galway\\Y1S2\\Thesis\\SHAP + RFR or PySR or NN\\capstone2025-shiels-TIMES\\shap_outputs_25Sep2025\\MLPRegressor\\BASE_SSP2\\GCost\\all\n",
      "Scenario 1p5c_OS_SSP2, xvar code small xvars ['SDR', 'Clim_Sens', 'Pop', 'GDP'], target GCost\n",
      "\n",
      "Training Magpie Regressor...\n",
      "n_vars 4\n"
     ]
    },
    {
     "name": "stderr",
     "output_type": "stream",
     "text": [
      "C:\\Users\\Sophie\\OneDrive - National University of Ireland, Galway\\Y1S2\\Thesis\\SHAP + RFR or PySR or NN\\capstone2025-shiels-TIMES\\Magpie\\src\\Magpie\\fitness.py:72: OptimizeWarning: Covariance of the parameters could not be estimated\n",
      "  popt, pcov = curve_fit(p, X, y, p0=C_init)\n"
     ]
    },
    {
     "name": "stdout",
     "output_type": "stream",
     "text": [
      "Saved plots for Magpie Regressor to: c:\\Users\\Sophie\\OneDrive - National University of Ireland, Galway\\Y1S2\\Thesis\\SHAP + RFR or PySR or NN\\capstone2025-shiels-TIMES\\shap_outputs_25Sep2025\\Magpie Regressor\\1p5c_OS_SSP2\\GCost\\small\n",
      "Training PySRRegressor...\n"
     ]
    },
    {
     "name": "stderr",
     "output_type": "stream",
     "text": [
      "c:\\Users\\Sophie\\OneDrive - National University of Ireland, Galway\\Y1S2\\Thesis\\SHAP + RFR or PySR or NN\\capstone2025-shiels-TIMES\\.venv\\Lib\\site-packages\\pysr\\sr.py:2811: UserWarning: Note: it looks like you are running in Jupyter. The progress bar will be turned off.\n",
      "  warnings.warn(\n",
      "c:\\Users\\Sophie\\OneDrive - National University of Ireland, Galway\\Y1S2\\Thesis\\SHAP + RFR or PySR or NN\\capstone2025-shiels-TIMES\\.venv\\Lib\\site-packages\\pysr\\sr.py:1873: UserWarning: Note: Setting `random_state` without also setting `deterministic=True` and `parallelism='serial'` will result in non-deterministic searches.\n",
      "  warnings.warn(\n"
     ]
    },
    {
     "name": "stdout",
     "output_type": "stream",
     "text": [
      "Saved plots for PySRRegressor to: c:\\Users\\Sophie\\OneDrive - National University of Ireland, Galway\\Y1S2\\Thesis\\SHAP + RFR or PySR or NN\\capstone2025-shiels-TIMES\\shap_outputs_25Sep2025\\PySRRegressor\\1p5c_OS_SSP2\\GCost\\small\n",
      "Training RandomForestRegressor...\n",
      "Saved plots for RandomForestRegressor to: c:\\Users\\Sophie\\OneDrive - National University of Ireland, Galway\\Y1S2\\Thesis\\SHAP + RFR or PySR or NN\\capstone2025-shiels-TIMES\\shap_outputs_25Sep2025\\RandomForestRegressor\\1p5c_OS_SSP2\\GCost\\small\n",
      "Training MLPRegressor...\n"
     ]
    },
    {
     "name": "stderr",
     "output_type": "stream",
     "text": [
      "c:\\Users\\Sophie\\OneDrive - National University of Ireland, Galway\\Y1S2\\Thesis\\SHAP + RFR or PySR or NN\\capstone2025-shiels-TIMES\\.venv\\Lib\\site-packages\\sklearn\\neural_network\\_multilayer_perceptron.py:780: ConvergenceWarning: Stochastic Optimizer: Maximum iterations (300) reached and the optimization hasn't converged yet.\n",
      "  warnings.warn(\n"
     ]
    },
    {
     "name": "stdout",
     "output_type": "stream",
     "text": [
      "Saved plots for MLPRegressor to: c:\\Users\\Sophie\\OneDrive - National University of Ireland, Galway\\Y1S2\\Thesis\\SHAP + RFR or PySR or NN\\capstone2025-shiels-TIMES\\shap_outputs_25Sep2025\\MLPRegressor\\1p5c_OS_SSP2\\GCost\\small\n",
      "Scenario 1p5c_OS_SSP2, xvar code all xvars ['GDP', 'Pop', 'Other_ESD_Drivers', 'SDR', 'Elast_ESD_Driver', 'Elast_ESD_Price', 'CO2_Storage_Poten', 'Wind_Poten', 'Solar_Poten', 'Biomass_Poten', 'Oil_Gas_Poten', 'Solar_PV_Inv_Cost', 'Wind_Inv_Cost', 'Bioenergy_CCS_Inv_Cost', 'Other_Tech_Cost', 'Forcing', 'Land_Sinks', 'Clim_Sens'], target GCost\n",
      "\n",
      "Training Magpie Regressor...\n",
      "n_vars 18\n"
     ]
    },
    {
     "name": "stderr",
     "output_type": "stream",
     "text": [
      "C:\\Users\\Sophie\\OneDrive - National University of Ireland, Galway\\Y1S2\\Thesis\\SHAP + RFR or PySR or NN\\capstone2025-shiels-TIMES\\Magpie\\src\\Magpie\\fitness.py:72: OptimizeWarning: Covariance of the parameters could not be estimated\n",
      "  popt, pcov = curve_fit(p, X, y, p0=C_init)\n",
      "C:\\Users\\Sophie\\AppData\\Local\\Temp\\ipykernel_21592\\393379015.py:105: UserWarning: Tight layout not applied. tight_layout cannot make Axes width small enough to accommodate all Axes decorations\n",
      "  plt.tight_layout()\n",
      "C:\\Users\\Sophie\\AppData\\Local\\Temp\\ipykernel_21592\\393379015.py:107: UserWarning: Tight layout not applied. tight_layout cannot make Axes width small enough to accommodate all Axes decorations\n",
      "  fig.tight_layout()\n"
     ]
    },
    {
     "name": "stdout",
     "output_type": "stream",
     "text": [
      "Saved plots for Magpie Regressor to: c:\\Users\\Sophie\\OneDrive - National University of Ireland, Galway\\Y1S2\\Thesis\\SHAP + RFR or PySR or NN\\capstone2025-shiels-TIMES\\shap_outputs_25Sep2025\\Magpie Regressor\\1p5c_OS_SSP2\\GCost\\all\n",
      "Training PySRRegressor...\n"
     ]
    },
    {
     "name": "stderr",
     "output_type": "stream",
     "text": [
      "c:\\Users\\Sophie\\OneDrive - National University of Ireland, Galway\\Y1S2\\Thesis\\SHAP + RFR or PySR or NN\\capstone2025-shiels-TIMES\\.venv\\Lib\\site-packages\\pysr\\sr.py:2811: UserWarning: Note: it looks like you are running in Jupyter. The progress bar will be turned off.\n",
      "  warnings.warn(\n",
      "c:\\Users\\Sophie\\OneDrive - National University of Ireland, Galway\\Y1S2\\Thesis\\SHAP + RFR or PySR or NN\\capstone2025-shiels-TIMES\\.venv\\Lib\\site-packages\\pysr\\sr.py:1873: UserWarning: Note: Setting `random_state` without also setting `deterministic=True` and `parallelism='serial'` will result in non-deterministic searches.\n",
      "  warnings.warn(\n",
      "PermutationExplainer explainer: 162it [00:22,  3.99it/s]                         \n",
      "C:\\Users\\Sophie\\AppData\\Local\\Temp\\ipykernel_21592\\393379015.py:105: UserWarning: Tight layout not applied. tight_layout cannot make Axes width small enough to accommodate all Axes decorations\n",
      "  plt.tight_layout()\n",
      "C:\\Users\\Sophie\\AppData\\Local\\Temp\\ipykernel_21592\\393379015.py:107: UserWarning: Tight layout not applied. tight_layout cannot make Axes width small enough to accommodate all Axes decorations\n",
      "  fig.tight_layout()\n"
     ]
    },
    {
     "name": "stdout",
     "output_type": "stream",
     "text": [
      "Saved plots for PySRRegressor to: c:\\Users\\Sophie\\OneDrive - National University of Ireland, Galway\\Y1S2\\Thesis\\SHAP + RFR or PySR or NN\\capstone2025-shiels-TIMES\\shap_outputs_25Sep2025\\PySRRegressor\\1p5c_OS_SSP2\\GCost\\all\n",
      "Training RandomForestRegressor...\n"
     ]
    },
    {
     "name": "stderr",
     "output_type": "stream",
     "text": [
      "PermutationExplainer explainer: 162it [00:48,  2.70it/s]                         \n",
      "C:\\Users\\Sophie\\AppData\\Local\\Temp\\ipykernel_21592\\393379015.py:105: UserWarning: Tight layout not applied. tight_layout cannot make Axes width small enough to accommodate all Axes decorations\n",
      "  plt.tight_layout()\n",
      "C:\\Users\\Sophie\\AppData\\Local\\Temp\\ipykernel_21592\\393379015.py:107: UserWarning: Tight layout not applied. tight_layout cannot make Axes width small enough to accommodate all Axes decorations\n",
      "  fig.tight_layout()\n"
     ]
    },
    {
     "name": "stdout",
     "output_type": "stream",
     "text": [
      "Saved plots for RandomForestRegressor to: c:\\Users\\Sophie\\OneDrive - National University of Ireland, Galway\\Y1S2\\Thesis\\SHAP + RFR or PySR or NN\\capstone2025-shiels-TIMES\\shap_outputs_25Sep2025\\RandomForestRegressor\\1p5c_OS_SSP2\\GCost\\all\n",
      "Training MLPRegressor...\n"
     ]
    },
    {
     "name": "stderr",
     "output_type": "stream",
     "text": [
      "PermutationExplainer explainer: 162it [00:10,  1.22it/s]                         \n",
      "C:\\Users\\Sophie\\AppData\\Local\\Temp\\ipykernel_21592\\393379015.py:105: UserWarning: Tight layout not applied. tight_layout cannot make Axes width small enough to accommodate all Axes decorations\n",
      "  plt.tight_layout()\n",
      "C:\\Users\\Sophie\\AppData\\Local\\Temp\\ipykernel_21592\\393379015.py:107: UserWarning: Tight layout not applied. tight_layout cannot make Axes width small enough to accommodate all Axes decorations\n",
      "  fig.tight_layout()\n"
     ]
    },
    {
     "name": "stdout",
     "output_type": "stream",
     "text": [
      "Saved plots for MLPRegressor to: c:\\Users\\Sophie\\OneDrive - National University of Ireland, Galway\\Y1S2\\Thesis\\SHAP + RFR or PySR or NN\\capstone2025-shiels-TIMES\\shap_outputs_25Sep2025\\MLPRegressor\\1p5c_OS_SSP2\\GCost\\all\n",
      "Scenario 2C_SSP2, xvar code small xvars ['SDR', 'Clim_Sens', 'Pop', 'GDP'], target GCost\n",
      "\n",
      "Training Magpie Regressor...\n",
      "n_vars 4\n"
     ]
    },
    {
     "name": "stderr",
     "output_type": "stream",
     "text": [
      "C:\\Users\\Sophie\\OneDrive - National University of Ireland, Galway\\Y1S2\\Thesis\\SHAP + RFR or PySR or NN\\capstone2025-shiels-TIMES\\Magpie\\src\\Magpie\\fitness.py:72: OptimizeWarning: Covariance of the parameters could not be estimated\n",
      "  popt, pcov = curve_fit(p, X, y, p0=C_init)\n"
     ]
    },
    {
     "name": "stdout",
     "output_type": "stream",
     "text": [
      "Saved plots for Magpie Regressor to: c:\\Users\\Sophie\\OneDrive - National University of Ireland, Galway\\Y1S2\\Thesis\\SHAP + RFR or PySR or NN\\capstone2025-shiels-TIMES\\shap_outputs_25Sep2025\\Magpie Regressor\\2C_SSP2\\GCost\\small\n",
      "Training PySRRegressor...\n"
     ]
    },
    {
     "name": "stderr",
     "output_type": "stream",
     "text": [
      "c:\\Users\\Sophie\\OneDrive - National University of Ireland, Galway\\Y1S2\\Thesis\\SHAP + RFR or PySR or NN\\capstone2025-shiels-TIMES\\.venv\\Lib\\site-packages\\pysr\\sr.py:2811: UserWarning: Note: it looks like you are running in Jupyter. The progress bar will be turned off.\n",
      "  warnings.warn(\n",
      "c:\\Users\\Sophie\\OneDrive - National University of Ireland, Galway\\Y1S2\\Thesis\\SHAP + RFR or PySR or NN\\capstone2025-shiels-TIMES\\.venv\\Lib\\site-packages\\pysr\\sr.py:1873: UserWarning: Note: Setting `random_state` without also setting `deterministic=True` and `parallelism='serial'` will result in non-deterministic searches.\n",
      "  warnings.warn(\n"
     ]
    },
    {
     "name": "stdout",
     "output_type": "stream",
     "text": [
      "Saved plots for PySRRegressor to: c:\\Users\\Sophie\\OneDrive - National University of Ireland, Galway\\Y1S2\\Thesis\\SHAP + RFR or PySR or NN\\capstone2025-shiels-TIMES\\shap_outputs_25Sep2025\\PySRRegressor\\2C_SSP2\\GCost\\small\n",
      "Training RandomForestRegressor...\n",
      "Saved plots for RandomForestRegressor to: c:\\Users\\Sophie\\OneDrive - National University of Ireland, Galway\\Y1S2\\Thesis\\SHAP + RFR or PySR or NN\\capstone2025-shiels-TIMES\\shap_outputs_25Sep2025\\RandomForestRegressor\\2C_SSP2\\GCost\\small\n",
      "Training MLPRegressor...\n"
     ]
    },
    {
     "name": "stderr",
     "output_type": "stream",
     "text": [
      "c:\\Users\\Sophie\\OneDrive - National University of Ireland, Galway\\Y1S2\\Thesis\\SHAP + RFR or PySR or NN\\capstone2025-shiels-TIMES\\.venv\\Lib\\site-packages\\sklearn\\neural_network\\_multilayer_perceptron.py:780: ConvergenceWarning: Stochastic Optimizer: Maximum iterations (300) reached and the optimization hasn't converged yet.\n",
      "  warnings.warn(\n"
     ]
    },
    {
     "name": "stdout",
     "output_type": "stream",
     "text": [
      "Saved plots for MLPRegressor to: c:\\Users\\Sophie\\OneDrive - National University of Ireland, Galway\\Y1S2\\Thesis\\SHAP + RFR or PySR or NN\\capstone2025-shiels-TIMES\\shap_outputs_25Sep2025\\MLPRegressor\\2C_SSP2\\GCost\\small\n",
      "Scenario 2C_SSP2, xvar code all xvars ['GDP', 'Pop', 'Other_ESD_Drivers', 'SDR', 'Elast_ESD_Driver', 'Elast_ESD_Price', 'CO2_Storage_Poten', 'Wind_Poten', 'Solar_Poten', 'Biomass_Poten', 'Oil_Gas_Poten', 'Solar_PV_Inv_Cost', 'Wind_Inv_Cost', 'Bioenergy_CCS_Inv_Cost', 'Other_Tech_Cost', 'Forcing', 'Land_Sinks', 'Clim_Sens'], target GCost\n",
      "\n",
      "Training Magpie Regressor...\n",
      "n_vars 18\n"
     ]
    },
    {
     "name": "stderr",
     "output_type": "stream",
     "text": [
      "C:\\Users\\Sophie\\OneDrive - National University of Ireland, Galway\\Y1S2\\Thesis\\SHAP + RFR or PySR or NN\\capstone2025-shiels-TIMES\\Magpie\\src\\Magpie\\fitness.py:72: OptimizeWarning: Covariance of the parameters could not be estimated\n",
      "  popt, pcov = curve_fit(p, X, y, p0=C_init)\n",
      "C:\\Users\\Sophie\\AppData\\Local\\Temp\\ipykernel_21592\\393379015.py:105: UserWarning: Tight layout not applied. tight_layout cannot make Axes width small enough to accommodate all Axes decorations\n",
      "  plt.tight_layout()\n",
      "C:\\Users\\Sophie\\AppData\\Local\\Temp\\ipykernel_21592\\393379015.py:107: UserWarning: Tight layout not applied. tight_layout cannot make Axes width small enough to accommodate all Axes decorations\n",
      "  fig.tight_layout()\n"
     ]
    },
    {
     "name": "stdout",
     "output_type": "stream",
     "text": [
      "Saved plots for Magpie Regressor to: c:\\Users\\Sophie\\OneDrive - National University of Ireland, Galway\\Y1S2\\Thesis\\SHAP + RFR or PySR or NN\\capstone2025-shiels-TIMES\\shap_outputs_25Sep2025\\Magpie Regressor\\2C_SSP2\\GCost\\all\n",
      "Training PySRRegressor...\n"
     ]
    },
    {
     "name": "stderr",
     "output_type": "stream",
     "text": [
      "c:\\Users\\Sophie\\OneDrive - National University of Ireland, Galway\\Y1S2\\Thesis\\SHAP + RFR or PySR or NN\\capstone2025-shiels-TIMES\\.venv\\Lib\\site-packages\\pysr\\sr.py:2811: UserWarning: Note: it looks like you are running in Jupyter. The progress bar will be turned off.\n",
      "  warnings.warn(\n",
      "c:\\Users\\Sophie\\OneDrive - National University of Ireland, Galway\\Y1S2\\Thesis\\SHAP + RFR or PySR or NN\\capstone2025-shiels-TIMES\\.venv\\Lib\\site-packages\\pysr\\sr.py:1873: UserWarning: Note: Setting `random_state` without also setting `deterministic=True` and `parallelism='serial'` will result in non-deterministic searches.\n",
      "  warnings.warn(\n",
      "PermutationExplainer explainer: 162it [00:23,  4.02it/s]                         \n",
      "C:\\Users\\Sophie\\AppData\\Local\\Temp\\ipykernel_21592\\393379015.py:105: UserWarning: Tight layout not applied. tight_layout cannot make Axes width small enough to accommodate all Axes decorations\n",
      "  plt.tight_layout()\n",
      "C:\\Users\\Sophie\\AppData\\Local\\Temp\\ipykernel_21592\\393379015.py:107: UserWarning: Tight layout not applied. tight_layout cannot make Axes width small enough to accommodate all Axes decorations\n",
      "  fig.tight_layout()\n"
     ]
    },
    {
     "name": "stdout",
     "output_type": "stream",
     "text": [
      "Saved plots for PySRRegressor to: c:\\Users\\Sophie\\OneDrive - National University of Ireland, Galway\\Y1S2\\Thesis\\SHAP + RFR or PySR or NN\\capstone2025-shiels-TIMES\\shap_outputs_25Sep2025\\PySRRegressor\\2C_SSP2\\GCost\\all\n",
      "Training RandomForestRegressor...\n"
     ]
    },
    {
     "name": "stderr",
     "output_type": "stream",
     "text": [
      "PermutationExplainer explainer: 162it [00:50,  2.60it/s]                         \n",
      "C:\\Users\\Sophie\\AppData\\Local\\Temp\\ipykernel_21592\\393379015.py:105: UserWarning: Tight layout not applied. tight_layout cannot make Axes width small enough to accommodate all Axes decorations\n",
      "  plt.tight_layout()\n",
      "C:\\Users\\Sophie\\AppData\\Local\\Temp\\ipykernel_21592\\393379015.py:107: UserWarning: Tight layout not applied. tight_layout cannot make Axes width small enough to accommodate all Axes decorations\n",
      "  fig.tight_layout()\n"
     ]
    },
    {
     "name": "stdout",
     "output_type": "stream",
     "text": [
      "Saved plots for RandomForestRegressor to: c:\\Users\\Sophie\\OneDrive - National University of Ireland, Galway\\Y1S2\\Thesis\\SHAP + RFR or PySR or NN\\capstone2025-shiels-TIMES\\shap_outputs_25Sep2025\\RandomForestRegressor\\2C_SSP2\\GCost\\all\n",
      "Training MLPRegressor...\n"
     ]
    },
    {
     "name": "stderr",
     "output_type": "stream",
     "text": [
      "PermutationExplainer explainer: 162it [00:11,  1.61it/s]                         \n",
      "C:\\Users\\Sophie\\AppData\\Local\\Temp\\ipykernel_21592\\393379015.py:105: UserWarning: Tight layout not applied. tight_layout cannot make Axes width small enough to accommodate all Axes decorations\n",
      "  plt.tight_layout()\n",
      "C:\\Users\\Sophie\\AppData\\Local\\Temp\\ipykernel_21592\\393379015.py:107: UserWarning: Tight layout not applied. tight_layout cannot make Axes width small enough to accommodate all Axes decorations\n",
      "  fig.tight_layout()\n"
     ]
    },
    {
     "name": "stdout",
     "output_type": "stream",
     "text": [
      "Saved plots for MLPRegressor to: c:\\Users\\Sophie\\OneDrive - National University of Ireland, Galway\\Y1S2\\Thesis\\SHAP + RFR or PySR or NN\\capstone2025-shiels-TIMES\\shap_outputs_25Sep2025\\MLPRegressor\\2C_SSP2\\GCost\\all\n",
      "Scenario 2C_SSP2_DA30, xvar code small xvars ['SDR', 'Clim_Sens', 'Pop', 'GDP'], target GCost\n",
      "\n",
      "Training Magpie Regressor...\n",
      "n_vars 4\n"
     ]
    },
    {
     "name": "stderr",
     "output_type": "stream",
     "text": [
      "C:\\Users\\Sophie\\OneDrive - National University of Ireland, Galway\\Y1S2\\Thesis\\SHAP + RFR or PySR or NN\\capstone2025-shiels-TIMES\\Magpie\\src\\Magpie\\fitness.py:72: OptimizeWarning: Covariance of the parameters could not be estimated\n",
      "  popt, pcov = curve_fit(p, X, y, p0=C_init)\n"
     ]
    },
    {
     "name": "stdout",
     "output_type": "stream",
     "text": [
      "Saved plots for Magpie Regressor to: c:\\Users\\Sophie\\OneDrive - National University of Ireland, Galway\\Y1S2\\Thesis\\SHAP + RFR or PySR or NN\\capstone2025-shiels-TIMES\\shap_outputs_25Sep2025\\Magpie Regressor\\2C_SSP2_DA30\\GCost\\small\n",
      "Training PySRRegressor...\n"
     ]
    },
    {
     "name": "stderr",
     "output_type": "stream",
     "text": [
      "c:\\Users\\Sophie\\OneDrive - National University of Ireland, Galway\\Y1S2\\Thesis\\SHAP + RFR or PySR or NN\\capstone2025-shiels-TIMES\\.venv\\Lib\\site-packages\\pysr\\sr.py:2811: UserWarning: Note: it looks like you are running in Jupyter. The progress bar will be turned off.\n",
      "  warnings.warn(\n",
      "c:\\Users\\Sophie\\OneDrive - National University of Ireland, Galway\\Y1S2\\Thesis\\SHAP + RFR or PySR or NN\\capstone2025-shiels-TIMES\\.venv\\Lib\\site-packages\\pysr\\sr.py:1873: UserWarning: Note: Setting `random_state` without also setting `deterministic=True` and `parallelism='serial'` will result in non-deterministic searches.\n",
      "  warnings.warn(\n"
     ]
    },
    {
     "name": "stdout",
     "output_type": "stream",
     "text": [
      "Saved plots for PySRRegressor to: c:\\Users\\Sophie\\OneDrive - National University of Ireland, Galway\\Y1S2\\Thesis\\SHAP + RFR or PySR or NN\\capstone2025-shiels-TIMES\\shap_outputs_25Sep2025\\PySRRegressor\\2C_SSP2_DA30\\GCost\\small\n",
      "Training RandomForestRegressor...\n",
      "Saved plots for RandomForestRegressor to: c:\\Users\\Sophie\\OneDrive - National University of Ireland, Galway\\Y1S2\\Thesis\\SHAP + RFR or PySR or NN\\capstone2025-shiels-TIMES\\shap_outputs_25Sep2025\\RandomForestRegressor\\2C_SSP2_DA30\\GCost\\small\n",
      "Training MLPRegressor...\n"
     ]
    },
    {
     "name": "stderr",
     "output_type": "stream",
     "text": [
      "c:\\Users\\Sophie\\OneDrive - National University of Ireland, Galway\\Y1S2\\Thesis\\SHAP + RFR or PySR or NN\\capstone2025-shiels-TIMES\\.venv\\Lib\\site-packages\\sklearn\\neural_network\\_multilayer_perceptron.py:780: ConvergenceWarning: Stochastic Optimizer: Maximum iterations (300) reached and the optimization hasn't converged yet.\n",
      "  warnings.warn(\n"
     ]
    },
    {
     "name": "stdout",
     "output_type": "stream",
     "text": [
      "Saved plots for MLPRegressor to: c:\\Users\\Sophie\\OneDrive - National University of Ireland, Galway\\Y1S2\\Thesis\\SHAP + RFR or PySR or NN\\capstone2025-shiels-TIMES\\shap_outputs_25Sep2025\\MLPRegressor\\2C_SSP2_DA30\\GCost\\small\n",
      "Scenario 2C_SSP2_DA30, xvar code all xvars ['GDP', 'Pop', 'Other_ESD_Drivers', 'SDR', 'Elast_ESD_Driver', 'Elast_ESD_Price', 'CO2_Storage_Poten', 'Wind_Poten', 'Solar_Poten', 'Biomass_Poten', 'Oil_Gas_Poten', 'Solar_PV_Inv_Cost', 'Wind_Inv_Cost', 'Bioenergy_CCS_Inv_Cost', 'Other_Tech_Cost', 'Forcing', 'Land_Sinks', 'Clim_Sens'], target GCost\n",
      "\n",
      "Training Magpie Regressor...\n",
      "n_vars 18\n"
     ]
    },
    {
     "name": "stderr",
     "output_type": "stream",
     "text": [
      "C:\\Users\\Sophie\\OneDrive - National University of Ireland, Galway\\Y1S2\\Thesis\\SHAP + RFR or PySR or NN\\capstone2025-shiels-TIMES\\Magpie\\src\\Magpie\\fitness.py:72: OptimizeWarning: Covariance of the parameters could not be estimated\n",
      "  popt, pcov = curve_fit(p, X, y, p0=C_init)\n",
      "C:\\Users\\Sophie\\AppData\\Local\\Temp\\ipykernel_21592\\393379015.py:105: UserWarning: Tight layout not applied. tight_layout cannot make Axes width small enough to accommodate all Axes decorations\n",
      "  plt.tight_layout()\n",
      "C:\\Users\\Sophie\\AppData\\Local\\Temp\\ipykernel_21592\\393379015.py:107: UserWarning: Tight layout not applied. tight_layout cannot make Axes width small enough to accommodate all Axes decorations\n",
      "  fig.tight_layout()\n"
     ]
    },
    {
     "name": "stdout",
     "output_type": "stream",
     "text": [
      "Saved plots for Magpie Regressor to: c:\\Users\\Sophie\\OneDrive - National University of Ireland, Galway\\Y1S2\\Thesis\\SHAP + RFR or PySR or NN\\capstone2025-shiels-TIMES\\shap_outputs_25Sep2025\\Magpie Regressor\\2C_SSP2_DA30\\GCost\\all\n",
      "Training PySRRegressor...\n"
     ]
    },
    {
     "name": "stderr",
     "output_type": "stream",
     "text": [
      "c:\\Users\\Sophie\\OneDrive - National University of Ireland, Galway\\Y1S2\\Thesis\\SHAP + RFR or PySR or NN\\capstone2025-shiels-TIMES\\.venv\\Lib\\site-packages\\pysr\\sr.py:2811: UserWarning: Note: it looks like you are running in Jupyter. The progress bar will be turned off.\n",
      "  warnings.warn(\n",
      "c:\\Users\\Sophie\\OneDrive - National University of Ireland, Galway\\Y1S2\\Thesis\\SHAP + RFR or PySR or NN\\capstone2025-shiels-TIMES\\.venv\\Lib\\site-packages\\pysr\\sr.py:1873: UserWarning: Note: Setting `random_state` without also setting `deterministic=True` and `parallelism='serial'` will result in non-deterministic searches.\n",
      "  warnings.warn(\n",
      "PermutationExplainer explainer: 162it [00:22,  4.01it/s]                         \n",
      "C:\\Users\\Sophie\\AppData\\Local\\Temp\\ipykernel_21592\\393379015.py:105: UserWarning: Tight layout not applied. tight_layout cannot make Axes width small enough to accommodate all Axes decorations\n",
      "  plt.tight_layout()\n",
      "C:\\Users\\Sophie\\AppData\\Local\\Temp\\ipykernel_21592\\393379015.py:107: UserWarning: Tight layout not applied. tight_layout cannot make Axes width small enough to accommodate all Axes decorations\n",
      "  fig.tight_layout()\n"
     ]
    },
    {
     "name": "stdout",
     "output_type": "stream",
     "text": [
      "Saved plots for PySRRegressor to: c:\\Users\\Sophie\\OneDrive - National University of Ireland, Galway\\Y1S2\\Thesis\\SHAP + RFR or PySR or NN\\capstone2025-shiels-TIMES\\shap_outputs_25Sep2025\\PySRRegressor\\2C_SSP2_DA30\\GCost\\all\n",
      "Training RandomForestRegressor...\n"
     ]
    },
    {
     "name": "stderr",
     "output_type": "stream",
     "text": [
      "PermutationExplainer explainer: 162it [00:49,  2.67it/s]                         \n",
      "C:\\Users\\Sophie\\AppData\\Local\\Temp\\ipykernel_21592\\393379015.py:105: UserWarning: Tight layout not applied. tight_layout cannot make Axes width small enough to accommodate all Axes decorations\n",
      "  plt.tight_layout()\n",
      "C:\\Users\\Sophie\\AppData\\Local\\Temp\\ipykernel_21592\\393379015.py:107: UserWarning: Tight layout not applied. tight_layout cannot make Axes width small enough to accommodate all Axes decorations\n",
      "  fig.tight_layout()\n"
     ]
    },
    {
     "name": "stdout",
     "output_type": "stream",
     "text": [
      "Saved plots for RandomForestRegressor to: c:\\Users\\Sophie\\OneDrive - National University of Ireland, Galway\\Y1S2\\Thesis\\SHAP + RFR or PySR or NN\\capstone2025-shiels-TIMES\\shap_outputs_25Sep2025\\RandomForestRegressor\\2C_SSP2_DA30\\GCost\\all\n",
      "Training MLPRegressor...\n"
     ]
    },
    {
     "name": "stderr",
     "output_type": "stream",
     "text": [
      "PermutationExplainer explainer: 162it [00:10,  1.11it/s]                         \n",
      "C:\\Users\\Sophie\\AppData\\Local\\Temp\\ipykernel_21592\\393379015.py:105: UserWarning: Tight layout not applied. tight_layout cannot make Axes width small enough to accommodate all Axes decorations\n",
      "  plt.tight_layout()\n",
      "C:\\Users\\Sophie\\AppData\\Local\\Temp\\ipykernel_21592\\393379015.py:107: UserWarning: Tight layout not applied. tight_layout cannot make Axes width small enough to accommodate all Axes decorations\n",
      "  fig.tight_layout()\n"
     ]
    },
    {
     "name": "stdout",
     "output_type": "stream",
     "text": [
      "Saved plots for MLPRegressor to: c:\\Users\\Sophie\\OneDrive - National University of Ireland, Galway\\Y1S2\\Thesis\\SHAP + RFR or PySR or NN\\capstone2025-shiels-TIMES\\shap_outputs_25Sep2025\\MLPRegressor\\2C_SSP2_DA30\\GCost\\all\n",
      "Scenario ALL, xvar code small_inc_enc xvars ['Temp_Limit', 'Delay', 'SDR', 'Clim_Sens', 'Pop', 'GDP'], target GCost\n",
      "\n",
      "Training Magpie Regressor...\n",
      "n_vars 6\n"
     ]
    },
    {
     "name": "stderr",
     "output_type": "stream",
     "text": [
      "C:\\Users\\Sophie\\OneDrive - National University of Ireland, Galway\\Y1S2\\Thesis\\SHAP + RFR or PySR or NN\\capstone2025-shiels-TIMES\\Magpie\\src\\Magpie\\fitness.py:72: OptimizeWarning: Covariance of the parameters could not be estimated\n",
      "  popt, pcov = curve_fit(p, X, y, p0=C_init)\n"
     ]
    },
    {
     "name": "stdout",
     "output_type": "stream",
     "text": [
      "Saved plots for Magpie Regressor to: c:\\Users\\Sophie\\OneDrive - National University of Ireland, Galway\\Y1S2\\Thesis\\SHAP + RFR or PySR or NN\\capstone2025-shiels-TIMES\\shap_outputs_25Sep2025\\Magpie Regressor\\ALL\\GCost\\small_inc_enc\n",
      "Training PySRRegressor...\n"
     ]
    },
    {
     "name": "stderr",
     "output_type": "stream",
     "text": [
      "c:\\Users\\Sophie\\OneDrive - National University of Ireland, Galway\\Y1S2\\Thesis\\SHAP + RFR or PySR or NN\\capstone2025-shiels-TIMES\\.venv\\Lib\\site-packages\\pysr\\sr.py:2811: UserWarning: Note: it looks like you are running in Jupyter. The progress bar will be turned off.\n",
      "  warnings.warn(\n",
      "c:\\Users\\Sophie\\OneDrive - National University of Ireland, Galway\\Y1S2\\Thesis\\SHAP + RFR or PySR or NN\\capstone2025-shiels-TIMES\\.venv\\Lib\\site-packages\\pysr\\sr.py:1873: UserWarning: Note: Setting `random_state` without also setting `deterministic=True` and `parallelism='serial'` will result in non-deterministic searches.\n",
      "  warnings.warn(\n",
      "ExactExplainer explainer: 642it [00:10,  4.62it/s]                         \n"
     ]
    },
    {
     "name": "stdout",
     "output_type": "stream",
     "text": [
      "Saved plots for PySRRegressor to: c:\\Users\\Sophie\\OneDrive - National University of Ireland, Galway\\Y1S2\\Thesis\\SHAP + RFR or PySR or NN\\capstone2025-shiels-TIMES\\shap_outputs_25Sep2025\\PySRRegressor\\ALL\\GCost\\small_inc_enc\n",
      "Training RandomForestRegressor...\n"
     ]
    },
    {
     "name": "stderr",
     "output_type": "stream",
     "text": [
      "ExactExplainer explainer: 642it [00:39, 12.02it/s]                         \n"
     ]
    },
    {
     "name": "stdout",
     "output_type": "stream",
     "text": [
      "Saved plots for RandomForestRegressor to: c:\\Users\\Sophie\\OneDrive - National University of Ireland, Galway\\Y1S2\\Thesis\\SHAP + RFR or PySR or NN\\capstone2025-shiels-TIMES\\shap_outputs_25Sep2025\\RandomForestRegressor\\ALL\\GCost\\small_inc_enc\n",
      "Training MLPRegressor...\n"
     ]
    },
    {
     "name": "stderr",
     "output_type": "stream",
     "text": [
      "c:\\Users\\Sophie\\OneDrive - National University of Ireland, Galway\\Y1S2\\Thesis\\SHAP + RFR or PySR or NN\\capstone2025-shiels-TIMES\\.venv\\Lib\\site-packages\\sklearn\\neural_network\\_multilayer_perceptron.py:780: ConvergenceWarning: Stochastic Optimizer: Maximum iterations (300) reached and the optimization hasn't converged yet.\n",
      "  warnings.warn(\n"
     ]
    },
    {
     "name": "stdout",
     "output_type": "stream",
     "text": [
      "Saved plots for MLPRegressor to: c:\\Users\\Sophie\\OneDrive - National University of Ireland, Galway\\Y1S2\\Thesis\\SHAP + RFR or PySR or NN\\capstone2025-shiels-TIMES\\shap_outputs_25Sep2025\\MLPRegressor\\ALL\\GCost\\small_inc_enc\n",
      "Scenario ALL, xvar code all_inc_enc xvars ['Temp_Limit', 'Delay', 'GDP', 'Pop', 'Other_ESD_Drivers', 'SDR', 'Elast_ESD_Driver', 'Elast_ESD_Price', 'CO2_Storage_Poten', 'Wind_Poten', 'Solar_Poten', 'Biomass_Poten', 'Oil_Gas_Poten', 'Solar_PV_Inv_Cost', 'Wind_Inv_Cost', 'Bioenergy_CCS_Inv_Cost', 'Other_Tech_Cost', 'Forcing', 'Land_Sinks', 'Clim_Sens'], target GCost\n",
      "\n",
      "Training Magpie Regressor...\n",
      "n_vars 20\n"
     ]
    },
    {
     "name": "stderr",
     "output_type": "stream",
     "text": [
      "C:\\Users\\Sophie\\OneDrive - National University of Ireland, Galway\\Y1S2\\Thesis\\SHAP + RFR or PySR or NN\\capstone2025-shiels-TIMES\\Magpie\\src\\Magpie\\fitness.py:72: OptimizeWarning: Covariance of the parameters could not be estimated\n",
      "  popt, pcov = curve_fit(p, X, y, p0=C_init)\n",
      "C:\\Users\\Sophie\\AppData\\Local\\Temp\\ipykernel_21592\\393379015.py:105: UserWarning: Tight layout not applied. tight_layout cannot make Axes width small enough to accommodate all Axes decorations\n",
      "  plt.tight_layout()\n",
      "C:\\Users\\Sophie\\AppData\\Local\\Temp\\ipykernel_21592\\393379015.py:107: UserWarning: Tight layout not applied. tight_layout cannot make Axes width small enough to accommodate all Axes decorations\n",
      "  fig.tight_layout()\n"
     ]
    },
    {
     "name": "stdout",
     "output_type": "stream",
     "text": [
      "Saved plots for Magpie Regressor to: c:\\Users\\Sophie\\OneDrive - National University of Ireland, Galway\\Y1S2\\Thesis\\SHAP + RFR or PySR or NN\\capstone2025-shiels-TIMES\\shap_outputs_25Sep2025\\Magpie Regressor\\ALL\\GCost\\all_inc_enc\n",
      "Training PySRRegressor...\n"
     ]
    },
    {
     "name": "stderr",
     "output_type": "stream",
     "text": [
      "c:\\Users\\Sophie\\OneDrive - National University of Ireland, Galway\\Y1S2\\Thesis\\SHAP + RFR or PySR or NN\\capstone2025-shiels-TIMES\\.venv\\Lib\\site-packages\\pysr\\sr.py:2811: UserWarning: Note: it looks like you are running in Jupyter. The progress bar will be turned off.\n",
      "  warnings.warn(\n",
      "c:\\Users\\Sophie\\OneDrive - National University of Ireland, Galway\\Y1S2\\Thesis\\SHAP + RFR or PySR or NN\\capstone2025-shiels-TIMES\\.venv\\Lib\\site-packages\\pysr\\sr.py:1873: UserWarning: Note: Setting `random_state` without also setting `deterministic=True` and `parallelism='serial'` will result in non-deterministic searches.\n",
      "  warnings.warn(\n",
      "PermutationExplainer explainer: 642it [01:10,  7.91it/s]                         \n",
      "C:\\Users\\Sophie\\AppData\\Local\\Temp\\ipykernel_21592\\393379015.py:105: UserWarning: Tight layout not applied. tight_layout cannot make Axes width small enough to accommodate all Axes decorations\n",
      "  plt.tight_layout()\n",
      "C:\\Users\\Sophie\\AppData\\Local\\Temp\\ipykernel_21592\\393379015.py:107: UserWarning: Tight layout not applied. tight_layout cannot make Axes width small enough to accommodate all Axes decorations\n",
      "  fig.tight_layout()\n"
     ]
    },
    {
     "name": "stdout",
     "output_type": "stream",
     "text": [
      "Saved plots for PySRRegressor to: c:\\Users\\Sophie\\OneDrive - National University of Ireland, Galway\\Y1S2\\Thesis\\SHAP + RFR or PySR or NN\\capstone2025-shiels-TIMES\\shap_outputs_25Sep2025\\PySRRegressor\\ALL\\GCost\\all_inc_enc\n",
      "Training RandomForestRegressor...\n"
     ]
    },
    {
     "name": "stderr",
     "output_type": "stream",
     "text": [
      "PermutationExplainer explainer: 642it [03:12,  3.20it/s]                         \n",
      "C:\\Users\\Sophie\\AppData\\Local\\Temp\\ipykernel_21592\\393379015.py:105: UserWarning: Tight layout not applied. tight_layout cannot make Axes width small enough to accommodate all Axes decorations\n",
      "  plt.tight_layout()\n",
      "C:\\Users\\Sophie\\AppData\\Local\\Temp\\ipykernel_21592\\393379015.py:107: UserWarning: Tight layout not applied. tight_layout cannot make Axes width small enough to accommodate all Axes decorations\n",
      "  fig.tight_layout()\n"
     ]
    },
    {
     "name": "stdout",
     "output_type": "stream",
     "text": [
      "Saved plots for RandomForestRegressor to: c:\\Users\\Sophie\\OneDrive - National University of Ireland, Galway\\Y1S2\\Thesis\\SHAP + RFR or PySR or NN\\capstone2025-shiels-TIMES\\shap_outputs_25Sep2025\\RandomForestRegressor\\ALL\\GCost\\all_inc_enc\n",
      "Training MLPRegressor...\n"
     ]
    },
    {
     "name": "stderr",
     "output_type": "stream",
     "text": [
      "c:\\Users\\Sophie\\OneDrive - National University of Ireland, Galway\\Y1S2\\Thesis\\SHAP + RFR or PySR or NN\\capstone2025-shiels-TIMES\\.venv\\Lib\\site-packages\\sklearn\\neural_network\\_multilayer_perceptron.py:780: ConvergenceWarning: Stochastic Optimizer: Maximum iterations (300) reached and the optimization hasn't converged yet.\n",
      "  warnings.warn(\n",
      "PermutationExplainer explainer: 642it [00:40, 12.00it/s]                         \n",
      "C:\\Users\\Sophie\\AppData\\Local\\Temp\\ipykernel_21592\\393379015.py:105: UserWarning: Tight layout not applied. tight_layout cannot make Axes width small enough to accommodate all Axes decorations\n",
      "  plt.tight_layout()\n",
      "C:\\Users\\Sophie\\AppData\\Local\\Temp\\ipykernel_21592\\393379015.py:107: UserWarning: Tight layout not applied. tight_layout cannot make Axes width small enough to accommodate all Axes decorations\n",
      "  fig.tight_layout()\n"
     ]
    },
    {
     "name": "stdout",
     "output_type": "stream",
     "text": [
      "Saved plots for MLPRegressor to: c:\\Users\\Sophie\\OneDrive - National University of Ireland, Galway\\Y1S2\\Thesis\\SHAP + RFR or PySR or NN\\capstone2025-shiels-TIMES\\shap_outputs_25Sep2025\\MLPRegressor\\ALL\\GCost\\all_inc_enc\n"
     ]
    },
    {
     "data": {
      "text/plain": [
       "<Figure size 1000x600 with 0 Axes>"
      ]
     },
     "metadata": {},
     "output_type": "display_data"
    },
    {
     "data": {
      "text/plain": [
       "<Figure size 1000x600 with 0 Axes>"
      ]
     },
     "metadata": {},
     "output_type": "display_data"
    },
    {
     "data": {
      "text/plain": [
       "<Figure size 1000x600 with 0 Axes>"
      ]
     },
     "metadata": {},
     "output_type": "display_data"
    },
    {
     "data": {
      "text/plain": [
       "<Figure size 1000x600 with 0 Axes>"
      ]
     },
     "metadata": {},
     "output_type": "display_data"
    },
    {
     "data": {
      "text/plain": [
       "<Figure size 1000x600 with 0 Axes>"
      ]
     },
     "metadata": {},
     "output_type": "display_data"
    },
    {
     "data": {
      "text/plain": [
       "<Figure size 1000x600 with 0 Axes>"
      ]
     },
     "metadata": {},
     "output_type": "display_data"
    },
    {
     "data": {
      "text/plain": [
       "<Figure size 1000x600 with 0 Axes>"
      ]
     },
     "metadata": {},
     "output_type": "display_data"
    },
    {
     "data": {
      "text/plain": [
       "<Figure size 1000x600 with 0 Axes>"
      ]
     },
     "metadata": {},
     "output_type": "display_data"
    },
    {
     "data": {
      "text/plain": [
       "<Figure size 1000x600 with 0 Axes>"
      ]
     },
     "metadata": {},
     "output_type": "display_data"
    },
    {
     "data": {
      "text/plain": [
       "<Figure size 1000x600 with 0 Axes>"
      ]
     },
     "metadata": {},
     "output_type": "display_data"
    },
    {
     "data": {
      "text/plain": [
       "<Figure size 1000x600 with 0 Axes>"
      ]
     },
     "metadata": {},
     "output_type": "display_data"
    },
    {
     "data": {
      "text/plain": [
       "<Figure size 1000x600 with 0 Axes>"
      ]
     },
     "metadata": {},
     "output_type": "display_data"
    },
    {
     "data": {
      "text/plain": [
       "<Figure size 1000x600 with 0 Axes>"
      ]
     },
     "metadata": {},
     "output_type": "display_data"
    },
    {
     "data": {
      "text/plain": [
       "<Figure size 1000x600 with 0 Axes>"
      ]
     },
     "metadata": {},
     "output_type": "display_data"
    },
    {
     "data": {
      "text/plain": [
       "<Figure size 1000x600 with 0 Axes>"
      ]
     },
     "metadata": {},
     "output_type": "display_data"
    },
    {
     "data": {
      "text/plain": [
       "<Figure size 1000x600 with 0 Axes>"
      ]
     },
     "metadata": {},
     "output_type": "display_data"
    },
    {
     "data": {
      "text/plain": [
       "<Figure size 1000x600 with 0 Axes>"
      ]
     },
     "metadata": {},
     "output_type": "display_data"
    },
    {
     "data": {
      "text/plain": [
       "<Figure size 1000x600 with 0 Axes>"
      ]
     },
     "metadata": {},
     "output_type": "display_data"
    },
    {
     "data": {
      "text/plain": [
       "<Figure size 1000x600 with 0 Axes>"
      ]
     },
     "metadata": {},
     "output_type": "display_data"
    },
    {
     "data": {
      "text/plain": [
       "<Figure size 1000x600 with 0 Axes>"
      ]
     },
     "metadata": {},
     "output_type": "display_data"
    },
    {
     "data": {
      "text/plain": [
       "<Figure size 1000x600 with 0 Axes>"
      ]
     },
     "metadata": {},
     "output_type": "display_data"
    },
    {
     "data": {
      "text/plain": [
       "<Figure size 1000x600 with 0 Axes>"
      ]
     },
     "metadata": {},
     "output_type": "display_data"
    },
    {
     "data": {
      "text/plain": [
       "<Figure size 1000x600 with 0 Axes>"
      ]
     },
     "metadata": {},
     "output_type": "display_data"
    },
    {
     "data": {
      "text/plain": [
       "<Figure size 1000x600 with 0 Axes>"
      ]
     },
     "metadata": {},
     "output_type": "display_data"
    },
    {
     "data": {
      "text/plain": [
       "<Figure size 1000x600 with 0 Axes>"
      ]
     },
     "metadata": {},
     "output_type": "display_data"
    },
    {
     "data": {
      "text/plain": [
       "<Figure size 1000x600 with 0 Axes>"
      ]
     },
     "metadata": {},
     "output_type": "display_data"
    },
    {
     "data": {
      "text/plain": [
       "<Figure size 1000x600 with 0 Axes>"
      ]
     },
     "metadata": {},
     "output_type": "display_data"
    },
    {
     "data": {
      "text/plain": [
       "<Figure size 1000x600 with 0 Axes>"
      ]
     },
     "metadata": {},
     "output_type": "display_data"
    },
    {
     "data": {
      "text/plain": [
       "<Figure size 1000x600 with 0 Axes>"
      ]
     },
     "metadata": {},
     "output_type": "display_data"
    },
    {
     "data": {
      "text/plain": [
       "<Figure size 1000x600 with 0 Axes>"
      ]
     },
     "metadata": {},
     "output_type": "display_data"
    },
    {
     "data": {
      "text/plain": [
       "<Figure size 1000x600 with 0 Axes>"
      ]
     },
     "metadata": {},
     "output_type": "display_data"
    },
    {
     "data": {
      "text/plain": [
       "<Figure size 1000x600 with 0 Axes>"
      ]
     },
     "metadata": {},
     "output_type": "display_data"
    },
    {
     "data": {
      "text/plain": [
       "<Figure size 1000x600 with 0 Axes>"
      ]
     },
     "metadata": {},
     "output_type": "display_data"
    },
    {
     "data": {
      "text/plain": [
       "<Figure size 1000x600 with 0 Axes>"
      ]
     },
     "metadata": {},
     "output_type": "display_data"
    },
    {
     "data": {
      "text/plain": [
       "<Figure size 1000x600 with 0 Axes>"
      ]
     },
     "metadata": {},
     "output_type": "display_data"
    },
    {
     "data": {
      "text/plain": [
       "<Figure size 1000x600 with 0 Axes>"
      ]
     },
     "metadata": {},
     "output_type": "display_data"
    },
    {
     "data": {
      "text/plain": [
       "<Figure size 1000x600 with 0 Axes>"
      ]
     },
     "metadata": {},
     "output_type": "display_data"
    },
    {
     "data": {
      "text/plain": [
       "<Figure size 1000x600 with 0 Axes>"
      ]
     },
     "metadata": {},
     "output_type": "display_data"
    },
    {
     "data": {
      "text/plain": [
       "<Figure size 1000x600 with 0 Axes>"
      ]
     },
     "metadata": {},
     "output_type": "display_data"
    },
    {
     "data": {
      "text/plain": [
       "<Figure size 1000x600 with 0 Axes>"
      ]
     },
     "metadata": {},
     "output_type": "display_data"
    },
    {
     "data": {
      "text/plain": [
       "<Figure size 1000x600 with 0 Axes>"
      ]
     },
     "metadata": {},
     "output_type": "display_data"
    },
    {
     "data": {
      "text/plain": [
       "<Figure size 1000x600 with 0 Axes>"
      ]
     },
     "metadata": {},
     "output_type": "display_data"
    },
    {
     "data": {
      "text/plain": [
       "<Figure size 1000x600 with 0 Axes>"
      ]
     },
     "metadata": {},
     "output_type": "display_data"
    },
    {
     "data": {
      "text/plain": [
       "<Figure size 1000x600 with 0 Axes>"
      ]
     },
     "metadata": {},
     "output_type": "display_data"
    },
    {
     "data": {
      "text/plain": [
       "<Figure size 1000x600 with 0 Axes>"
      ]
     },
     "metadata": {},
     "output_type": "display_data"
    },
    {
     "data": {
      "text/plain": [
       "<Figure size 1000x600 with 0 Axes>"
      ]
     },
     "metadata": {},
     "output_type": "display_data"
    },
    {
     "data": {
      "text/plain": [
       "<Figure size 1000x600 with 0 Axes>"
      ]
     },
     "metadata": {},
     "output_type": "display_data"
    },
    {
     "data": {
      "text/plain": [
       "<Figure size 1000x600 with 0 Axes>"
      ]
     },
     "metadata": {},
     "output_type": "display_data"
    },
    {
     "data": {
      "text/plain": [
       "<Figure size 1000x600 with 0 Axes>"
      ]
     },
     "metadata": {},
     "output_type": "display_data"
    },
    {
     "data": {
      "text/plain": [
       "<Figure size 1000x600 with 0 Axes>"
      ]
     },
     "metadata": {},
     "output_type": "display_data"
    },
    {
     "data": {
      "text/plain": [
       "<Figure size 1000x600 with 0 Axes>"
      ]
     },
     "metadata": {},
     "output_type": "display_data"
    },
    {
     "data": {
      "text/plain": [
       "<Figure size 1000x600 with 0 Axes>"
      ]
     },
     "metadata": {},
     "output_type": "display_data"
    },
    {
     "data": {
      "text/plain": [
       "<Figure size 1000x600 with 0 Axes>"
      ]
     },
     "metadata": {},
     "output_type": "display_data"
    },
    {
     "data": {
      "text/plain": [
       "<Figure size 1000x600 with 0 Axes>"
      ]
     },
     "metadata": {},
     "output_type": "display_data"
    },
    {
     "data": {
      "text/plain": [
       "<Figure size 1000x600 with 0 Axes>"
      ]
     },
     "metadata": {},
     "output_type": "display_data"
    },
    {
     "data": {
      "text/plain": [
       "<Figure size 1000x600 with 0 Axes>"
      ]
     },
     "metadata": {},
     "output_type": "display_data"
    },
    {
     "data": {
      "text/plain": [
       "<Figure size 1000x600 with 0 Axes>"
      ]
     },
     "metadata": {},
     "output_type": "display_data"
    },
    {
     "data": {
      "text/plain": [
       "<Figure size 1000x600 with 0 Axes>"
      ]
     },
     "metadata": {},
     "output_type": "display_data"
    },
    {
     "data": {
      "text/plain": [
       "<Figure size 1000x600 with 0 Axes>"
      ]
     },
     "metadata": {},
     "output_type": "display_data"
    },
    {
     "data": {
      "text/plain": [
       "<Figure size 1000x600 with 0 Axes>"
      ]
     },
     "metadata": {},
     "output_type": "display_data"
    },
    {
     "data": {
      "text/plain": [
       "<Figure size 1000x600 with 0 Axes>"
      ]
     },
     "metadata": {},
     "output_type": "display_data"
    },
    {
     "data": {
      "text/plain": [
       "<Figure size 1000x600 with 0 Axes>"
      ]
     },
     "metadata": {},
     "output_type": "display_data"
    },
    {
     "data": {
      "text/plain": [
       "<Figure size 1000x600 with 0 Axes>"
      ]
     },
     "metadata": {},
     "output_type": "display_data"
    },
    {
     "data": {
      "text/plain": [
       "<Figure size 1000x600 with 0 Axes>"
      ]
     },
     "metadata": {},
     "output_type": "display_data"
    },
    {
     "data": {
      "text/plain": [
       "<Figure size 1000x600 with 0 Axes>"
      ]
     },
     "metadata": {},
     "output_type": "display_data"
    },
    {
     "data": {
      "text/plain": [
       "<Figure size 1000x600 with 0 Axes>"
      ]
     },
     "metadata": {},
     "output_type": "display_data"
    },
    {
     "data": {
      "text/plain": [
       "<Figure size 1000x600 with 0 Axes>"
      ]
     },
     "metadata": {},
     "output_type": "display_data"
    },
    {
     "data": {
      "text/plain": [
       "<Figure size 1000x600 with 0 Axes>"
      ]
     },
     "metadata": {},
     "output_type": "display_data"
    },
    {
     "data": {
      "text/plain": [
       "<Figure size 1000x600 with 0 Axes>"
      ]
     },
     "metadata": {},
     "output_type": "display_data"
    },
    {
     "data": {
      "text/plain": [
       "<Figure size 1000x600 with 0 Axes>"
      ]
     },
     "metadata": {},
     "output_type": "display_data"
    },
    {
     "data": {
      "text/plain": [
       "<Figure size 1000x600 with 0 Axes>"
      ]
     },
     "metadata": {},
     "output_type": "display_data"
    },
    {
     "data": {
      "text/plain": [
       "<Figure size 1000x600 with 0 Axes>"
      ]
     },
     "metadata": {},
     "output_type": "display_data"
    },
    {
     "data": {
      "text/plain": [
       "<Figure size 1000x600 with 0 Axes>"
      ]
     },
     "metadata": {},
     "output_type": "display_data"
    },
    {
     "data": {
      "text/plain": [
       "<Figure size 1000x600 with 0 Axes>"
      ]
     },
     "metadata": {},
     "output_type": "display_data"
    },
    {
     "data": {
      "text/plain": [
       "<Figure size 1000x600 with 0 Axes>"
      ]
     },
     "metadata": {},
     "output_type": "display_data"
    },
    {
     "data": {
      "text/plain": [
       "<Figure size 1000x600 with 0 Axes>"
      ]
     },
     "metadata": {},
     "output_type": "display_data"
    },
    {
     "data": {
      "text/plain": [
       "<Figure size 1000x600 with 0 Axes>"
      ]
     },
     "metadata": {},
     "output_type": "display_data"
    },
    {
     "data": {
      "text/plain": [
       "<Figure size 1000x600 with 0 Axes>"
      ]
     },
     "metadata": {},
     "output_type": "display_data"
    },
    {
     "data": {
      "text/plain": [
       "<Figure size 1000x600 with 0 Axes>"
      ]
     },
     "metadata": {},
     "output_type": "display_data"
    },
    {
     "data": {
      "text/plain": [
       "<Figure size 1000x600 with 0 Axes>"
      ]
     },
     "metadata": {},
     "output_type": "display_data"
    },
    {
     "data": {
      "text/plain": [
       "<Figure size 1000x600 with 0 Axes>"
      ]
     },
     "metadata": {},
     "output_type": "display_data"
    },
    {
     "data": {
      "text/plain": [
       "<Figure size 1000x600 with 0 Axes>"
      ]
     },
     "metadata": {},
     "output_type": "display_data"
    },
    {
     "data": {
      "text/plain": [
       "<Figure size 1000x600 with 0 Axes>"
      ]
     },
     "metadata": {},
     "output_type": "display_data"
    },
    {
     "data": {
      "text/plain": [
       "<Figure size 1000x600 with 0 Axes>"
      ]
     },
     "metadata": {},
     "output_type": "display_data"
    },
    {
     "data": {
      "text/plain": [
       "<Figure size 1000x600 with 0 Axes>"
      ]
     },
     "metadata": {},
     "output_type": "display_data"
    },
    {
     "data": {
      "text/plain": [
       "<Figure size 1000x600 with 0 Axes>"
      ]
     },
     "metadata": {},
     "output_type": "display_data"
    },
    {
     "data": {
      "text/plain": [
       "<Figure size 1000x600 with 0 Axes>"
      ]
     },
     "metadata": {},
     "output_type": "display_data"
    },
    {
     "data": {
      "text/plain": [
       "<Figure size 1000x600 with 0 Axes>"
      ]
     },
     "metadata": {},
     "output_type": "display_data"
    },
    {
     "data": {
      "text/plain": [
       "<Figure size 1000x600 with 0 Axes>"
      ]
     },
     "metadata": {},
     "output_type": "display_data"
    },
    {
     "data": {
      "text/plain": [
       "<Figure size 1000x600 with 0 Axes>"
      ]
     },
     "metadata": {},
     "output_type": "display_data"
    },
    {
     "data": {
      "text/plain": [
       "<Figure size 1000x600 with 0 Axes>"
      ]
     },
     "metadata": {},
     "output_type": "display_data"
    },
    {
     "data": {
      "text/plain": [
       "<Figure size 1000x600 with 0 Axes>"
      ]
     },
     "metadata": {},
     "output_type": "display_data"
    },
    {
     "data": {
      "text/plain": [
       "<Figure size 1000x600 with 0 Axes>"
      ]
     },
     "metadata": {},
     "output_type": "display_data"
    },
    {
     "data": {
      "text/plain": [
       "<Figure size 1000x600 with 0 Axes>"
      ]
     },
     "metadata": {},
     "output_type": "display_data"
    },
    {
     "data": {
      "text/plain": [
       "<Figure size 1000x600 with 0 Axes>"
      ]
     },
     "metadata": {},
     "output_type": "display_data"
    },
    {
     "data": {
      "text/plain": [
       "<Figure size 1000x600 with 0 Axes>"
      ]
     },
     "metadata": {},
     "output_type": "display_data"
    },
    {
     "data": {
      "text/plain": [
       "<Figure size 1000x600 with 0 Axes>"
      ]
     },
     "metadata": {},
     "output_type": "display_data"
    },
    {
     "data": {
      "text/plain": [
       "<Figure size 1000x600 with 0 Axes>"
      ]
     },
     "metadata": {},
     "output_type": "display_data"
    },
    {
     "data": {
      "text/plain": [
       "<Figure size 1000x600 with 0 Axes>"
      ]
     },
     "metadata": {},
     "output_type": "display_data"
    },
    {
     "data": {
      "text/plain": [
       "<Figure size 1000x600 with 0 Axes>"
      ]
     },
     "metadata": {},
     "output_type": "display_data"
    },
    {
     "data": {
      "text/plain": [
       "<Figure size 1000x600 with 0 Axes>"
      ]
     },
     "metadata": {},
     "output_type": "display_data"
    },
    {
     "data": {
      "text/plain": [
       "<Figure size 1000x600 with 0 Axes>"
      ]
     },
     "metadata": {},
     "output_type": "display_data"
    },
    {
     "data": {
      "text/plain": [
       "<Figure size 1000x600 with 0 Axes>"
      ]
     },
     "metadata": {},
     "output_type": "display_data"
    },
    {
     "data": {
      "text/plain": [
       "<Figure size 1000x600 with 0 Axes>"
      ]
     },
     "metadata": {},
     "output_type": "display_data"
    },
    {
     "data": {
      "text/plain": [
       "<Figure size 1000x600 with 0 Axes>"
      ]
     },
     "metadata": {},
     "output_type": "display_data"
    },
    {
     "data": {
      "text/plain": [
       "<Figure size 1000x600 with 0 Axes>"
      ]
     },
     "metadata": {},
     "output_type": "display_data"
    },
    {
     "data": {
      "text/plain": [
       "<Figure size 1000x600 with 0 Axes>"
      ]
     },
     "metadata": {},
     "output_type": "display_data"
    },
    {
     "data": {
      "text/plain": [
       "<Figure size 1000x600 with 0 Axes>"
      ]
     },
     "metadata": {},
     "output_type": "display_data"
    },
    {
     "data": {
      "text/plain": [
       "<Figure size 1000x600 with 0 Axes>"
      ]
     },
     "metadata": {},
     "output_type": "display_data"
    },
    {
     "data": {
      "text/plain": [
       "<Figure size 1000x600 with 0 Axes>"
      ]
     },
     "metadata": {},
     "output_type": "display_data"
    },
    {
     "data": {
      "text/plain": [
       "<Figure size 1000x600 with 0 Axes>"
      ]
     },
     "metadata": {},
     "output_type": "display_data"
    },
    {
     "data": {
      "text/plain": [
       "<Figure size 1000x600 with 0 Axes>"
      ]
     },
     "metadata": {},
     "output_type": "display_data"
    },
    {
     "data": {
      "text/plain": [
       "<Figure size 1000x600 with 0 Axes>"
      ]
     },
     "metadata": {},
     "output_type": "display_data"
    },
    {
     "data": {
      "text/plain": [
       "<Figure size 1000x600 with 0 Axes>"
      ]
     },
     "metadata": {},
     "output_type": "display_data"
    },
    {
     "data": {
      "text/plain": [
       "<Figure size 1000x600 with 0 Axes>"
      ]
     },
     "metadata": {},
     "output_type": "display_data"
    },
    {
     "data": {
      "text/plain": [
       "<Figure size 1000x600 with 0 Axes>"
      ]
     },
     "metadata": {},
     "output_type": "display_data"
    },
    {
     "data": {
      "text/plain": [
       "<Figure size 1000x600 with 0 Axes>"
      ]
     },
     "metadata": {},
     "output_type": "display_data"
    },
    {
     "data": {
      "text/plain": [
       "<Figure size 1000x600 with 0 Axes>"
      ]
     },
     "metadata": {},
     "output_type": "display_data"
    },
    {
     "data": {
      "text/plain": [
       "<Figure size 1000x600 with 0 Axes>"
      ]
     },
     "metadata": {},
     "output_type": "display_data"
    },
    {
     "data": {
      "text/plain": [
       "<Figure size 1000x600 with 0 Axes>"
      ]
     },
     "metadata": {},
     "output_type": "display_data"
    },
    {
     "data": {
      "text/plain": [
       "<Figure size 1000x600 with 0 Axes>"
      ]
     },
     "metadata": {},
     "output_type": "display_data"
    },
    {
     "data": {
      "text/plain": [
       "<Figure size 1000x600 with 0 Axes>"
      ]
     },
     "metadata": {},
     "output_type": "display_data"
    },
    {
     "data": {
      "text/plain": [
       "<Figure size 1000x600 with 0 Axes>"
      ]
     },
     "metadata": {},
     "output_type": "display_data"
    },
    {
     "data": {
      "text/plain": [
       "<Figure size 1000x600 with 0 Axes>"
      ]
     },
     "metadata": {},
     "output_type": "display_data"
    },
    {
     "data": {
      "text/plain": [
       "<Figure size 1000x600 with 0 Axes>"
      ]
     },
     "metadata": {},
     "output_type": "display_data"
    },
    {
     "data": {
      "text/plain": [
       "<Figure size 1000x600 with 0 Axes>"
      ]
     },
     "metadata": {},
     "output_type": "display_data"
    },
    {
     "data": {
      "text/plain": [
       "<Figure size 1000x600 with 0 Axes>"
      ]
     },
     "metadata": {},
     "output_type": "display_data"
    },
    {
     "data": {
      "text/plain": [
       "<Figure size 1000x600 with 0 Axes>"
      ]
     },
     "metadata": {},
     "output_type": "display_data"
    },
    {
     "data": {
      "text/plain": [
       "<Figure size 1000x600 with 0 Axes>"
      ]
     },
     "metadata": {},
     "output_type": "display_data"
    },
    {
     "data": {
      "text/plain": [
       "<Figure size 1000x600 with 0 Axes>"
      ]
     },
     "metadata": {},
     "output_type": "display_data"
    },
    {
     "data": {
      "text/plain": [
       "<Figure size 1000x600 with 0 Axes>"
      ]
     },
     "metadata": {},
     "output_type": "display_data"
    },
    {
     "data": {
      "text/plain": [
       "<Figure size 1000x600 with 0 Axes>"
      ]
     },
     "metadata": {},
     "output_type": "display_data"
    },
    {
     "data": {
      "text/plain": [
       "<Figure size 1000x600 with 0 Axes>"
      ]
     },
     "metadata": {},
     "output_type": "display_data"
    },
    {
     "data": {
      "text/plain": [
       "<Figure size 1000x600 with 0 Axes>"
      ]
     },
     "metadata": {},
     "output_type": "display_data"
    },
    {
     "data": {
      "text/plain": [
       "<Figure size 1000x600 with 0 Axes>"
      ]
     },
     "metadata": {},
     "output_type": "display_data"
    },
    {
     "data": {
      "text/plain": [
       "<Figure size 1000x600 with 0 Axes>"
      ]
     },
     "metadata": {},
     "output_type": "display_data"
    },
    {
     "data": {
      "text/plain": [
       "<Figure size 1000x600 with 0 Axes>"
      ]
     },
     "metadata": {},
     "output_type": "display_data"
    },
    {
     "data": {
      "text/plain": [
       "<Figure size 1000x600 with 0 Axes>"
      ]
     },
     "metadata": {},
     "output_type": "display_data"
    },
    {
     "data": {
      "text/plain": [
       "<Figure size 1000x600 with 0 Axes>"
      ]
     },
     "metadata": {},
     "output_type": "display_data"
    },
    {
     "data": {
      "text/plain": [
       "<Figure size 1000x600 with 0 Axes>"
      ]
     },
     "metadata": {},
     "output_type": "display_data"
    },
    {
     "data": {
      "text/plain": [
       "<Figure size 1000x600 with 0 Axes>"
      ]
     },
     "metadata": {},
     "output_type": "display_data"
    },
    {
     "data": {
      "text/plain": [
       "<Figure size 1000x600 with 0 Axes>"
      ]
     },
     "metadata": {},
     "output_type": "display_data"
    },
    {
     "data": {
      "text/plain": [
       "<Figure size 1000x600 with 0 Axes>"
      ]
     },
     "metadata": {},
     "output_type": "display_data"
    },
    {
     "data": {
      "text/plain": [
       "<Figure size 1000x600 with 0 Axes>"
      ]
     },
     "metadata": {},
     "output_type": "display_data"
    },
    {
     "data": {
      "text/plain": [
       "<Figure size 1000x600 with 0 Axes>"
      ]
     },
     "metadata": {},
     "output_type": "display_data"
    },
    {
     "data": {
      "text/plain": [
       "<Figure size 1000x600 with 0 Axes>"
      ]
     },
     "metadata": {},
     "output_type": "display_data"
    },
    {
     "data": {
      "text/plain": [
       "<Figure size 1000x600 with 0 Axes>"
      ]
     },
     "metadata": {},
     "output_type": "display_data"
    },
    {
     "data": {
      "text/plain": [
       "<Figure size 1000x600 with 0 Axes>"
      ]
     },
     "metadata": {},
     "output_type": "display_data"
    },
    {
     "data": {
      "text/plain": [
       "<Figure size 1000x600 with 0 Axes>"
      ]
     },
     "metadata": {},
     "output_type": "display_data"
    },
    {
     "data": {
      "text/plain": [
       "<Figure size 1000x600 with 0 Axes>"
      ]
     },
     "metadata": {},
     "output_type": "display_data"
    },
    {
     "data": {
      "text/plain": [
       "<Figure size 1000x600 with 0 Axes>"
      ]
     },
     "metadata": {},
     "output_type": "display_data"
    },
    {
     "data": {
      "text/plain": [
       "<Figure size 1000x600 with 0 Axes>"
      ]
     },
     "metadata": {},
     "output_type": "display_data"
    },
    {
     "data": {
      "text/plain": [
       "<Figure size 1000x600 with 0 Axes>"
      ]
     },
     "metadata": {},
     "output_type": "display_data"
    },
    {
     "data": {
      "text/plain": [
       "<Figure size 1000x600 with 0 Axes>"
      ]
     },
     "metadata": {},
     "output_type": "display_data"
    },
    {
     "data": {
      "text/plain": [
       "<Figure size 1000x600 with 0 Axes>"
      ]
     },
     "metadata": {},
     "output_type": "display_data"
    },
    {
     "data": {
      "text/plain": [
       "<Figure size 1000x600 with 0 Axes>"
      ]
     },
     "metadata": {},
     "output_type": "display_data"
    },
    {
     "data": {
      "text/plain": [
       "<Figure size 1000x600 with 0 Axes>"
      ]
     },
     "metadata": {},
     "output_type": "display_data"
    },
    {
     "data": {
      "text/plain": [
       "<Figure size 1000x600 with 0 Axes>"
      ]
     },
     "metadata": {},
     "output_type": "display_data"
    },
    {
     "data": {
      "text/plain": [
       "<Figure size 1000x600 with 0 Axes>"
      ]
     },
     "metadata": {},
     "output_type": "display_data"
    },
    {
     "data": {
      "text/plain": [
       "<Figure size 1000x600 with 0 Axes>"
      ]
     },
     "metadata": {},
     "output_type": "display_data"
    }
   ],
   "source": [
    "\n",
    "from sklearn.ensemble import RandomForestRegressor\n",
    "from sklearn.neural_network import MLPRegressor\n",
    "from pysr import PySRRegressor\n",
    "\n",
    "def run_everything(Xy):\n",
    "    results = []\n",
    "    for target in targets:\n",
    "        for scenario in scenarios:\n",
    "            if scenario == 'ALL':\n",
    "                Xy_sub = Xy\n",
    "            else: \n",
    "                Xy_sub = Xy[Xy['Scenario'] == scenario]\n",
    " \n",
    "    \n",
    "            for xvar_subset_code in xvar_subsets:\n",
    "                # for the 'ALL' scenario, run only if we have _inc_enc\n",
    "                if scenario == 'ALL' and (not \"_inc_enc\" in xvar_subset_code): continue\n",
    "                # for the non-ALL scenarios, run only if we DO NOT have _inc_enc\n",
    "                if scenario != 'ALL' and (\"_inc_enc\" in xvar_subset_code): continue\n",
    "\n",
    "                xvar_subset = xvar_subsets[xvar_subset_code]\n",
    "                X = Xy_sub[xvar_subset]\n",
    "                y = Xy_sub[target]\n",
    "                print(f'Scenario {scenario}, xvar code {xvar_subset_code} xvars {xvar_subset}, target {target}')\n",
    "                print(\"\")\n",
    "\n",
    "            #model instances\n",
    "                models = {\n",
    "                    'Magpie Regressor': MagpieRegressor(\n",
    "                        maxevals=500, \n",
    "                        initevals=100\n",
    "                    ),\n",
    "                    'PySRRegressor': PySRRegressor(\n",
    "                        niterations=40,  \n",
    "                        binary_operators=[\"+\", \"*\", \"-\", \"/\"],\n",
    "                        unary_operators=[\"cos\", \"exp\", \"sin\", \"log\"],\n",
    "                        random_state=42, \n",
    "                        verbosity = 0\n",
    "                    ),\n",
    "                    'RandomForestRegressor': RandomForestRegressor(\n",
    "                        n_estimators=50, \n",
    "                        random_state=42\n",
    "                       \n",
    "                    ),\n",
    "                    'MLPRegressor': MLPRegressor(\n",
    "                        hidden_layer_sizes=(100,), \n",
    "                        max_iter=300, \n",
    "                        random_state=42,\n",
    "                        early_stopping= True\n",
    "                    )\n",
    "                }\n",
    "                \n",
    "                X_train, X_test, y_train, y_test = train_test_split(X, y, test_size=0.2, random_state=42)\n",
    "\n",
    "                for model_name, model in models.items():  # to Iterate over key-value pairs\n",
    "                    print(f\"Training {model_name}...\")\n",
    "                    model.fit(X_train, y_train)\n",
    "                    \n",
    "                    # Selecting background data (100-200 samples)\n",
    "                    background = X_train.iloc[np.random.choice(X_train.shape[0], 100, replace=False)]\n",
    "\n",
    "                    # Initializing the explainer\n",
    "                    explainer = shap.Explainer(model.predict, background)\n",
    "\n",
    "                    # Computing SHAP values using entire X_test dataset\n",
    "                    shap_values = explainer(X_test)\n",
    "\n",
    "                    \n",
    "                    if model_name == 'PySRRegressor':\n",
    "                        try:\n",
    "                            best_equation = str(model.sympy())\n",
    "                        except:\n",
    "                            best_equation = \"Equation not available\"\n",
    "                    else:\n",
    "                        best_equation = f\"{model_name} (no symbolic equation)\"\n",
    "\n",
    "                    feature_names = X.columns.tolist()\n",
    "\n",
    "                    plots = ['bar', 'scatter', 'heatmap', 'beeswarm', 'violin', 'waterfall']\n",
    "                    for plot in plots:\n",
    "                        plt.figure(figsize=(10, 6))\n",
    "                        if plot == 'bar':\n",
    "                            shap.plots.bar(shap_values, max_display=10, show=False)\n",
    "                        elif plot == 'scatter':     \n",
    "                            shap.plots.scatter(shap_values, show=False)\n",
    "                        elif plot == 'heatmap':\n",
    "                            shap.plots.heatmap(shap_values, instance_order = shap_values.sum(1), show=False)\n",
    "                        elif plot == 'violin':\n",
    "                            shap.plots.violin(shap_values, show=False)\n",
    "                        elif plot == 'beeswarm':\n",
    "                            shap.plots.beeswarm(shap_values, show=False)\n",
    "                        elif plot == 'force':\n",
    "                            shap.plots.force(shap_values[0:100]) \n",
    "                        elif plot == 'waterfall':\n",
    "                            shap.plots.waterfall(shap_values[0], max_display=10, show=False)        \n",
    "                        \n",
    "                        plt.tight_layout()\n",
    "\n",
    "                        fig = plt.gcf() \n",
    "                        if plot == 'scatter':   \n",
    "                            for ax in fig.get_axes():\n",
    "                                ax.set_xlabel(ax.get_xlabel(), rotation=45, ha='right')\n",
    "                                ax.tick_params(axis='x', rotation=45)\n",
    "                        \n",
    "                        plt.tight_layout()\n",
    "                        fig.suptitle(f\"{plot} plot for Scenario: {scenario}, Target: {target}, Subset: {xvar_subset_code}\\n\\nModel: {model_name}\\n\\nBest Equation: {best_equation}\",fontsize=8, y=0.98)\n",
    "                        fig.tight_layout()\n",
    "                        fig.subplots_adjust(top=0.85)\n",
    "\n",
    "                        output_dir = f\"shap_outputs_25Sep2025/{model_name}/{scenario}/{target}/{xvar_subset_code}\"\n",
    "                        os.makedirs(output_dir, exist_ok=True)\n",
    "                        file_path = f\"{output_dir}/{plot}.pdf\"\n",
    "                        file_path1 = f\"{output_dir}/{plot}.jpg\"\n",
    "                        fig.savefig(file_path, bbox_inches='tight')\n",
    "                        fig.savefig(file_path1, bbox_inches='tight')\n",
    "                        #plt.show()\n",
    "                        plt.close(fig)\n",
    "\n",
    "                    print(f\"Saved plots for {model_name} to: {os.path.abspath(output_dir)}\")\n",
    "\n",
    "            \n",
    "run_everything(Xy)\n",
    "\n",
    "# Try get a force plot to work\n",
    "# Remember to update model name if model is changed\n"
   ]
  },
  {
   "cell_type": "code",
   "execution_count": null,
   "metadata": {},
   "outputs": [],
   "source": [
    "\n"
   ]
  },
  {
   "cell_type": "markdown",
   "metadata": {},
   "source": [
    "# Bar Plots\n",
    "The bar plot shows which features are most important to the model. It plots the absolute mean shap plot. each bar gives the absolute mean shap value of each feature. There is a shap value for each instance of each feature. The absolute value is taken and the mean is calculated. We take the absolute value as we do not want positive and negative values to offset eachother.\n",
    "Values that have made large positive or negative contributions will have a large shap value. These are the features that have made a significant contribution to the models predictions. This is a useful measure of feature importance. \n",
    "\n",
    "\n",
    "# Beeswarm plot\n",
    "This helps to visualise all shap values. On the Y-axis the values are grouped by all the features.The colour of the points is determined by the feature value. Higher values are red. On the X axis is the shap values. This can help to highlight important relationships. It shows which values have large positive or large negative values. The beeswarm plot can help understand the nature of relationships between feature variables - for example, in our beeswarm plot, for almost all variables, as the feature value increases, so does the shap values (except for wind_inv_cost)\n",
    "\n",
    "# Dependence plots \n",
    "Not completed yet\n",
    "\n",
    "# Violin Plot\n",
    "Gives the same insights as the beeswarm plot\n",
    "\n",
    "# Heatmap\n",
    "X-axis shows a tick for each instance of data\n",
    "Y-axis gives the model feature\n",
    "The line above each instance is coloured by the shap value for that feature. \n",
    "The f(x) line (the line at the top of the graph) gives the predicted y value for that instance. \n",
    "The faint grey line behind the f(x) plot is the baseline or expected value of the models predictions\n",
    "The bar on the right gives the mean shap values (these are the same as what we saw in the bar plot). \n",
    "The heatmap is a plot of every shap value, except we focus on shap values and groups of instances. \n",
    "By default the instances are ordered using a hierarchical clustering algorithm. optionally: We can change it to be ordered by the values of one of the features\n",
    "\n",
    "## Interpreting plots\n",
    "Scenario: BASE_SSP2\n",
    "    - This scenario means that there is no upper limit on temperature increase . There is also no delay as there is no action\n",
    "Target: GSupply\n",
    "Subset: All\n",
    "# Heatmap\n",
    "This plot only shows 161 instances\n",
    "'Elast_ESD_Driver' is given as the most influential feature in predicting GSupply. It seems to have both a strong positive and negative influence on the target variable\n",
    "\n",
    "# Violin plot\n",
    "Again, 'Elast_ESD_Driver' is the most influential in predicting 'GSupply' in both a positive and negative direction. Lower feature values correlate with lower 'Elast_ESD_Driver' values. The same can be said for 'GDP' and 'Other_ESD_Drivers'. \n",
    "\n",
    "# Scatter plot\n",
    "This is a dependence scatter plot. it shows the effect that a single feature has on the prediction. Each dot is a single prediction of GSupply. The X-axis is the value of the feature. \n",
    "The Y-axis is the shap value of the feature. This represents how much knowing that features value changes the output of the model for that samples prediction\n",
    "The light grey area in the background is a histogram showing the distribution of the data values. \n",
    "The histogram plots how many times a certain value appears for a feature in the dataset\n",
    "\n",
    "We can see that with an increase in SHAP values for GDP, Other_ESD_Drivers and Elast_ESD_Driver, there is an increase in GSupply. There is also a slightly negative trend in shap values for Oil_Gas_Poten and Wind_Inv_Cost as GSupply increases\n",
    "\n",
    "# Bar Plot\n",
    "The bar plot shows a similar story\n",
    "\n"
   ]
  },
  {
   "cell_type": "markdown",
   "metadata": {},
   "source": [
    "# Interpreting plots:\n",
    "Scenario: 2C_SSP2_DA30\n",
    "    This scenario means that there is a 2 degree celcius limit on temperature increase, with a 25 year delay action\n",
    "Target: GSupply\n",
    "Subset: All\n",
    "\n",
    "# Heatmap\n",
    "Clim_Sens is the most impactful feature on the model. Increase in Clim_Sens is associated with increase in GSupply.\n",
    "# Violin plot and beeswarm\n",
    "The more negative the shap value for Clim_sens leads to a more negative feature value.\n",
    "There is a larger number of Shap values in the negative range for Clim_Sens than in the positive range. \n",
    "The more positive the Shap value for SDR, the more negative the feature value\n",
    "# Bar Plot\n",
    "Shows that Clim_Sens has the greatest mean absolute shap value, followed by Elast_ESD_Driver, SRD and GDP\n",
    "# Scatter plot\n",
    "This shows that as the value of GDP, Elast_ESD_Driver and Clim_Sens increases, so does the SHAP value. And as SDR increases, the shap values decrease\n",
    "\n",
    "\n",
    "\n",
    "\n",
    "# Interpreting plots:\n",
    "Scenario: 2C_SSP2_DA30\n",
    "    This scenario means that there is a 2 degree celcius limit on temperature increase, with a 25 year delay action\n",
    "Target: GConsumption\n",
    "Subset: All\n",
    "\n",
    "# Heatmap\n",
    "Both Clim_Sens and Elast_ESD_Driver are closely tied as being most impactful to the prediction of GConsumption for the 2C_SSP2_DA30 scenario. There is no general pattern for \n",
    "# Violin plot and beeswarm\n",
    "# Bar Plot\n",
    "# Scatter plot"
   ]
  },
  {
   "cell_type": "markdown",
   "metadata": {},
   "source": [
    "# The Background data:\n",
    "The key behind shapley values is that the features act as a \"team\", and the prediction is fairly distributed among them. The algorithm computes what predictions different coalitions (subsets of features) would receive. Since most ML models require all data to be filled in, missing values are sampled from the background data. Different background datasets can make different shap interpretations. What ever we choose as the background dataset influences for which data points we get predictions, and therefore what the interpretation is. for example, if we choose the background data based on a certain feature, this feature will no longer explain variation. Analogy: Height is an influential factor on performance in playing basketball. But within the NBA, where most players are tall, height no longer explains differences in performance. This is similar to collider bias or selection bias. Whether it is a problem or not depends on the purpose of the analysis - the example given for this is when comparing a wine against only high alcohol wines.\n",
    "\n",
    "# shap.Explainer:\n",
    "- Uses Shapley values to explain any ML model or python function.\n",
    "- It is the primary explainer interface for the SHAP library. It takes any combo of model and masker and returns a callable subclass object that implements the particular estimation algorithm that was chosen.\n",
    "    - Masker: explainer takes 'masker' as a parameter. The function is used to 'mask' out hidden features of the form masked_args = masker(*model_args, mask=mask). Background data matrices can be passed instead of a function, and the matrix will be used for masking. This is a shortcut for standard masking.\n",
    "\n",
    "# Kernel Explainer:\n",
    "Kernel SHAP is a model agnostic explainer. It is a method that uses special weighted linear regression to compute the importance of each feature. The computed importance values are Shapley values adn also coefficients from a local linear regression.\n",
    "\n"
   ]
  },
  {
   "cell_type": "code",
   "execution_count": null,
   "metadata": {
    "ExecuteTime": {
     "end_time": "2025-06-25T10:27:34.053689400Z",
     "start_time": "2025-06-19T21:06:33.806993Z"
    }
   },
   "outputs": [
    {
     "ename": "NameError",
     "evalue": "name 'results' is not defined",
     "output_type": "error",
     "traceback": [
      "\u001b[31m---------------------------------------------------------------------------\u001b[39m",
      "\u001b[31mNameError\u001b[39m                                 Traceback (most recent call last)",
      "\u001b[36mCell\u001b[39m\u001b[36m \u001b[39m\u001b[32mIn[19]\u001b[39m\u001b[32m, line 4\u001b[39m\n\u001b[32m      2\u001b[39m \u001b[38;5;66;03m#results = run_everything(Xy, cv)\u001b[39;00m\n\u001b[32m      3\u001b[39m results_cols = [\u001b[33m'\u001b[39m\u001b[33mTarget\u001b[39m\u001b[33m'\u001b[39m, \u001b[33m'\u001b[39m\u001b[33mScenario\u001b[39m\u001b[33m'\u001b[39m, \u001b[33m'\u001b[39m\u001b[33mxvar_subset_code\u001b[39m\u001b[33m'\u001b[39m, \u001b[33m'\u001b[39m\u001b[33mRegression Model\u001b[39m\u001b[33m'\u001b[39m, \u001b[33m'\u001b[39m\u001b[33mFold\u001b[39m\u001b[33m'\u001b[39m, \u001b[33m'\u001b[39m\u001b[33mTrain Score\u001b[39m\u001b[33m'\u001b[39m, \u001b[33m'\u001b[39m\u001b[33mTest Score\u001b[39m\u001b[33m'\u001b[39m]\n\u001b[32m----> \u001b[39m\u001b[32m4\u001b[39m results_df = pd.DataFrame(\u001b[43mresults\u001b[49m, columns=results_cols)\n\u001b[32m      5\u001b[39m results_df[\u001b[33m'\u001b[39m\u001b[33mScenario / Variables\u001b[39m\u001b[33m'\u001b[39m] = results_df[\u001b[33m'\u001b[39m\u001b[33mScenario\u001b[39m\u001b[33m'\u001b[39m] + \u001b[33m'\u001b[39m\u001b[33m / \u001b[39m\u001b[33m'\u001b[39m + results_df[\u001b[33m'\u001b[39m\u001b[33mxvar_subset_code\u001b[39m\u001b[33m'\u001b[39m]\n\u001b[32m      6\u001b[39m \u001b[38;5;66;03m#results_df.to_csv(f'../outputs/results_cv5_EN_RF_2xGP_clim_sens_filter_sqrt.csv')\u001b[39;00m\n",
      "\u001b[31mNameError\u001b[39m: name 'results' is not defined"
     ]
    }
   ],
   "source": [
    "cv = 5\n",
    "#results = run_everything(Xy, cv)\n",
    "results_cols = ['Target', 'Scenario', 'xvar_subset_code', 'Regression Model', 'Fold', 'Train Score', 'Test Score']\n",
    "results_df = pd.DataFrame(results, columns=results_cols)\n",
    "results_df['Scenario / Variables'] = results_df['Scenario'] + ' / ' + results_df['xvar_subset_code']\n",
    "#results_df.to_csv(f'../outputs/results_cv5_EN_RF_2xGP_clim_sens_filter_sqrt.csv')"
   ]
  },
  {
   "cell_type": "markdown",
   "metadata": {},
   "source": [
    "Check that the results are the shape we expect:"
   ]
  },
  {
   "cell_type": "code",
   "execution_count": null,
   "metadata": {},
   "outputs": [],
   "source": [
    "results_df.head()"
   ]
  },
  {
   "cell_type": "code",
   "execution_count": null,
   "metadata": {},
   "outputs": [],
   "source": [
    "results_df.shape"
   ]
  },
  {
   "cell_type": "code",
   "execution_count": null,
   "metadata": {},
   "outputs": [],
   "source": [
    "5 * 4 * 2 * 4 * 5 # 5 scenarios (incl ALL), 4 targets, 2 xvar subsets (variant in the case of ALL), 4 regression methods, 5 cv folds"
   ]
  },
  {
   "cell_type": "code",
   "execution_count": null,
   "metadata": {},
   "outputs": [],
   "source": []
  },
  {
   "cell_type": "markdown",
   "metadata": {},
   "source": [
    "# Statistics"
   ]
  },
  {
   "cell_type": "code",
   "execution_count": null,
   "metadata": {},
   "outputs": [],
   "source": [
    "from scipy.stats import ttest_ind"
   ]
  },
  {
   "cell_type": "code",
   "execution_count": null,
   "metadata": {},
   "outputs": [],
   "source": [
    "models = ['ElasticNet', 'RandomForestRegressor', 'PySRRegressor']\n",
    "for model in models:\n",
    "    sub = results_df[(results_df['Regression Model'] == model) & (results_df['Scenario'] != 'ALL')]['Test Score']\n",
    "    print(f'{model} mean {sub.mean():.2f} std {sub.std():.1f}')\n",
    "    for model2 in models:\n",
    "        if model2 != model:\n",
    "            sub2 = results_df[(results_df['Regression Model'] == model2) & (results_df['Scenario'] != 'ALL')]['Test Score']\n",
    "            print(f'{model} {model2} {ttest_ind(sub, sub2)}')"
   ]
  },
  {
   "cell_type": "code",
   "execution_count": null,
   "metadata": {},
   "outputs": [],
   "source": [
    "for model in models:\n",
    "    sub1 = results_df[(results_df['Regression Model'] == model) & (results_df['xvar_subset_code'] == 'small')]['Test Score']\n",
    "    sub2 = results_df[(results_df['Regression Model'] == model) & (results_df['xvar_subset_code'] == 'all')]['Test Score']\n",
    "    print(f'{model} small {sub1.mean():.2f} v all {sub2.mean():.2f}: {ttest_ind(sub1, sub2)}')"
   ]
  },
  {
   "cell_type": "code",
   "execution_count": null,
   "metadata": {},
   "outputs": [],
   "source": [
    "# plot the individual scenario regression results\n",
    "for target in targets:\n",
    "\n",
    "    # we exclude GPAFSRegressor for now\n",
    "    tmp = results_df[(results_df['Target'] == target) & (results_df['Regression Model'] != 'GPAFSRegressor') \n",
    "                     & (results_df['Scenario'] != 'ALL')]\n",
    "\n",
    "    sns.stripplot(tmp, x='Scenario / Variables', y='Train Score', hue='Regression Model');\n",
    "    plt.xticks(rotation=45, ha='right')\n",
    "    plt.ylabel(f'Train $R^2$ on {target}')\n",
    "    plt.tight_layout()\n",
    "    plt.savefig(f'../outputs/results_boxplot_cv5_{target}_train_clim_sens_filter_sqrt.pdf')\n",
    "    plt.close()\n",
    "\n",
    "    sns.stripplot(tmp, x='Scenario / Variables', y='Test Score', hue='Regression Model');\n",
    "    plt.xticks(rotation=45, ha='right')\n",
    "    plt.ylabel(f'Test $R^2$ on {target}')\n",
    "    plt.tight_layout()\n",
    "    plt.savefig(f'../outputs/results_boxplot_cv5_{target}_test_clim_sens_filter_sqrt.pdf')\n",
    "    plt.close()\n"
   ]
  },
  {
   "cell_type": "code",
   "execution_count": null,
   "metadata": {},
   "outputs": [],
   "source": [
    "# plot the *unified* scenario regression results\n",
    "for target in targets:\n",
    "\n",
    "    # we exclude GPAFSRegressor for now\n",
    "    tmp = results_df[(results_df['Target'] == target) & (results_df['Regression Model'] != 'GPAFSRegressor')\n",
    "                     & (results_df['Scenario'] == 'ALL')]\n",
    "\n",
    "    sns.stripplot(tmp, x='Scenario / Variables', y='Train Score', hue='Regression Model');\n",
    "    plt.xticks(rotation=45, ha='right')\n",
    "    plt.ylabel(f'Train $R^2$ on {target}')\n",
    "    plt.tight_layout()\n",
    "    plt.savefig(f'../outputs/results_boxplot_cv5_{target}_unified_scenarios_train_clim_sens_filter_sqrt.pdf')\n",
    "    plt.close()\n",
    "\n",
    "    sns.stripplot(tmp, x='Scenario / Variables', y='Test Score', hue='Regression Model');\n",
    "    plt.xticks(rotation=45, ha='right')\n",
    "    plt.ylabel(f'Test $R^2$ on {target}')\n",
    "    plt.tight_layout()\n",
    "    plt.savefig(f'../outputs/results_boxplot_cv5_{target}_unified_scenarios_test_clim_sens_filter_sqrt.pdf')\n",
    "    plt.close()\n"
   ]
  },
  {
   "cell_type": "markdown",
   "metadata": {},
   "source": [
    "# Interpretation of models\n",
    "\n",
    "## Variable importance and equation interpretation\n",
    "\n",
    "In this section, we'll use a single train-test split and do a single run (per scenerio) for each of EN, RF, and SR\n",
    "as our goal will not be a comparison of performance but an investigation of variable importance.\n",
    "\n",
    "We include each scenario and all variables, not including the scenario-encoding variables.\n",
    "\n",
    "RF gives variable importance directly.\n",
    "\n",
    "EN does not, but we use abs(coefficient_i) * std(x_i)\n",
    "\n",
    "SR we'll just store the equations together with their loss and complexity values."
   ]
  },
  {
   "cell_type": "code",
   "execution_count": null,
   "metadata": {},
   "outputs": [],
   "source": [
    "scenarios = ['BASE_SSP2', '1p5c_OS_SSP2', '2C_SSP2', '2C_SSP2_DA30']\n",
    "\n",
    "import sympy_latex\n",
    "\n",
    "for scenario in scenarios:\n",
    "    Xy_tmp = Xy[Xy['Scenario'] == scenario]\n",
    "    X = Xy_tmp[xvar_subsets['all']]\n",
    "    for target in targets:\n",
    "        y = Xy_tmp[target]\n",
    "        X_train, X_test, y_train, y_test = train_test_split(X, y, test_size=0.2, random_state=1)\n",
    "\n",
    "        for m in [#RandomForestRegressor(), \n",
    "                  #ElasticNet(), \n",
    "                  PySRRegressor(unary_operators=[\"sqrt\"]), \n",
    "                  #GPAFSRegressor(20000, 4000, 0.5, 30, 5, \"symbolic_regression.bnf\", 0.3)]:\n",
    "        ]:\n",
    "\n",
    "            #m.fit(X_train, y_train)\n",
    "            #m.score(X_test, y_test)\n",
    "\n",
    "            if m.__class__.__name__ == 'RandomForestRegressor':\n",
    "                # importance is given directly by the method\n",
    "                imps = list(zip(m.feature_names_in_, m.feature_importances_))\n",
    "                imps.sort(key=lambda x: x[1], reverse=True)\n",
    "                imps = pd.DataFrame(imps, columns=['Feature', 'Importance'])\n",
    "                # print, write importances to csv and to tex\n",
    "                print(imps)\n",
    "                imps.to_csv(f'../outputs/importances_rf_{scenario}_{target}_clim_sens_filter_sqrt.csv')\n",
    "                imps['Feature'] = imps['Feature'].str.replace('_', ' ')\n",
    "                imps.to_latex(f'../outputs/importances_rf_{scenario}_{target}_clim_sens_filter_sqrt.tex', index=False)     \n",
    "            elif m.__class__.__name__ == 'ElasticNet':\n",
    "                # importance is abs(coef) * std deviation of the var\n",
    "                X_std = X_train.std(axis=0)\n",
    "                imps = np.abs(m.coef_) * X_std\n",
    "                imps = list(zip(m.feature_names_in_, imps))\n",
    "                imps.sort(key=lambda x: x[1], reverse=True)\n",
    "                imps = pd.DataFrame(imps, columns=['Feature', 'Importance'])\n",
    "                # print, write importances to csv and to tex\n",
    "                print(imps)\n",
    "                imps.to_csv(f'../outputs/importances_en_{scenario}_{target}_clim_sens_filter_sqrt.csv')\n",
    "                imps['Feature'] = imps['Feature'].str.replace('_', ' ')\n",
    "                imps.to_latex(f'../outputs/importances_en_{scenario}_{target}_clim_sens_filter_sqrt.tex', index=False)\n",
    "            elif m.__class__.__name__ == 'PySRRegressor' or m.__class__.__name__ == 'GPAFSRegressor':\n",
    "\n",
    "                if m.__class__.__name__ == 'PySRRegressor': method = 'sr'\n",
    "                if m.__class__.__name__ == 'GPAFSRegressor': method = 'magpie'\n",
    "\n",
    "                # print, write original equations to csv\n",
    "                #print(m.equations_)\n",
    "                #m.equations_.to_csv(f'../outputs/equations_{method}_{scenario}_{target}_clim_sens_filter_sqrt.csv')\n",
    "                # eqns = m.equations_\n",
    "\n",
    "                eqns = pd.read_csv(f'../outputs/equations_{method}_{scenario}_{target}_clim_sens_filter_sqrt.csv')\n",
    "\n",
    "                # write to latex table, but process first, and only useful columns\n",
    "                eqns = sympy_latex.process_equations_latex(eqns)\n",
    "                eqns = eqns[['vars', 'consts', 'complexity', 'loss', 'equation']]\n",
    "                #eqns['equation'] = eqns['equation'].str.replace('_', ' ')\n",
    "                eqns.to_latex(f'../outputs/equations_{method}_{scenario}_{target}_3cols_clim_sens_filter_sqrt.tex', index=False)\n"
   ]
  },
  {
   "cell_type": "code",
   "execution_count": null,
   "metadata": {},
   "outputs": [],
   "source": []
  }
 ],
 "metadata": {
  "kernelspec": {
   "display_name": ".venv (3.11.9)",
   "language": "python",
   "name": "python3"
  },
  "language_info": {
   "codemirror_mode": {
    "name": "ipython",
    "version": 3
   },
   "file_extension": ".py",
   "mimetype": "text/x-python",
   "name": "python",
   "nbconvert_exporter": "python",
   "pygments_lexer": "ipython3",
   "version": "3.11.9"
  }
 },
 "nbformat": 4,
 "nbformat_minor": 4
}
